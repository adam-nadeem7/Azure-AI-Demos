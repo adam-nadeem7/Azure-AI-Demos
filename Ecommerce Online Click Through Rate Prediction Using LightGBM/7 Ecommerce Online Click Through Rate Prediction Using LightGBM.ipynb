{
  "cells": [
    {
      "cell_type": "markdown",
      "metadata": {
        "nteract": {
          "transient": {
            "deleting": false
          }
        }
      },
      "source": [
        "****Important – Do not use in production, for demonstration purposes only – please review the legal notices before continuing****"
      ]
    },
    {
      "cell_type": "markdown",
      "metadata": {},
      "source": [
        "# Ecommerce Advertisements Click Through Rate Prediction Using LightGBM"
      ]
    },
    {
      "cell_type": "markdown",
      "metadata": {
        "nteract": {
          "transient": {
            "deleting": false
          }
        }
      },
      "source": [
        "An advertising corporation selects the most possible visitors who are most likely to respond to the advertisements by analysing their browsing history and presenting them the  most relevant ads depending on the user's interest by estimating the click-through rate."
      ]
    },
    {
      "cell_type": "markdown",
      "metadata": {
        "nteract": {
          "transient": {
            "deleting": false
          }
        }
      },
      "source": [
        "- id: ad identifier\n",
        "- click: 0/1 for non-click/click\n",
        "- hour: format is YYMMDDHH, so 14091123 means 23:00 on Sept. 11, 2014 UTC.\n",
        "- C1 -- anonymized categorical variable\n",
        "- banner_pos\n",
        "- site_id\n",
        "- site_domain\n",
        "- site_category\n",
        "- app_id\n",
        "- app_domain\n",
        "- app_category\n",
        "- device_id\n",
        "- device_ip\n",
        "- device_model\n",
        "- device_type\n",
        "- device_conn_type\n",
        "- C14-C21 -- anonymized categorical variables"
      ]
    },
    {
      "cell_type": "markdown",
      "metadata": {},
      "source": [
        "### Importing libraries"
      ]
    },
    {
      "cell_type": "code",
      "execution_count": 1,
      "metadata": {},
      "outputs": [],
      "source": [
        "import numpy as np\n",
        "import random\n",
        "from io import BytesIO\n",
        "from azure.storage.blob import ContainerClient, BlobClient\n",
        "import GlobalVariables as gv\n",
        "import pandas as pd\n",
        "n = 40428967  #total number of records in the clickstream data \n",
        "sample_size = 1000000\n",
        "skip_values = sorted(random.sample(range(1,n), n-sample_size)) \n",
        "\n",
        "types_train = {\n",
        "    'id': np.dtype(int),\n",
        "    'click': np.dtype(int),\n",
        "    'hour': np.dtype(int),\n",
        "    'C1': np.dtype(int),\n",
        "    'banner_pos': np.dtype(int),\n",
        "    'site_id': np.dtype(str),\n",
        "    'site_domain': np.dtype(str), \n",
        "    'site_category': np.dtype(str),\n",
        "    'app_id': np.dtype(str),\n",
        "    'app_domain': np.dtype(str),\n",
        "    'app_category': np.dtype(str),\n",
        "    'device_id': np.dtype(str),\n",
        "    'device_ip': np.dtype(str),\n",
        "    'device_model': np.dtype(str),\n",
        "    'device_type': np.dtype(int),\n",
        "    'device_conn_type': np.dtype(int),\n",
        "    'C14': np.dtype(int),\n",
        "    'C15': np.dtype(int),\n",
        "    'C16': np.dtype(int),\n",
        "    'C17': np.dtype(int),\n",
        "    'C18': np.dtype(int),\n",
        "    'C19': np.dtype(int),\n",
        "    'C20': np.dtype(int),\n",
        "    'C21':np.dtype(int)\n",
        "}\n",
        "\n",
        "types_test = {\n",
        "    'id': np.dtype(int),\n",
        "    'hour': np.dtype(int),\n",
        "    'C1': np.dtype(int),\n",
        "    'banner_pos': np.dtype(int),\n",
        "    'site_id': np.dtype(str),\n",
        "    'site_domain': np.dtype(str), \n",
        "    'site_category': np.dtype(str),\n",
        "    'app_id': np.dtype(str),\n",
        "    'app_domain': np.dtype(str),\n",
        "    'app_category': np.dtype(str),\n",
        "    'device_id': np.dtype(str),\n",
        "    'device_ip': np.dtype(str),\n",
        "    'device_model': np.dtype(str),\n",
        "    'device_type': np.dtype(int),\n",
        "    'device_conn_type': np.dtype(int),\n",
        "    'C14': np.dtype(int),\n",
        "    'C15': np.dtype(int),\n",
        "    'C16': np.dtype(int),\n",
        "    'C17': np.dtype(int),\n",
        "    'C18': np.dtype(int),\n",
        "    'C19': np.dtype(int),\n",
        "    'C20': np.dtype(int),\n",
        "    'C21':np.dtype(int)\n",
        "}"
      ]
    },
    {
      "cell_type": "markdown",
      "metadata": {},
      "source": [
        "### Reading data"
      ]
    },
    {
      "cell_type": "code",
      "execution_count": 2,
      "metadata": {},
      "outputs": [],
      "source": [
        "# Reading data from azure blob storage\n",
        "blob = BlobClient.from_connection_string(conn_str=gv.ECOMMERCE_CONNECTION_STRING, container_name = gv.ECOMMERCE_CONTAINER_NAME, blob_name = gv.ECOMMERCE_BLOB_NAME)\n",
        "blob_data = blob.download_blob()\n"
      ]
    },
    {
      "cell_type": "code",
      "execution_count": 3,
      "metadata": {},
      "outputs": [],
      "source": [
        "import gzip\n",
        "parse_date = lambda val : pd.datetime.strptime(val, '%y%m%d%H')\n",
        "with gzip.open(BytesIO(blob_data.content_as_bytes())) as f:\n",
        "    train = pd.read_csv(f, parse_dates = ['hour'], date_parser = parse_date, dtype=types_train, skiprows = skip_values)"
      ]
    },
    {
      "cell_type": "markdown",
      "metadata": {},
      "source": [
        "### EDA "
      ]
    },
    {
      "cell_type": "code",
      "execution_count": 4,
      "metadata": {},
      "outputs": [
        {
          "data": {
            "text/html": [
              "<div>\n",
              "<style scoped>\n",
              "    .dataframe tbody tr th:only-of-type {\n",
              "        vertical-align: middle;\n",
              "    }\n",
              "\n",
              "    .dataframe tbody tr th {\n",
              "        vertical-align: top;\n",
              "    }\n",
              "\n",
              "    .dataframe thead th {\n",
              "        text-align: right;\n",
              "    }\n",
              "</style>\n",
              "<table border=\"1\" class=\"dataframe\">\n",
              "  <thead>\n",
              "    <tr style=\"text-align: right;\">\n",
              "      <th></th>\n",
              "      <th>id</th>\n",
              "      <th>click</th>\n",
              "      <th>hour</th>\n",
              "      <th>C1</th>\n",
              "      <th>banner_pos</th>\n",
              "      <th>site_id</th>\n",
              "      <th>site_domain</th>\n",
              "      <th>site_category</th>\n",
              "      <th>app_id</th>\n",
              "      <th>app_domain</th>\n",
              "      <th>...</th>\n",
              "      <th>device_type</th>\n",
              "      <th>device_conn_type</th>\n",
              "      <th>C14</th>\n",
              "      <th>C15</th>\n",
              "      <th>C16</th>\n",
              "      <th>C17</th>\n",
              "      <th>C18</th>\n",
              "      <th>C19</th>\n",
              "      <th>C20</th>\n",
              "      <th>C21</th>\n",
              "    </tr>\n",
              "  </thead>\n",
              "  <tbody>\n",
              "    <tr>\n",
              "      <th>0</th>\n",
              "      <td>10012820175855462623</td>\n",
              "      <td>0</td>\n",
              "      <td>2014-10-21</td>\n",
              "      <td>1005</td>\n",
              "      <td>0</td>\n",
              "      <td>1fbe01fe</td>\n",
              "      <td>f3845767</td>\n",
              "      <td>28905ebd</td>\n",
              "      <td>ecad2386</td>\n",
              "      <td>7801e8d9</td>\n",
              "      <td>...</td>\n",
              "      <td>1</td>\n",
              "      <td>0</td>\n",
              "      <td>15707</td>\n",
              "      <td>320</td>\n",
              "      <td>50</td>\n",
              "      <td>1722</td>\n",
              "      <td>0</td>\n",
              "      <td>35</td>\n",
              "      <td>-1</td>\n",
              "      <td>79</td>\n",
              "    </tr>\n",
              "    <tr>\n",
              "      <th>1</th>\n",
              "      <td>10015405794859644629</td>\n",
              "      <td>1</td>\n",
              "      <td>2014-10-21</td>\n",
              "      <td>1005</td>\n",
              "      <td>0</td>\n",
              "      <td>1fbe01fe</td>\n",
              "      <td>f3845767</td>\n",
              "      <td>28905ebd</td>\n",
              "      <td>ecad2386</td>\n",
              "      <td>7801e8d9</td>\n",
              "      <td>...</td>\n",
              "      <td>1</td>\n",
              "      <td>0</td>\n",
              "      <td>15701</td>\n",
              "      <td>320</td>\n",
              "      <td>50</td>\n",
              "      <td>1722</td>\n",
              "      <td>0</td>\n",
              "      <td>35</td>\n",
              "      <td>100084</td>\n",
              "      <td>79</td>\n",
              "    </tr>\n",
              "    <tr>\n",
              "      <th>2</th>\n",
              "      <td>1001795364355496701</td>\n",
              "      <td>0</td>\n",
              "      <td>2014-10-21</td>\n",
              "      <td>1005</td>\n",
              "      <td>1</td>\n",
              "      <td>b7e9786d</td>\n",
              "      <td>b12b9f85</td>\n",
              "      <td>f028772b</td>\n",
              "      <td>ecad2386</td>\n",
              "      <td>7801e8d9</td>\n",
              "      <td>...</td>\n",
              "      <td>1</td>\n",
              "      <td>0</td>\n",
              "      <td>19771</td>\n",
              "      <td>320</td>\n",
              "      <td>50</td>\n",
              "      <td>2227</td>\n",
              "      <td>0</td>\n",
              "      <td>687</td>\n",
              "      <td>100081</td>\n",
              "      <td>48</td>\n",
              "    </tr>\n",
              "    <tr>\n",
              "      <th>3</th>\n",
              "      <td>10022915835050310266</td>\n",
              "      <td>0</td>\n",
              "      <td>2014-10-21</td>\n",
              "      <td>1005</td>\n",
              "      <td>1</td>\n",
              "      <td>5b4d2eda</td>\n",
              "      <td>16a36ef3</td>\n",
              "      <td>f028772b</td>\n",
              "      <td>ecad2386</td>\n",
              "      <td>7801e8d9</td>\n",
              "      <td>...</td>\n",
              "      <td>1</td>\n",
              "      <td>0</td>\n",
              "      <td>20362</td>\n",
              "      <td>320</td>\n",
              "      <td>50</td>\n",
              "      <td>2333</td>\n",
              "      <td>0</td>\n",
              "      <td>39</td>\n",
              "      <td>100076</td>\n",
              "      <td>157</td>\n",
              "    </tr>\n",
              "    <tr>\n",
              "      <th>4</th>\n",
              "      <td>10034702490483278389</td>\n",
              "      <td>0</td>\n",
              "      <td>2014-10-21</td>\n",
              "      <td>1005</td>\n",
              "      <td>0</td>\n",
              "      <td>1fbe01fe</td>\n",
              "      <td>f3845767</td>\n",
              "      <td>28905ebd</td>\n",
              "      <td>ecad2386</td>\n",
              "      <td>7801e8d9</td>\n",
              "      <td>...</td>\n",
              "      <td>1</td>\n",
              "      <td>0</td>\n",
              "      <td>15701</td>\n",
              "      <td>320</td>\n",
              "      <td>50</td>\n",
              "      <td>1722</td>\n",
              "      <td>0</td>\n",
              "      <td>35</td>\n",
              "      <td>-1</td>\n",
              "      <td>79</td>\n",
              "    </tr>\n",
              "  </tbody>\n",
              "</table>\n",
              "<p>5 rows × 24 columns</p>\n",
              "</div>"
            ],
            "text/plain": [
              "                     id  click       hour    C1  banner_pos   site_id  \\\n",
              "0  10012820175855462623      0 2014-10-21  1005           0  1fbe01fe   \n",
              "1  10015405794859644629      1 2014-10-21  1005           0  1fbe01fe   \n",
              "2   1001795364355496701      0 2014-10-21  1005           1  b7e9786d   \n",
              "3  10022915835050310266      0 2014-10-21  1005           1  5b4d2eda   \n",
              "4  10034702490483278389      0 2014-10-21  1005           0  1fbe01fe   \n",
              "\n",
              "  site_domain site_category    app_id app_domain  ... device_type  \\\n",
              "0    f3845767      28905ebd  ecad2386   7801e8d9  ...           1   \n",
              "1    f3845767      28905ebd  ecad2386   7801e8d9  ...           1   \n",
              "2    b12b9f85      f028772b  ecad2386   7801e8d9  ...           1   \n",
              "3    16a36ef3      f028772b  ecad2386   7801e8d9  ...           1   \n",
              "4    f3845767      28905ebd  ecad2386   7801e8d9  ...           1   \n",
              "\n",
              "  device_conn_type    C14  C15  C16   C17  C18  C19     C20  C21  \n",
              "0                0  15707  320   50  1722    0   35      -1   79  \n",
              "1                0  15701  320   50  1722    0   35  100084   79  \n",
              "2                0  19771  320   50  2227    0  687  100081   48  \n",
              "3                0  20362  320   50  2333    0   39  100076  157  \n",
              "4                0  15701  320   50  1722    0   35      -1   79  \n",
              "\n",
              "[5 rows x 24 columns]"
            ]
          },
          "execution_count": 4,
          "metadata": {},
          "output_type": "execute_result"
        }
      ],
      "source": [
        "train.head()"
      ]
    },
    {
      "cell_type": "code",
      "execution_count": 5,
      "metadata": {},
      "outputs": [
        {
          "data": {
            "text/plain": [
              "(1000000, 24)"
            ]
          },
          "execution_count": 5,
          "metadata": {},
          "output_type": "execute_result"
        }
      ],
      "source": [
        "train.shape"
      ]
    },
    {
      "cell_type": "code",
      "execution_count": 6,
      "metadata": {},
      "outputs": [
        {
          "data": {
            "text/plain": [
              "id                          uint64\n",
              "click                        int64\n",
              "hour                datetime64[ns]\n",
              "C1                           int64\n",
              "banner_pos                   int64\n",
              "site_id                     object\n",
              "site_domain                 object\n",
              "site_category               object\n",
              "app_id                      object\n",
              "app_domain                  object\n",
              "app_category                object\n",
              "device_id                   object\n",
              "device_ip                   object\n",
              "device_model                object\n",
              "device_type                  int64\n",
              "device_conn_type             int64\n",
              "C14                          int64\n",
              "C15                          int64\n",
              "C16                          int64\n",
              "C17                          int64\n",
              "C18                          int64\n",
              "C19                          int64\n",
              "C20                          int64\n",
              "C21                          int64\n",
              "dtype: object"
            ]
          },
          "execution_count": 6,
          "metadata": {},
          "output_type": "execute_result"
        }
      ],
      "source": [
        "train.dtypes"
      ]
    },
    {
      "cell_type": "markdown",
      "metadata": {},
      "source": [
        "Target feature -> click\n",
        "\n",
        "site features -> site_id, site_domain, site_category\n",
        "\n",
        "app feature -> app_id, app_domain, app_category\n",
        "\n",
        "device feature -> device_id, device_ip, device_model, device_type, device_conn_type\n",
        "\n",
        "anonymized categorical features -> C14-C21"
      ]
    },
    {
      "cell_type": "code",
      "execution_count": 7,
      "metadata": {},
      "outputs": [
        {
          "data": {
            "text/plain": [
              "0    830504\n",
              "1    169496\n",
              "Name: click, dtype: int64"
            ]
          },
          "execution_count": 7,
          "metadata": {},
          "output_type": "execute_result"
        }
      ],
      "source": [
        "train['click'].value_counts()"
      ]
    },
    {
      "cell_type": "code",
      "execution_count": 8,
      "metadata": {},
      "outputs": [
        {
          "data": {
            "image/png": "[encoded data removed]",
            "text/plain": [
              "<Figure size 432x288 with 1 Axes>"
            ]
          },
          "metadata": {
            "needs_background": "light"
          },
          "output_type": "display_data"
        }
      ],
      "source": [
        "import seaborn as sns\n",
        "import matplotlib.pyplot as plt\n",
        "\n",
        "sns.countplot(x='click',data=train, palette='hls')\n",
        "plt.show();"
      ]
    },
    {
      "cell_type": "code",
      "execution_count": 9,
      "metadata": {},
      "outputs": [
        {
          "data": {
            "text/plain": [
              "0    0.830504\n",
              "1    0.169496\n",
              "Name: click, dtype: float64"
            ]
          },
          "execution_count": 9,
          "metadata": {},
          "output_type": "execute_result"
        }
      ],
      "source": [
        "train['click'].value_counts()/len(train)"
      ]
    },
    {
      "cell_type": "markdown",
      "metadata": {},
      "source": [
        "Click through rate is approx. 17%, and approx. 83% is not clicked. "
      ]
    },
    {
      "cell_type": "code",
      "execution_count": 10,
      "metadata": {},
      "outputs": [
        {
          "data": {
            "text/plain": [
              "count                 1000000\n",
              "unique                    240\n",
              "top       2014-10-22 09:00:00\n",
              "freq                    10977\n",
              "first     2014-10-21 00:00:00\n",
              "last      2014-10-30 23:00:00\n",
              "Name: hour, dtype: object"
            ]
          },
          "execution_count": 10,
          "metadata": {},
          "output_type": "execute_result"
        }
      ],
      "source": [
        "train.hour.describe()"
      ]
    },
    {
      "cell_type": "markdown",
      "metadata": {},
      "source": [
        "The data covers 10 days of click streams data from 2014-10-21 to 2014-10-30, that is 240 hours."
      ]
    },
    {
      "cell_type": "code",
      "execution_count": 11,
      "metadata": {},
      "outputs": [
        {
          "data": {
            "image/png": "[encoded data removed]",
            "text/plain": [
              "<Figure size 864x432 with 1 Axes>"
            ]
          },
          "metadata": {
            "needs_background": "light"
          },
          "output_type": "display_data"
        }
      ],
      "source": [
        "train.groupby('hour').agg({'click':'sum'}).plot(figsize=(12,6))\n",
        "plt.ylabel('Number of clicks')\n",
        "plt.title('Number of clicks by hour');"
      ]
    },
    {
      "cell_type": "markdown",
      "metadata": {},
      "source": [
        "The hourly clicks pattern looks pretty similar every day. However, there were a couple of peak hours, one is sometime in the mid of the day on Oct 22, and another is sometime in the mid of the day on Oct 28. And one off-peak hour is close to mid-night on Oct 24."
      ]
    },
    {
      "cell_type": "markdown",
      "metadata": {},
      "source": [
        "###  Feature engineering for date time features\n",
        "\n",
        "#### Hour\n",
        "\n",
        "Extract hour from date time feature."
      ]
    },
    {
      "cell_type": "code",
      "execution_count": 12,
      "metadata": {},
      "outputs": [
        {
          "data": {
            "image/png": "[encoded data removed]",
            "text/plain": [
              "<Figure size 864x432 with 1 Axes>"
            ]
          },
          "metadata": {
            "needs_background": "light"
          },
          "output_type": "display_data"
        }
      ],
      "source": [
        "train['hour_of_day'] = train.hour.apply(lambda x: x.hour)\n",
        "train.groupby('hour_of_day').agg({'click':'sum'}).plot(figsize=(12,6))\n",
        "plt.ylabel('Number of clicks')\n",
        "plt.title('click trends by hour of day');"
      ]
    },
    {
      "cell_type": "markdown",
      "metadata": {},
      "source": [
        "In general, the highest number of clicks is at hour 13 and 14 (1pm and 2pm), and the least number of clicks is at hour 0 (mid-night). It seems a useful feature for roughly estimation."
      ]
    },
    {
      "cell_type": "code",
      "execution_count": 13,
      "metadata": {},
      "outputs": [
        {
          "data": {
            "text/html": [
              "<div>\n",
              "<style scoped>\n",
              "    .dataframe tbody tr th:only-of-type {\n",
              "        vertical-align: middle;\n",
              "    }\n",
              "\n",
              "    .dataframe tbody tr th {\n",
              "        vertical-align: top;\n",
              "    }\n",
              "\n",
              "    .dataframe thead th {\n",
              "        text-align: right;\n",
              "    }\n",
              "</style>\n",
              "<table border=\"1\" class=\"dataframe\">\n",
              "  <thead>\n",
              "    <tr style=\"text-align: right;\">\n",
              "      <th></th>\n",
              "      <th>id</th>\n",
              "      <th>click</th>\n",
              "      <th>hour</th>\n",
              "      <th>C1</th>\n",
              "      <th>banner_pos</th>\n",
              "      <th>site_id</th>\n",
              "      <th>site_domain</th>\n",
              "      <th>site_category</th>\n",
              "      <th>app_id</th>\n",
              "      <th>app_domain</th>\n",
              "      <th>...</th>\n",
              "      <th>device_conn_type</th>\n",
              "      <th>C14</th>\n",
              "      <th>C15</th>\n",
              "      <th>C16</th>\n",
              "      <th>C17</th>\n",
              "      <th>C18</th>\n",
              "      <th>C19</th>\n",
              "      <th>C20</th>\n",
              "      <th>C21</th>\n",
              "      <th>hour_of_day</th>\n",
              "    </tr>\n",
              "  </thead>\n",
              "  <tbody>\n",
              "    <tr>\n",
              "      <th>0</th>\n",
              "      <td>10012820175855462623</td>\n",
              "      <td>0</td>\n",
              "      <td>2014-10-21</td>\n",
              "      <td>1005</td>\n",
              "      <td>0</td>\n",
              "      <td>1fbe01fe</td>\n",
              "      <td>f3845767</td>\n",
              "      <td>28905ebd</td>\n",
              "      <td>ecad2386</td>\n",
              "      <td>7801e8d9</td>\n",
              "      <td>...</td>\n",
              "      <td>0</td>\n",
              "      <td>15707</td>\n",
              "      <td>320</td>\n",
              "      <td>50</td>\n",
              "      <td>1722</td>\n",
              "      <td>0</td>\n",
              "      <td>35</td>\n",
              "      <td>-1</td>\n",
              "      <td>79</td>\n",
              "      <td>0</td>\n",
              "    </tr>\n",
              "    <tr>\n",
              "      <th>1</th>\n",
              "      <td>10015405794859644629</td>\n",
              "      <td>1</td>\n",
              "      <td>2014-10-21</td>\n",
              "      <td>1005</td>\n",
              "      <td>0</td>\n",
              "      <td>1fbe01fe</td>\n",
              "      <td>f3845767</td>\n",
              "      <td>28905ebd</td>\n",
              "      <td>ecad2386</td>\n",
              "      <td>7801e8d9</td>\n",
              "      <td>...</td>\n",
              "      <td>0</td>\n",
              "      <td>15701</td>\n",
              "      <td>320</td>\n",
              "      <td>50</td>\n",
              "      <td>1722</td>\n",
              "      <td>0</td>\n",
              "      <td>35</td>\n",
              "      <td>100084</td>\n",
              "      <td>79</td>\n",
              "      <td>0</td>\n",
              "    </tr>\n",
              "    <tr>\n",
              "      <th>2</th>\n",
              "      <td>1001795364355496701</td>\n",
              "      <td>0</td>\n",
              "      <td>2014-10-21</td>\n",
              "      <td>1005</td>\n",
              "      <td>1</td>\n",
              "      <td>b7e9786d</td>\n",
              "      <td>b12b9f85</td>\n",
              "      <td>f028772b</td>\n",
              "      <td>ecad2386</td>\n",
              "      <td>7801e8d9</td>\n",
              "      <td>...</td>\n",
              "      <td>0</td>\n",
              "      <td>19771</td>\n",
              "      <td>320</td>\n",
              "      <td>50</td>\n",
              "      <td>2227</td>\n",
              "      <td>0</td>\n",
              "      <td>687</td>\n",
              "      <td>100081</td>\n",
              "      <td>48</td>\n",
              "      <td>0</td>\n",
              "    </tr>\n",
              "  </tbody>\n",
              "</table>\n",
              "<p>3 rows × 25 columns</p>\n",
              "</div>"
            ],
            "text/plain": [
              "                     id  click       hour    C1  banner_pos   site_id  \\\n",
              "0  10012820175855462623      0 2014-10-21  1005           0  1fbe01fe   \n",
              "1  10015405794859644629      1 2014-10-21  1005           0  1fbe01fe   \n",
              "2   1001795364355496701      0 2014-10-21  1005           1  b7e9786d   \n",
              "\n",
              "  site_domain site_category    app_id app_domain  ... device_conn_type    C14  \\\n",
              "0    f3845767      28905ebd  ecad2386   7801e8d9  ...                0  15707   \n",
              "1    f3845767      28905ebd  ecad2386   7801e8d9  ...                0  15701   \n",
              "2    b12b9f85      f028772b  ecad2386   7801e8d9  ...                0  19771   \n",
              "\n",
              "   C15 C16   C17  C18  C19     C20  C21  hour_of_day  \n",
              "0  320  50  1722    0   35      -1   79            0  \n",
              "1  320  50  1722    0   35  100084   79            0  \n",
              "2  320  50  2227    0  687  100081   48            0  \n",
              "\n",
              "[3 rows x 25 columns]"
            ]
          },
          "execution_count": 13,
          "metadata": {},
          "output_type": "execute_result"
        }
      ],
      "source": [
        "train.head(3)"
      ]
    },
    {
      "cell_type": "markdown",
      "metadata": {},
      "source": [
        "Let's take impressions into consideration."
      ]
    },
    {
      "cell_type": "code",
      "execution_count": 14,
      "metadata": {},
      "outputs": [
        {
          "data": {
            "image/png": "[encoded data removed]",
            "text/plain": [
              "<Figure size 864x432 with 1 Axes>"
            ]
          },
          "metadata": {
            "needs_background": "light"
          },
          "output_type": "display_data"
        }
      ],
      "source": [
        "train.groupby(['hour_of_day', 'click']).size().unstack().plot(kind='bar', title=\"Hour of Day\", figsize=(12,6))\n",
        "plt.ylabel('count')\n",
        "plt.title('Hourly impressions vs. clicks');"
      ]
    },
    {
      "cell_type": "markdown",
      "metadata": {},
      "source": [
        "There is nothing shocking here."
      ]
    },
    {
      "cell_type": "code",
      "execution_count": 15,
      "metadata": {},
      "outputs": [
        {
          "data": {
            "text/html": [
              "<div>\n",
              "<style scoped>\n",
              "    .dataframe tbody tr th:only-of-type {\n",
              "        vertical-align: middle;\n",
              "    }\n",
              "\n",
              "    .dataframe tbody tr th {\n",
              "        vertical-align: top;\n",
              "    }\n",
              "\n",
              "    .dataframe thead th {\n",
              "        text-align: right;\n",
              "    }\n",
              "</style>\n",
              "<table border=\"1\" class=\"dataframe\">\n",
              "  <thead>\n",
              "    <tr style=\"text-align: right;\">\n",
              "      <th></th>\n",
              "      <th>id</th>\n",
              "      <th>click</th>\n",
              "      <th>hour</th>\n",
              "      <th>C1</th>\n",
              "      <th>banner_pos</th>\n",
              "      <th>site_id</th>\n",
              "      <th>site_domain</th>\n",
              "      <th>site_category</th>\n",
              "      <th>app_id</th>\n",
              "      <th>app_domain</th>\n",
              "      <th>...</th>\n",
              "      <th>device_conn_type</th>\n",
              "      <th>C14</th>\n",
              "      <th>C15</th>\n",
              "      <th>C16</th>\n",
              "      <th>C17</th>\n",
              "      <th>C18</th>\n",
              "      <th>C19</th>\n",
              "      <th>C20</th>\n",
              "      <th>C21</th>\n",
              "      <th>hour_of_day</th>\n",
              "    </tr>\n",
              "  </thead>\n",
              "  <tbody>\n",
              "    <tr>\n",
              "      <th>0</th>\n",
              "      <td>10012820175855462623</td>\n",
              "      <td>0</td>\n",
              "      <td>2014-10-21</td>\n",
              "      <td>1005</td>\n",
              "      <td>0</td>\n",
              "      <td>1fbe01fe</td>\n",
              "      <td>f3845767</td>\n",
              "      <td>28905ebd</td>\n",
              "      <td>ecad2386</td>\n",
              "      <td>7801e8d9</td>\n",
              "      <td>...</td>\n",
              "      <td>0</td>\n",
              "      <td>15707</td>\n",
              "      <td>320</td>\n",
              "      <td>50</td>\n",
              "      <td>1722</td>\n",
              "      <td>0</td>\n",
              "      <td>35</td>\n",
              "      <td>-1</td>\n",
              "      <td>79</td>\n",
              "      <td>0</td>\n",
              "    </tr>\n",
              "    <tr>\n",
              "      <th>1</th>\n",
              "      <td>10015405794859644629</td>\n",
              "      <td>1</td>\n",
              "      <td>2014-10-21</td>\n",
              "      <td>1005</td>\n",
              "      <td>0</td>\n",
              "      <td>1fbe01fe</td>\n",
              "      <td>f3845767</td>\n",
              "      <td>28905ebd</td>\n",
              "      <td>ecad2386</td>\n",
              "      <td>7801e8d9</td>\n",
              "      <td>...</td>\n",
              "      <td>0</td>\n",
              "      <td>15701</td>\n",
              "      <td>320</td>\n",
              "      <td>50</td>\n",
              "      <td>1722</td>\n",
              "      <td>0</td>\n",
              "      <td>35</td>\n",
              "      <td>100084</td>\n",
              "      <td>79</td>\n",
              "      <td>0</td>\n",
              "    </tr>\n",
              "    <tr>\n",
              "      <th>2</th>\n",
              "      <td>1001795364355496701</td>\n",
              "      <td>0</td>\n",
              "      <td>2014-10-21</td>\n",
              "      <td>1005</td>\n",
              "      <td>1</td>\n",
              "      <td>b7e9786d</td>\n",
              "      <td>b12b9f85</td>\n",
              "      <td>f028772b</td>\n",
              "      <td>ecad2386</td>\n",
              "      <td>7801e8d9</td>\n",
              "      <td>...</td>\n",
              "      <td>0</td>\n",
              "      <td>19771</td>\n",
              "      <td>320</td>\n",
              "      <td>50</td>\n",
              "      <td>2227</td>\n",
              "      <td>0</td>\n",
              "      <td>687</td>\n",
              "      <td>100081</td>\n",
              "      <td>48</td>\n",
              "      <td>0</td>\n",
              "    </tr>\n",
              "  </tbody>\n",
              "</table>\n",
              "<p>3 rows × 25 columns</p>\n",
              "</div>"
            ],
            "text/plain": [
              "                     id  click       hour    C1  banner_pos   site_id  \\\n",
              "0  10012820175855462623      0 2014-10-21  1005           0  1fbe01fe   \n",
              "1  10015405794859644629      1 2014-10-21  1005           0  1fbe01fe   \n",
              "2   1001795364355496701      0 2014-10-21  1005           1  b7e9786d   \n",
              "\n",
              "  site_domain site_category    app_id app_domain  ... device_conn_type    C14  \\\n",
              "0    f3845767      28905ebd  ecad2386   7801e8d9  ...                0  15707   \n",
              "1    f3845767      28905ebd  ecad2386   7801e8d9  ...                0  15701   \n",
              "2    b12b9f85      f028772b  ecad2386   7801e8d9  ...                0  19771   \n",
              "\n",
              "   C15 C16   C17  C18  C19     C20  C21  hour_of_day  \n",
              "0  320  50  1722    0   35      -1   79            0  \n",
              "1  320  50  1722    0   35  100084   79            0  \n",
              "2  320  50  2227    0  687  100081   48            0  \n",
              "\n",
              "[3 rows x 25 columns]"
            ]
          },
          "execution_count": 15,
          "metadata": {},
          "output_type": "execute_result"
        }
      ],
      "source": [
        "train.head(3)"
      ]
    },
    {
      "cell_type": "markdown",
      "metadata": {},
      "source": [
        "Now that we have click and impression. We can calculate Click-through rate (CTR). CTR is the ratio of ad clicks to impressions. It measures the rate of clicks on each ad."
      ]
    },
    {
      "cell_type": "markdown",
      "metadata": {},
      "source": [
        "#### Hourly CTR"
      ]
    },
    {
      "cell_type": "code",
      "execution_count": 16,
      "metadata": {},
      "outputs": [
        {
          "data": {
            "image/png": "[encoded data removed]",
            "text/plain": [
              "<Figure size 864x432 with 1 Axes>"
            ]
          },
          "metadata": {
            "needs_background": "light"
          },
          "output_type": "display_data"
        }
      ],
      "source": [
        "import seaborn as sns\n",
        "\n",
        "df_click = train[train['click'] == 1]\n",
        "df_hour = train[['hour_of_day','click']].groupby(['hour_of_day']).count().reset_index()\n",
        "df_hour = df_hour.rename(columns={'click': 'impressions'})\n",
        "df_hour['clicks'] = df_click[['hour_of_day','click']].groupby(['hour_of_day']).count().reset_index()['click']\n",
        "df_hour['CTR'] = df_hour['clicks']/df_hour['impressions']*100\n",
        "\n",
        "plt.figure(figsize=(12,6))\n",
        "sns.barplot(y='CTR', x='hour_of_day', data=df_hour)\n",
        "plt.title('Hourly CTR');"
      ]
    },
    {
      "cell_type": "markdown",
      "metadata": {},
      "source": [
        "One of the interesting observations here is that the highest CTR happened in the hour of mid-night, 1, 7 and 15. If you remember, around mid-night has the least number of impressions and clicks."
      ]
    },
    {
      "cell_type": "markdown",
      "metadata": {},
      "source": [
        "#### Day of week"
      ]
    },
    {
      "cell_type": "code",
      "execution_count": 17,
      "metadata": {},
      "outputs": [
        {
          "name": "stderr",
          "output_type": "stream",
          "text": [
            "/anaconda/envs/azureml_py36/lib/python3.6/site-packages/ipykernel_launcher.py:1: FutureWarning: `weekday_name` is deprecated and will be removed in a future version. Use `day_name` instead\n",
            "  \"\"\"Entry point for launching an IPython kernel.\n"
          ]
        },
        {
          "data": {
            "image/png": "[encoded data removed]",
            "text/plain": [
              "<Figure size 864x432 with 1 Axes>"
            ]
          },
          "metadata": {
            "needs_background": "light"
          },
          "output_type": "display_data"
        }
      ],
      "source": [
        "train['day_of_week'] = train['hour'].apply(lambda val: val.weekday_name)\n",
        "cats = ['Monday', 'Tuesday', 'Wednesday', 'Thursday', 'Friday', 'Saturday', 'Sunday']\n",
        "train.groupby('day_of_week').agg({'click':'sum'}).reindex(cats).plot(figsize=(12,6))\n",
        "ticks = list(range(0, 7, 1)) # points on the x axis where you want the label to appear\n",
        "labels = \"Mon Tues Weds Thurs Fri Sat Sun\".split()\n",
        "plt.xticks(ticks, labels)\n",
        "plt.title('click trends by day of week');"
      ]
    },
    {
      "cell_type": "code",
      "execution_count": 18,
      "metadata": {},
      "outputs": [
        {
          "data": {
            "image/png": "[encoded data removed]",
            "text/plain": [
              "<Figure size 864x432 with 1 Axes>"
            ]
          },
          "metadata": {
            "needs_background": "light"
          },
          "output_type": "display_data"
        }
      ],
      "source": [
        "train.groupby(['day_of_week','click']).size().unstack().reindex(cats).plot(kind='bar', title=\"Day of the Week\", figsize=(12,6))\n",
        "ticks = list(range(0, 7, 1)) # points on the x axis where you want the label to appear\n",
        "labels = \"Mon Tues Weds Thurs Fri Sat Sun\".split()\n",
        "plt.xticks(ticks, labels)\n",
        "plt.title('Impressions vs. clicks by day of week');"
      ]
    },
    {
      "cell_type": "markdown",
      "metadata": {},
      "source": [
        "Tuesdays have the most impressions and clicks, then Wednesdays, followed by Thursdays. Mondays and Fridays have the least number of impressions and clicks."
      ]
    },
    {
      "cell_type": "markdown",
      "metadata": {},
      "source": [
        "#### Day of week CTR"
      ]
    },
    {
      "cell_type": "code",
      "execution_count": 19,
      "metadata": {},
      "outputs": [
        {
          "data": {
            "text/html": [
              "<div>\n",
              "<style scoped>\n",
              "    .dataframe tbody tr th:only-of-type {\n",
              "        vertical-align: middle;\n",
              "    }\n",
              "\n",
              "    .dataframe tbody tr th {\n",
              "        vertical-align: top;\n",
              "    }\n",
              "\n",
              "    .dataframe thead th {\n",
              "        text-align: right;\n",
              "    }\n",
              "</style>\n",
              "<table border=\"1\" class=\"dataframe\">\n",
              "  <thead>\n",
              "    <tr style=\"text-align: right;\">\n",
              "      <th></th>\n",
              "      <th>id</th>\n",
              "      <th>click</th>\n",
              "      <th>hour</th>\n",
              "      <th>C1</th>\n",
              "      <th>banner_pos</th>\n",
              "      <th>site_id</th>\n",
              "      <th>site_domain</th>\n",
              "      <th>site_category</th>\n",
              "      <th>app_id</th>\n",
              "      <th>app_domain</th>\n",
              "      <th>...</th>\n",
              "      <th>C14</th>\n",
              "      <th>C15</th>\n",
              "      <th>C16</th>\n",
              "      <th>C17</th>\n",
              "      <th>C18</th>\n",
              "      <th>C19</th>\n",
              "      <th>C20</th>\n",
              "      <th>C21</th>\n",
              "      <th>hour_of_day</th>\n",
              "      <th>day_of_week</th>\n",
              "    </tr>\n",
              "  </thead>\n",
              "  <tbody>\n",
              "    <tr>\n",
              "      <th>0</th>\n",
              "      <td>10012820175855462623</td>\n",
              "      <td>0</td>\n",
              "      <td>2014-10-21</td>\n",
              "      <td>1005</td>\n",
              "      <td>0</td>\n",
              "      <td>1fbe01fe</td>\n",
              "      <td>f3845767</td>\n",
              "      <td>28905ebd</td>\n",
              "      <td>ecad2386</td>\n",
              "      <td>7801e8d9</td>\n",
              "      <td>...</td>\n",
              "      <td>15707</td>\n",
              "      <td>320</td>\n",
              "      <td>50</td>\n",
              "      <td>1722</td>\n",
              "      <td>0</td>\n",
              "      <td>35</td>\n",
              "      <td>-1</td>\n",
              "      <td>79</td>\n",
              "      <td>0</td>\n",
              "      <td>Tuesday</td>\n",
              "    </tr>\n",
              "    <tr>\n",
              "      <th>1</th>\n",
              "      <td>10015405794859644629</td>\n",
              "      <td>1</td>\n",
              "      <td>2014-10-21</td>\n",
              "      <td>1005</td>\n",
              "      <td>0</td>\n",
              "      <td>1fbe01fe</td>\n",
              "      <td>f3845767</td>\n",
              "      <td>28905ebd</td>\n",
              "      <td>ecad2386</td>\n",
              "      <td>7801e8d9</td>\n",
              "      <td>...</td>\n",
              "      <td>15701</td>\n",
              "      <td>320</td>\n",
              "      <td>50</td>\n",
              "      <td>1722</td>\n",
              "      <td>0</td>\n",
              "      <td>35</td>\n",
              "      <td>100084</td>\n",
              "      <td>79</td>\n",
              "      <td>0</td>\n",
              "      <td>Tuesday</td>\n",
              "    </tr>\n",
              "    <tr>\n",
              "      <th>2</th>\n",
              "      <td>1001795364355496701</td>\n",
              "      <td>0</td>\n",
              "      <td>2014-10-21</td>\n",
              "      <td>1005</td>\n",
              "      <td>1</td>\n",
              "      <td>b7e9786d</td>\n",
              "      <td>b12b9f85</td>\n",
              "      <td>f028772b</td>\n",
              "      <td>ecad2386</td>\n",
              "      <td>7801e8d9</td>\n",
              "      <td>...</td>\n",
              "      <td>19771</td>\n",
              "      <td>320</td>\n",
              "      <td>50</td>\n",
              "      <td>2227</td>\n",
              "      <td>0</td>\n",
              "      <td>687</td>\n",
              "      <td>100081</td>\n",
              "      <td>48</td>\n",
              "      <td>0</td>\n",
              "      <td>Tuesday</td>\n",
              "    </tr>\n",
              "  </tbody>\n",
              "</table>\n",
              "<p>3 rows × 26 columns</p>\n",
              "</div>"
            ],
            "text/plain": [
              "                     id  click       hour    C1  banner_pos   site_id  \\\n",
              "0  10012820175855462623      0 2014-10-21  1005           0  1fbe01fe   \n",
              "1  10015405794859644629      1 2014-10-21  1005           0  1fbe01fe   \n",
              "2   1001795364355496701      0 2014-10-21  1005           1  b7e9786d   \n",
              "\n",
              "  site_domain site_category    app_id app_domain  ...    C14  C15 C16   C17  \\\n",
              "0    f3845767      28905ebd  ecad2386   7801e8d9  ...  15707  320  50  1722   \n",
              "1    f3845767      28905ebd  ecad2386   7801e8d9  ...  15701  320  50  1722   \n",
              "2    b12b9f85      f028772b  ecad2386   7801e8d9  ...  19771  320  50  2227   \n",
              "\n",
              "   C18  C19     C20  C21  hour_of_day  day_of_week  \n",
              "0    0   35      -1   79            0      Tuesday  \n",
              "1    0   35  100084   79            0      Tuesday  \n",
              "2    0  687  100081   48            0      Tuesday  \n",
              "\n",
              "[3 rows x 26 columns]"
            ]
          },
          "execution_count": 19,
          "metadata": {},
          "output_type": "execute_result"
        }
      ],
      "source": [
        "train.head(3)"
      ]
    },
    {
      "cell_type": "code",
      "execution_count": 20,
      "metadata": {},
      "outputs": [
        {
          "data": {
            "image/png": "[encoded data removed]",
            "text/plain": [
              "<Figure size 864x432 with 1 Axes>"
            ]
          },
          "metadata": {
            "needs_background": "light"
          },
          "output_type": "display_data"
        }
      ],
      "source": [
        "df_click = train[train['click'] == 1]\n",
        "df_dayofweek = train[['day_of_week','click']].groupby(['day_of_week']).count().reset_index()\n",
        "df_dayofweek = df_dayofweek.rename(columns={'click': 'impressions'})\n",
        "df_dayofweek['clicks'] = df_click[['day_of_week','click']].groupby(['day_of_week']).count().reset_index()['click']\n",
        "df_dayofweek['CTR'] = df_dayofweek['clicks']/df_dayofweek['impressions']*100\n",
        "\n",
        "plt.figure(figsize=(12,6))\n",
        "sns.barplot(y='CTR', x='day_of_week', data=df_dayofweek, order=['Monday', 'Tuesday', 'Wednesday', 'Thursday', 'Friday', 'Saturday', 'Sunday'])\n",
        "plt.title('Day of week CTR');"
      ]
    },
    {
      "cell_type": "markdown",
      "metadata": {},
      "source": [
        "While Tuesdays and Wednesdays have the highest number of impressions and clicks, their CTR are among the lowest. Saturdays and Sundays enjoy the highest CTR. Apparently, people have more time to click over the weekend."
      ]
    },
    {
      "cell_type": "code",
      "execution_count": 21,
      "metadata": {},
      "outputs": [
        {
          "data": {
            "text/html": [
              "<div>\n",
              "<style scoped>\n",
              "    .dataframe tbody tr th:only-of-type {\n",
              "        vertical-align: middle;\n",
              "    }\n",
              "\n",
              "    .dataframe tbody tr th {\n",
              "        vertical-align: top;\n",
              "    }\n",
              "\n",
              "    .dataframe thead th {\n",
              "        text-align: right;\n",
              "    }\n",
              "</style>\n",
              "<table border=\"1\" class=\"dataframe\">\n",
              "  <thead>\n",
              "    <tr style=\"text-align: right;\">\n",
              "      <th></th>\n",
              "      <th>id</th>\n",
              "      <th>click</th>\n",
              "      <th>hour</th>\n",
              "      <th>C1</th>\n",
              "      <th>banner_pos</th>\n",
              "      <th>site_id</th>\n",
              "      <th>site_domain</th>\n",
              "      <th>site_category</th>\n",
              "      <th>app_id</th>\n",
              "      <th>app_domain</th>\n",
              "      <th>...</th>\n",
              "      <th>C14</th>\n",
              "      <th>C15</th>\n",
              "      <th>C16</th>\n",
              "      <th>C17</th>\n",
              "      <th>C18</th>\n",
              "      <th>C19</th>\n",
              "      <th>C20</th>\n",
              "      <th>C21</th>\n",
              "      <th>hour_of_day</th>\n",
              "      <th>day_of_week</th>\n",
              "    </tr>\n",
              "  </thead>\n",
              "  <tbody>\n",
              "    <tr>\n",
              "      <th>0</th>\n",
              "      <td>10012820175855462623</td>\n",
              "      <td>0</td>\n",
              "      <td>2014-10-21</td>\n",
              "      <td>1005</td>\n",
              "      <td>0</td>\n",
              "      <td>1fbe01fe</td>\n",
              "      <td>f3845767</td>\n",
              "      <td>28905ebd</td>\n",
              "      <td>ecad2386</td>\n",
              "      <td>7801e8d9</td>\n",
              "      <td>...</td>\n",
              "      <td>15707</td>\n",
              "      <td>320</td>\n",
              "      <td>50</td>\n",
              "      <td>1722</td>\n",
              "      <td>0</td>\n",
              "      <td>35</td>\n",
              "      <td>-1</td>\n",
              "      <td>79</td>\n",
              "      <td>0</td>\n",
              "      <td>Tuesday</td>\n",
              "    </tr>\n",
              "    <tr>\n",
              "      <th>1</th>\n",
              "      <td>10015405794859644629</td>\n",
              "      <td>1</td>\n",
              "      <td>2014-10-21</td>\n",
              "      <td>1005</td>\n",
              "      <td>0</td>\n",
              "      <td>1fbe01fe</td>\n",
              "      <td>f3845767</td>\n",
              "      <td>28905ebd</td>\n",
              "      <td>ecad2386</td>\n",
              "      <td>7801e8d9</td>\n",
              "      <td>...</td>\n",
              "      <td>15701</td>\n",
              "      <td>320</td>\n",
              "      <td>50</td>\n",
              "      <td>1722</td>\n",
              "      <td>0</td>\n",
              "      <td>35</td>\n",
              "      <td>100084</td>\n",
              "      <td>79</td>\n",
              "      <td>0</td>\n",
              "      <td>Tuesday</td>\n",
              "    </tr>\n",
              "    <tr>\n",
              "      <th>2</th>\n",
              "      <td>1001795364355496701</td>\n",
              "      <td>0</td>\n",
              "      <td>2014-10-21</td>\n",
              "      <td>1005</td>\n",
              "      <td>1</td>\n",
              "      <td>b7e9786d</td>\n",
              "      <td>b12b9f85</td>\n",
              "      <td>f028772b</td>\n",
              "      <td>ecad2386</td>\n",
              "      <td>7801e8d9</td>\n",
              "      <td>...</td>\n",
              "      <td>19771</td>\n",
              "      <td>320</td>\n",
              "      <td>50</td>\n",
              "      <td>2227</td>\n",
              "      <td>0</td>\n",
              "      <td>687</td>\n",
              "      <td>100081</td>\n",
              "      <td>48</td>\n",
              "      <td>0</td>\n",
              "      <td>Tuesday</td>\n",
              "    </tr>\n",
              "  </tbody>\n",
              "</table>\n",
              "<p>3 rows × 26 columns</p>\n",
              "</div>"
            ],
            "text/plain": [
              "                     id  click       hour    C1  banner_pos   site_id  \\\n",
              "0  10012820175855462623      0 2014-10-21  1005           0  1fbe01fe   \n",
              "1  10015405794859644629      1 2014-10-21  1005           0  1fbe01fe   \n",
              "2   1001795364355496701      0 2014-10-21  1005           1  b7e9786d   \n",
              "\n",
              "  site_domain site_category    app_id app_domain  ...    C14  C15 C16   C17  \\\n",
              "0    f3845767      28905ebd  ecad2386   7801e8d9  ...  15707  320  50  1722   \n",
              "1    f3845767      28905ebd  ecad2386   7801e8d9  ...  15701  320  50  1722   \n",
              "2    b12b9f85      f028772b  ecad2386   7801e8d9  ...  19771  320  50  2227   \n",
              "\n",
              "   C18  C19     C20  C21  hour_of_day  day_of_week  \n",
              "0    0   35      -1   79            0      Tuesday  \n",
              "1    0   35  100084   79            0      Tuesday  \n",
              "2    0  687  100081   48            0      Tuesday  \n",
              "\n",
              "[3 rows x 26 columns]"
            ]
          },
          "execution_count": 21,
          "metadata": {},
          "output_type": "execute_result"
        }
      ],
      "source": [
        "train.head(3)"
      ]
    },
    {
      "cell_type": "markdown",
      "metadata": {},
      "source": [
        "### C1 feature\n",
        "\n",
        "C1 is one of the anonymized categorical features. Although we don't know its meaning, we still want to have a look its distribution."
      ]
    },
    {
      "cell_type": "code",
      "execution_count": 22,
      "metadata": {},
      "outputs": [
        {
          "name": "stdout",
          "output_type": "stream",
          "text": [
            "1005    0.918964\n",
            "1002    0.054711\n",
            "1010    0.022367\n",
            "1012    0.002718\n",
            "1007    0.000889\n",
            "1001    0.000226\n",
            "1008    0.000125\n",
            "Name: C1, dtype: float64\n"
          ]
        }
      ],
      "source": [
        "print(train.C1.value_counts()/len(train))"
      ]
    },
    {
      "cell_type": "markdown",
      "metadata": {},
      "source": [
        "C1 value = 1005 has the most data, almost 92%. Let's see whether we can find value of C1 indicates something about CTR."
      ]
    },
    {
      "cell_type": "code",
      "execution_count": 23,
      "metadata": {},
      "outputs": [
        {
          "name": "stdout",
          "output_type": "stream",
          "text": [
            "for C1 value: 1001,  click through rate: 0.03982300884955752\n",
            "for C1 value: 1002,  click through rate: 0.21092650472482682\n",
            "for C1 value: 1005,  click through rate: 0.16896091685854941\n",
            "for C1 value: 1007,  click through rate: 0.043869516310461196\n",
            "for C1 value: 1008,  click through rate: 0.104\n",
            "for C1 value: 1010,  click through rate: 0.09657084097107346\n",
            "for C1 value: 1012,  click through rate: 0.1714495952906549\n"
          ]
        }
      ],
      "source": [
        "C1_values = train.C1.unique()\n",
        "C1_values.sort()\n",
        "ctr_avg_list=[]\n",
        "for i in C1_values:\n",
        "    ctr_avg=train.loc[np.where((train.C1 == i))].click.mean()\n",
        "    ctr_avg_list.append(ctr_avg)\n",
        "    print(\"for C1 value: {},  click through rate: {}\".format(i,ctr_avg))"
      ]
    },
    {
      "cell_type": "code",
      "execution_count": 24,
      "metadata": {},
      "outputs": [
        {
          "data": {
            "image/png": "[encoded data removed]",
            "text/plain": [
              "<Figure size 864x432 with 1 Axes>"
            ]
          },
          "metadata": {
            "needs_background": "light"
          },
          "output_type": "display_data"
        }
      ],
      "source": [
        "train.groupby(['C1', 'click']).size().unstack().plot(kind='bar', figsize=(12,6), title='C1 histogram');"
      ]
    },
    {
      "cell_type": "code",
      "execution_count": 25,
      "metadata": {},
      "outputs": [
        {
          "data": {
            "image/png": "[encoded data removed]",
            "text/plain": [
              "<Figure size 864x432 with 1 Axes>"
            ]
          },
          "metadata": {
            "needs_background": "light"
          },
          "output_type": "display_data"
        }
      ],
      "source": [
        "df_c1 = train[['C1','click']].groupby(['C1']).count().reset_index()\n",
        "df_c1 = df_c1.rename(columns={'click': 'impressions'})\n",
        "df_c1['clicks'] = df_click[['C1','click']].groupby(['C1']).count().reset_index()['click']\n",
        "df_c1['CTR'] = df_c1['clicks']/df_c1['impressions']*100\n",
        "\n",
        "plt.figure(figsize=(12,6))\n",
        "sns.barplot(y='CTR', x='C1', data=df_c1)\n",
        "plt.title('CTR by C1');"
      ]
    },
    {
      "cell_type": "markdown",
      "metadata": {},
      "source": [
        "The average CTR in the data is 0.17."
      ]
    },
    {
      "cell_type": "code",
      "execution_count": 26,
      "metadata": {},
      "outputs": [
        {
          "data": {
            "text/plain": [
              "0.169496"
            ]
          },
          "execution_count": 26,
          "metadata": {},
          "output_type": "execute_result"
        }
      ],
      "source": [
        "train['click'].mean()"
      ]
    },
    {
      "cell_type": "code",
      "execution_count": 27,
      "metadata": {},
      "outputs": [
        {
          "data": {
            "text/plain": [
              "count     7.000000\n",
              "mean     11.937148\n",
              "std       6.625484\n",
              "min       3.982301\n",
              "25%       7.022018\n",
              "50%      10.400000\n",
              "75%      17.020526\n",
              "max      21.092650\n",
              "Name: CTR, dtype: float64"
            ]
          },
          "execution_count": 27,
          "metadata": {},
          "output_type": "execute_result"
        }
      ],
      "source": [
        "df_c1.CTR.describe()"
      ]
    },
    {
      "cell_type": "markdown",
      "metadata": {},
      "source": [
        "The important C1 values and CTR pairs are:\n",
        "\n",
        "1005: 92% of the data and 0.17 CTR\n",
        "\n",
        "1002: 5.5% of the data and 0.21 CTR\n",
        "\n",
        "1010: 2.3% of the data and 0.096 CTR\n",
        "\n",
        "1002 has a much higher than average CTR, and 1010 has a much lower than average CTR, it seems these two C1 values are important for predicting CTR."
      ]
    },
    {
      "cell_type": "markdown",
      "metadata": {},
      "source": [
        "### Banner position\n",
        "\n",
        "I have heard that there are many factors that affect the performance of your banner ads, but the most influential one is the banner position. Let's see whether it is true."
      ]
    },
    {
      "cell_type": "code",
      "execution_count": 28,
      "metadata": {},
      "outputs": [
        {
          "name": "stdout",
          "output_type": "stream",
          "text": [
            "0    0.718930\n",
            "1    0.279348\n",
            "7    0.001068\n",
            "2    0.000291\n",
            "4    0.000192\n",
            "5    0.000125\n",
            "3    0.000046\n",
            "Name: banner_pos, dtype: float64\n"
          ]
        }
      ],
      "source": [
        "print(train.banner_pos.value_counts()/len(train))"
      ]
    },
    {
      "cell_type": "code",
      "execution_count": 29,
      "metadata": {},
      "outputs": [
        {
          "name": "stdout",
          "output_type": "stream",
          "text": [
            "for banner position: 0,  click through rate: 0.16366683821790717\n",
            "for banner position: 1,  click through rate: 0.18394976874722568\n",
            "for banner position: 2,  click through rate: 0.14432989690721648\n",
            "for banner position: 3,  click through rate: 0.1956521739130435\n",
            "for banner position: 4,  click through rate: 0.171875\n",
            "for banner position: 5,  click through rate: 0.104\n",
            "for banner position: 7,  click through rate: 0.3258426966292135\n"
          ]
        }
      ],
      "source": [
        "banner_pos = train.banner_pos.unique()\n",
        "banner_pos.sort()\n",
        "ctr_avg_list=[]\n",
        "for i in banner_pos:\n",
        "    ctr_avg=train.loc[np.where((train.banner_pos == i))].click.mean()\n",
        "    ctr_avg_list.append(ctr_avg)\n",
        "    print(\"for banner position: {},  click through rate: {}\".format(i,ctr_avg))"
      ]
    },
    {
      "cell_type": "markdown",
      "metadata": {},
      "source": [
        "The important banner positions are:\n",
        "\n",
        "position 0: 72% of the data and 0.16 CTR\n",
        "\n",
        "position 1: 28% of the data and 0.18 CTR"
      ]
    },
    {
      "cell_type": "code",
      "execution_count": 30,
      "metadata": {},
      "outputs": [
        {
          "data": {
            "image/png": "[encoded data removed]",
            "text/plain": [
              "<Figure size 864x432 with 1 Axes>"
            ]
          },
          "metadata": {
            "needs_background": "light"
          },
          "output_type": "display_data"
        }
      ],
      "source": [
        "train.groupby(['banner_pos', 'click']).size().unstack().plot(kind='bar', figsize=(12,6), title='banner position histogram');"
      ]
    },
    {
      "cell_type": "code",
      "execution_count": 31,
      "metadata": {},
      "outputs": [
        {
          "data": {
            "image/png": "[encoded data removed]",
            "text/plain": [
              "<Figure size 864x432 with 1 Axes>"
            ]
          },
          "metadata": {
            "needs_background": "light"
          },
          "output_type": "display_data"
        }
      ],
      "source": [
        "df_banner = train[['banner_pos','click']].groupby(['banner_pos']).count().reset_index()\n",
        "df_banner = df_banner.rename(columns={'click': 'impressions'})\n",
        "df_banner['clicks'] = df_click[['banner_pos','click']].groupby(['banner_pos']).count().reset_index()['click']\n",
        "df_banner['CTR'] = df_banner['clicks']/df_banner['impressions']*100\n",
        "sort_banners = df_banner.sort_values(by='CTR',ascending=False)['banner_pos'].tolist()\n",
        "plt.figure(figsize=(12,6))\n",
        "sns.barplot(y='CTR', x='banner_pos', data=df_banner, order=sort_banners)\n",
        "plt.title('CTR by banner position');"
      ]
    },
    {
      "cell_type": "code",
      "execution_count": 32,
      "metadata": {},
      "outputs": [
        {
          "data": {
            "text/plain": [
              "count     7.000000\n",
              "mean     18.418805\n",
              "std       6.926886\n",
              "min      10.400000\n",
              "25%      15.399837\n",
              "50%      17.187500\n",
              "75%      18.980097\n",
              "max      32.584270\n",
              "Name: CTR, dtype: float64"
            ]
          },
          "execution_count": 32,
          "metadata": {},
          "output_type": "execute_result"
        }
      ],
      "source": [
        "df_banner.CTR.describe()"
      ]
    },
    {
      "cell_type": "markdown",
      "metadata": {},
      "source": [
        "Although banner position 0 and 1 have the highest number of impressions and clicks, banner 7 enjoys the highest click through rate. Increasing the number of ads placed on banner position 7 seems to be a good idea."
      ]
    },
    {
      "cell_type": "markdown",
      "metadata": {},
      "source": [
        "### Site features\n",
        "\n",
        "#### site id"
      ]
    },
    {
      "cell_type": "code",
      "execution_count": 33,
      "metadata": {},
      "outputs": [
        {
          "name": "stdout",
          "output_type": "stream",
          "text": [
            "There are 2660 sites in the data set\n"
          ]
        }
      ],
      "source": [
        "print(\"There are {} sites in the data set\".format(train.site_id.nunique()))"
      ]
    },
    {
      "cell_type": "code",
      "execution_count": 34,
      "metadata": {},
      "outputs": [
        {
          "name": "stdout",
          "output_type": "stream",
          "text": [
            "The top 10 site ids that have the most impressions\n",
            "85f751fd    0.360335\n",
            "1fbe01fe    0.160042\n",
            "e151e245    0.065321\n",
            "d9750ee7    0.024076\n",
            "5b08c53b    0.022407\n",
            "5b4d2eda    0.019085\n",
            "856e6d3f    0.018905\n",
            "a7853007    0.011376\n",
            "b7e9786d    0.009112\n",
            "5ee41ff2    0.008739\n",
            "Name: site_id, dtype: float64\n"
          ]
        }
      ],
      "source": [
        "print('The top 10 site ids that have the most impressions')\n",
        "print((train.site_id.value_counts()/len(train))[0:10])"
      ]
    },
    {
      "cell_type": "code",
      "execution_count": 35,
      "metadata": {},
      "outputs": [
        {
          "name": "stdout",
          "output_type": "stream",
          "text": [
            "for site id value: 85f751fd,  click through rate: 0.11888381644858256\n",
            "for site id value: 1fbe01fe,  click through rate: 0.20434011072093575\n",
            "for site id value: e151e245,  click through rate: 0.2979286906201681\n",
            "for site id value: d9750ee7,  click through rate: 0.2847233759760758\n",
            "for site id value: 5b08c53b,  click through rate: 0.46409604141562905\n",
            "for site id value: 5b4d2eda,  click through rate: 0.12858265653654702\n",
            "for site id value: 856e6d3f,  click through rate: 0.042263951335625494\n",
            "for site id value: a7853007,  click through rate: 0.10249648382559776\n",
            "for site id value: b7e9786d,  click through rate: 0.07287093942054433\n",
            "for site id value: 5ee41ff2,  click through rate: 0.3248655452568944\n"
          ]
        }
      ],
      "source": [
        "top10_ids = (train.site_id.value_counts()/len(train))[0:10].index\n",
        "click_avg_list=[]\n",
        "\n",
        "for i in top10_ids:\n",
        "    click_avg=train.loc[np.where((train.site_id == i))].click.mean()\n",
        "    click_avg_list.append(click_avg)\n",
        "    print(\"for site id value: {},  click through rate: {}\".format(i,click_avg))"
      ]
    },
    {
      "cell_type": "code",
      "execution_count": 36,
      "metadata": {},
      "outputs": [
        {
          "data": {
            "image/png": "[encoded data removed]",
            "text/plain": [
              "<Figure size 864x432 with 1 Axes>"
            ]
          },
          "metadata": {
            "needs_background": "light"
          },
          "output_type": "display_data"
        }
      ],
      "source": [
        "top10_sites = train[(train.site_id.isin((train.site_id.value_counts()/len(train))[0:10].index))]\n",
        "top10_sites_click = top10_sites[top10_sites['click'] == 1]\n",
        "top10_sites.groupby(['site_id', 'click']).size().unstack().plot(kind='bar', figsize=(12,6), title='Top 10 site ids histogram');"
      ]
    },
    {
      "cell_type": "code",
      "execution_count": 37,
      "metadata": {},
      "outputs": [
        {
          "data": {
            "image/png": "[encoded data removed]",
            "text/plain": [
              "<Figure size 864x432 with 1 Axes>"
            ]
          },
          "metadata": {
            "needs_background": "light"
          },
          "output_type": "display_data"
        }
      ],
      "source": [
        "df_site = top10_sites[['site_id','click']].groupby(['site_id']).count().reset_index()\n",
        "df_site = df_site.rename(columns={'click': 'impressions'})\n",
        "df_site['clicks'] = top10_sites_click[['site_id','click']].groupby(['site_id']).count().reset_index()['click']\n",
        "df_site['CTR'] = df_site['clicks']/df_site['impressions']*100\n",
        "sort_site = df_site.sort_values(by='CTR',ascending=False)['site_id'].tolist()\n",
        "plt.figure(figsize=(12,6))\n",
        "sns.barplot(y='CTR', x='site_id', data=df_site, order=sort_site)\n",
        "plt.title('CTR by top 10 site id');"
      ]
    },
    {
      "cell_type": "markdown",
      "metadata": {},
      "source": [
        "The site_id feature seems important because the CTR for the top 10 sites, some as high as 0.47, and some as low as 0.04, and they are significantly different from overall CTR 0.16."
      ]
    },
    {
      "cell_type": "markdown",
      "metadata": {},
      "source": [
        "#### site domain "
      ]
    },
    {
      "cell_type": "code",
      "execution_count": 38,
      "metadata": {},
      "outputs": [
        {
          "name": "stdout",
          "output_type": "stream",
          "text": [
            "There are 2848 site domains in the data set\n"
          ]
        }
      ],
      "source": [
        "print(\"There are {} site domains in the data set\".format(train.site_domain.nunique()))"
      ]
    },
    {
      "cell_type": "code",
      "execution_count": 39,
      "metadata": {},
      "outputs": [
        {
          "name": "stdout",
          "output_type": "stream",
          "text": [
            "The top 10 site domains that have the most impressions\n",
            "c4e18dd6    0.373488\n",
            "f3845767    0.160042\n",
            "7e091613    0.082387\n",
            "7687a86e    0.031782\n",
            "98572c79    0.024902\n",
            "16a36ef3    0.021146\n",
            "58a89a43    0.018905\n",
            "b12b9f85    0.009235\n",
            "9d54950b    0.009175\n",
            "17d996e6    0.008839\n",
            "Name: site_domain, dtype: float64\n"
          ]
        }
      ],
      "source": [
        "print('The top 10 site domains that have the most impressions')\n",
        "print((train.site_domain.value_counts()/len(train))[0:10])"
      ]
    },
    {
      "cell_type": "code",
      "execution_count": 40,
      "metadata": {},
      "outputs": [
        {
          "name": "stdout",
          "output_type": "stream",
          "text": [
            "for site domain value: c4e18dd6,  click through rate: 0.12284464293364178\n",
            "for site domain value: f3845767,  click through rate: 0.20434011072093575\n",
            "for site domain value: 7e091613,  click through rate: 0.2597618556325634\n",
            "for site domain value: 7687a86e,  click through rate: 0.45780630545591844\n",
            "for site domain value: 98572c79,  click through rate: 0.27865231708296523\n",
            "for site domain value: 16a36ef3,  click through rate: 0.14002648254989122\n",
            "for site domain value: 58a89a43,  click through rate: 0.042263951335625494\n",
            "for site domain value: b12b9f85,  click through rate: 0.07406605305901462\n",
            "for site domain value: 9d54950b,  click through rate: 0.10332425068119891\n",
            "for site domain value: 17d996e6,  click through rate: 0.32266093449485234\n"
          ]
        }
      ],
      "source": [
        "top10_domains = (train.site_domain.value_counts()/len(train))[0:10].index\n",
        "click_avg_list=[]\n",
        "\n",
        "for i in top10_domains:\n",
        "    click_avg=train.loc[np.where((train.site_domain == i))].click.mean()\n",
        "    click_avg_list.append(click_avg)\n",
        "    print(\"for site domain value: {},  click through rate: {}\".format(i,click_avg))"
      ]
    },
    {
      "cell_type": "code",
      "execution_count": 41,
      "metadata": {},
      "outputs": [
        {
          "data": {
            "image/png": "[encoded data removed]",
            "text/plain": [
              "<Figure size 864x432 with 1 Axes>"
            ]
          },
          "metadata": {
            "needs_background": "light"
          },
          "output_type": "display_data"
        }
      ],
      "source": [
        "top10_domain = train[(train.site_domain.isin((train.site_domain.value_counts()/len(train))[0:10].index))]\n",
        "top10_domain_click = top10_domain[top10_domain['click'] == 1]\n",
        "top10_domain.groupby(['site_domain', 'click']).size().unstack().plot(kind='bar', figsize=(12,6), title='Top 10 site domains histogram');"
      ]
    },
    {
      "cell_type": "code",
      "execution_count": 42,
      "metadata": {},
      "outputs": [
        {
          "data": {
            "image/png": "[encoded data removed]",
            "text/plain": [
              "<Figure size 864x432 with 1 Axes>"
            ]
          },
          "metadata": {
            "needs_background": "light"
          },
          "output_type": "display_data"
        }
      ],
      "source": [
        "df_domain = top10_domain[['site_domain','click']].groupby(['site_domain']).count().reset_index()\n",
        "df_domain = df_domain.rename(columns={'click': 'impressions'})\n",
        "df_domain['clicks'] = top10_domain_click[['site_domain','click']].groupby(['site_domain']).count().reset_index()['click']\n",
        "df_domain['CTR'] = df_domain['clicks']/df_domain['impressions']*100\n",
        "sort_domain = df_domain.sort_values(by='CTR',ascending=False)['site_domain'].tolist()\n",
        "plt.figure(figsize=(12,6))\n",
        "sns.barplot(y='CTR', x='site_domain', data=df_domain, order=sort_domain)\n",
        "plt.title('CTR by top 10 site domain');"
      ]
    },
    {
      "cell_type": "markdown",
      "metadata": {},
      "source": [
        "Similar with the site_id feature, the site_domain feature seems important as well."
      ]
    },
    {
      "cell_type": "markdown",
      "metadata": {},
      "source": [
        "#### site category"
      ]
    },
    {
      "cell_type": "code",
      "execution_count": 43,
      "metadata": {},
      "outputs": [
        {
          "name": "stdout",
          "output_type": "stream",
          "text": [
            "There are 22 site categories in the data set\n"
          ]
        }
      ],
      "source": [
        "print(\"There are {} site categories in the data set\".format(train.site_category.nunique()))"
      ]
    },
    {
      "cell_type": "code",
      "execution_count": 44,
      "metadata": {},
      "outputs": [
        {
          "name": "stdout",
          "output_type": "stream",
          "text": [
            "The top 10 site categories that have the most impressions\n",
            "50e219e0    0.408110\n",
            "f028772b    0.313988\n",
            "28905ebd    0.182359\n",
            "3e814130    0.075492\n",
            "f66779e6    0.006185\n",
            "75fa27f6    0.003972\n",
            "335d28a8    0.003429\n",
            "76b2941d    0.002685\n",
            "c0dd3be3    0.001042\n",
            "72722551    0.000730\n",
            "Name: site_category, dtype: float64\n"
          ]
        }
      ],
      "source": [
        "print('The top 10 site categories that have the most impressions')\n",
        "print((train.site_category.value_counts()/len(train))[0:10])"
      ]
    },
    {
      "cell_type": "code",
      "execution_count": 45,
      "metadata": {},
      "outputs": [
        {
          "name": "stdout",
          "output_type": "stream",
          "text": [
            "for site category value: 50e219e0,  click through rate: 0.12871284702653696\n",
            "for site category value: f028772b,  click through rate: 0.17951004496987147\n",
            "for site category value: 28905ebd,  click through rate: 0.20667474596811783\n",
            "for site category value: 3e814130,  click through rate: 0.281288083505537\n",
            "for site category value: f66779e6,  click through rate: 0.038965238480194016\n",
            "for site category value: 75fa27f6,  click through rate: 0.10750251762336355\n",
            "for site category value: 335d28a8,  click through rate: 0.09827938174394868\n",
            "for site category value: 76b2941d,  click through rate: 0.02867783985102421\n",
            "for site category value: c0dd3be3,  click through rate: 0.11036468330134357\n",
            "for site category value: 72722551,  click through rate: 0.06438356164383562\n"
          ]
        }
      ],
      "source": [
        "top10_categories = (train.site_category.value_counts()/len(train))[0:10].index\n",
        "click_avg_list=[]\n",
        "\n",
        "for i in top10_categories:\n",
        "    click_avg=train.loc[np.where((train.site_category == i))].click.mean()\n",
        "    click_avg_list.append(click_avg)\n",
        "    print(\"for site category value: {},  click through rate: {}\".format(i,click_avg))"
      ]
    },
    {
      "cell_type": "code",
      "execution_count": 46,
      "metadata": {},
      "outputs": [
        {
          "data": {
            "image/png": "[encoded data removed]",
            "text/plain": [
              "<Figure size 864x432 with 1 Axes>"
            ]
          },
          "metadata": {
            "needs_background": "light"
          },
          "output_type": "display_data"
        }
      ],
      "source": [
        "top10_category = train[(train.site_category.isin((train.site_category.value_counts()/len(train))[0:10].index))]\n",
        "top10_category_click = top10_category[top10_category['click'] == 1]\n",
        "top10_category.groupby(['site_category', 'click']).size().unstack().plot(kind='bar', figsize=(12,6), title='Top 10 site categories histogram');"
      ]
    },
    {
      "cell_type": "code",
      "execution_count": 47,
      "metadata": {},
      "outputs": [
        {
          "data": {
            "image/png": "[encoded data removed]",
            "text/plain": [
              "<Figure size 864x432 with 1 Axes>"
            ]
          },
          "metadata": {
            "needs_background": "light"
          },
          "output_type": "display_data"
        }
      ],
      "source": [
        "df_category = top10_category[['site_category','click']].groupby(['site_category']).count().reset_index()\n",
        "df_category = df_category.rename(columns={'click': 'impressions'})\n",
        "df_category['clicks'] = top10_category_click[['site_category','click']].groupby(['site_category']).count().reset_index()['click']\n",
        "df_category['CTR'] = df_category['clicks']/df_category['impressions']*100\n",
        "sort_category = df_category.sort_values(by='CTR',ascending=False)['site_category'].tolist()\n",
        "plt.figure(figsize=(12,6))\n",
        "sns.barplot(y='CTR', x='site_category', data=df_category, order=sort_category)\n",
        "plt.title('CTR by top 10 site category');"
      ]
    },
    {
      "cell_type": "markdown",
      "metadata": {},
      "source": [
        "### Device features\n",
        "\n",
        "#### device id"
      ]
    },
    {
      "cell_type": "code",
      "execution_count": 48,
      "metadata": {},
      "outputs": [
        {
          "name": "stdout",
          "output_type": "stream",
          "text": [
            "There are 150044 devices in the data set\n"
          ]
        }
      ],
      "source": [
        "print(\"There are {} devices in the data set\".format(train.device_id.nunique()))"
      ]
    },
    {
      "cell_type": "code",
      "execution_count": 49,
      "metadata": {},
      "outputs": [
        {
          "name": "stdout",
          "output_type": "stream",
          "text": [
            "The top 10 devices that have the most impressions\n",
            "a99f214a    0.825575\n",
            "c357dbff    0.000495\n",
            "0f7c61dc    0.000484\n",
            "936e92fb    0.000348\n",
            "afeffc18    0.000244\n",
            "28dc8687    0.000103\n",
            "d857ffbb    0.000097\n",
            "987552d1    0.000093\n",
            "b09da1c4    0.000087\n",
            "cef4c8cc    0.000082\n",
            "Name: device_id, dtype: float64\n"
          ]
        }
      ],
      "source": [
        "print('The top 10 devices that have the most impressions')\n",
        "print((train.device_id.value_counts()/len(train))[0:10])"
      ]
    },
    {
      "cell_type": "code",
      "execution_count": 50,
      "metadata": {},
      "outputs": [
        {
          "name": "stdout",
          "output_type": "stream",
          "text": [
            "for device id value: a99f214a,  click through rate: 0.17357235865911638\n",
            "for device id value: c357dbff,  click through rate: 0.6646464646464646\n",
            "for device id value: 0f7c61dc,  click through rate: 0.768595041322314\n",
            "for device id value: 936e92fb,  click through rate: 0.09195402298850575\n",
            "for device id value: afeffc18,  click through rate: 0.26229508196721313\n",
            "for device id value: 28dc8687,  click through rate: 0.0\n",
            "for device id value: d857ffbb,  click through rate: 0.32989690721649484\n",
            "for device id value: 987552d1,  click through rate: 0.0\n",
            "for device id value: b09da1c4,  click through rate: 0.14942528735632185\n",
            "for device id value: cef4c8cc,  click through rate: 0.21951219512195122\n"
          ]
        }
      ],
      "source": [
        "top10_devices = (train.device_id.value_counts()/len(train))[0:10].index\n",
        "click_avg_list=[]\n",
        "\n",
        "for i in top10_devices:\n",
        "    click_avg=train.loc[np.where((train.device_id == i))].click.mean()\n",
        "    click_avg_list.append(click_avg)\n",
        "    print(\"for device id value: {},  click through rate: {}\".format(i,click_avg))"
      ]
    },
    {
      "cell_type": "code",
      "execution_count": 51,
      "metadata": {},
      "outputs": [
        {
          "data": {
            "image/png": "[encoded data removed]",
            "text/plain": [
              "<Figure size 864x432 with 1 Axes>"
            ]
          },
          "metadata": {
            "needs_background": "light"
          },
          "output_type": "display_data"
        }
      ],
      "source": [
        "top10_device = train[(train.device_id.isin((train.device_id.value_counts()/len(train))[0:10].index))]\n",
        "top10_device_click = top10_device[top10_device['click'] == 1]\n",
        "top10_device.groupby(['device_id', 'click']).size().unstack().plot(kind='bar', figsize=(12,6), title='Top 10 device ids histogram');"
      ]
    },
    {
      "cell_type": "markdown",
      "metadata": {},
      "source": [
        "You will see that most of device_id is a99f214a : Approx. 83% of the data, and the second major device_id is only 0.05% of the data. And there are some extremely high CTR here with device id at 0f7c61dc."
      ]
    },
    {
      "cell_type": "markdown",
      "metadata": {},
      "source": [
        "#### device ip\n",
        "\n",
        "Device ip is more of a users ip address, so, there are a lot of them."
      ]
    },
    {
      "cell_type": "code",
      "execution_count": 52,
      "metadata": {},
      "outputs": [
        {
          "name": "stdout",
          "output_type": "stream",
          "text": [
            "There are 555454 device ips in the data set\n",
            "There are 5 device types in the data set\n",
            "There are 5179 device models in the data set\n",
            "There are 4 device cnn types in the data set\n"
          ]
        }
      ],
      "source": [
        "print(\"There are {} device ips in the data set\".format(train.device_ip.nunique()))\n",
        "print(\"There are {} device types in the data set\".format(train.device_type.nunique()))\n",
        "print(\"There are {} device models in the data set\".format(train.device_model.nunique()))\n",
        "print(\"There are {} device cnn types in the data set\".format(train.device_conn_type.nunique()))"
      ]
    },
    {
      "cell_type": "markdown",
      "metadata": {},
      "source": [
        "#### device type"
      ]
    },
    {
      "cell_type": "code",
      "execution_count": 53,
      "metadata": {},
      "outputs": [
        {
          "name": "stdout",
          "output_type": "stream",
          "text": [
            "The impressions by device types\n",
            "1    0.922920\n",
            "0    0.054711\n",
            "4    0.019156\n",
            "5    0.003211\n",
            "2    0.000002\n",
            "Name: device_type, dtype: float64\n"
          ]
        }
      ],
      "source": [
        "print('The impressions by device types')\n",
        "print((train.device_type.value_counts()/len(train)))"
      ]
    },
    {
      "cell_type": "code",
      "execution_count": 54,
      "metadata": {},
      "outputs": [
        {
          "data": {
            "image/png": "[encoded data removed]",
            "text/plain": [
              "<Figure size 432x288 with 1 Axes>"
            ]
          },
          "metadata": {
            "needs_background": "light"
          },
          "output_type": "display_data"
        }
      ],
      "source": [
        "train[['device_type','click']].groupby(['device_type','click']).size().unstack().plot(kind='bar', title='device types');"
      ]
    },
    {
      "cell_type": "markdown",
      "metadata": {},
      "source": [
        "Device type 1 gets the most impressions and clicks. And the other device types only get the minimum impressions and clicks. We may want to look in more details about device type 1. "
      ]
    },
    {
      "cell_type": "code",
      "execution_count": 55,
      "metadata": {
        "scrolled": false
      },
      "outputs": [
        {
          "data": {
            "image/png": "[encoded data removed]",
            "text/plain": [
              "<Figure size 864x432 with 1 Axes>"
            ]
          },
          "metadata": {
            "needs_background": "light"
          },
          "output_type": "display_data"
        }
      ],
      "source": [
        "df_click[df_click['device_type']==1].groupby(['hour_of_day', 'click']).size().unstack().plot(kind='bar', title=\"Clicks from device type 1 by hour of day\", figsize=(12,6));"
      ]
    },
    {
      "cell_type": "markdown",
      "metadata": {},
      "source": [
        "As expected, most clicks happened during the business hours from device type 1. device type is definitely an important feature. "
      ]
    },
    {
      "cell_type": "code",
      "execution_count": 56,
      "metadata": {},
      "outputs": [],
      "source": [
        "device_type_click = df_click.groupby('device_type').agg({'click':'sum'}).reset_index()\n",
        "device_type_impression = train.groupby('device_type').agg({'click':'count'}).reset_index().rename(columns={'click': 'impressions'})\n",
        "merged_device_type = pd.merge(left = device_type_click , right = device_type_impression, how = 'inner', on = 'device_type')"
      ]
    },
    {
      "cell_type": "code",
      "execution_count": 57,
      "metadata": {},
      "outputs": [],
      "source": [
        "merged_device_type['CTR'] = merged_device_type['click'] / merged_device_type['impressions']*100"
      ]
    },
    {
      "cell_type": "code",
      "execution_count": 58,
      "metadata": {},
      "outputs": [
        {
          "data": {
            "text/html": [
              "<div>\n",
              "<style scoped>\n",
              "    .dataframe tbody tr th:only-of-type {\n",
              "        vertical-align: middle;\n",
              "    }\n",
              "\n",
              "    .dataframe tbody tr th {\n",
              "        vertical-align: top;\n",
              "    }\n",
              "\n",
              "    .dataframe thead th {\n",
              "        text-align: right;\n",
              "    }\n",
              "</style>\n",
              "<table border=\"1\" class=\"dataframe\">\n",
              "  <thead>\n",
              "    <tr style=\"text-align: right;\">\n",
              "      <th></th>\n",
              "      <th>device_type</th>\n",
              "      <th>click</th>\n",
              "      <th>impressions</th>\n",
              "      <th>CTR</th>\n",
              "    </tr>\n",
              "  </thead>\n",
              "  <tbody>\n",
              "    <tr>\n",
              "      <th>0</th>\n",
              "      <td>0</td>\n",
              "      <td>11540</td>\n",
              "      <td>54711</td>\n",
              "      <td>21.092650</td>\n",
              "    </tr>\n",
              "    <tr>\n",
              "      <th>1</th>\n",
              "      <td>1</td>\n",
              "      <td>155796</td>\n",
              "      <td>922920</td>\n",
              "      <td>16.880770</td>\n",
              "    </tr>\n",
              "    <tr>\n",
              "      <th>2</th>\n",
              "      <td>4</td>\n",
              "      <td>1860</td>\n",
              "      <td>19156</td>\n",
              "      <td>9.709752</td>\n",
              "    </tr>\n",
              "    <tr>\n",
              "      <th>3</th>\n",
              "      <td>5</td>\n",
              "      <td>300</td>\n",
              "      <td>3211</td>\n",
              "      <td>9.342884</td>\n",
              "    </tr>\n",
              "  </tbody>\n",
              "</table>\n",
              "</div>"
            ],
            "text/plain": [
              "   device_type   click  impressions        CTR\n",
              "0            0   11540        54711  21.092650\n",
              "1            1  155796       922920  16.880770\n",
              "2            4    1860        19156   9.709752\n",
              "3            5     300         3211   9.342884"
            ]
          },
          "execution_count": 58,
          "metadata": {},
          "output_type": "execute_result"
        }
      ],
      "source": [
        "merged_device_type"
      ]
    },
    {
      "cell_type": "markdown",
      "metadata": {},
      "source": [
        "The highest CTR comes from device type 0."
      ]
    },
    {
      "cell_type": "markdown",
      "metadata": {},
      "source": [
        "#### app features"
      ]
    },
    {
      "cell_type": "code",
      "execution_count": 59,
      "metadata": {},
      "outputs": [
        {
          "name": "stdout",
          "output_type": "stream",
          "text": [
            "There are 3114 apps in the data set\n",
            "There are 193 app domains in the data set\n",
            "There are 26 app categories in the data set\n"
          ]
        }
      ],
      "source": [
        "print(\"There are {} apps in the data set\".format(train.app_id.nunique()))\n",
        "print(\"There are {} app domains in the data set\".format(train.app_domain.nunique()))\n",
        "print(\"There are {} app categories in the data set\".format(train.app_category.nunique()))"
      ]
    },
    {
      "cell_type": "markdown",
      "metadata": {},
      "source": [
        "Looks like app category something worth to explore."
      ]
    },
    {
      "cell_type": "code",
      "execution_count": 60,
      "metadata": {},
      "outputs": [
        {
          "name": "stdout",
          "output_type": "stream",
          "text": [
            "The impressions by app categories\n",
            "07d7df22    0.647829\n",
            "0f2161f8    0.236183\n",
            "cef3e649    0.042961\n",
            "8ded1f7a    0.036126\n",
            "f95efa07    0.027941\n",
            "d1327cf5    0.003067\n",
            "dc97ec06    0.001377\n",
            "09481d60    0.001298\n",
            "75d80bbe    0.001018\n",
            "fc6fa53d    0.000576\n",
            "4ce2e9fc    0.000526\n",
            "879c24eb    0.000321\n",
            "a3c42688    0.000281\n",
            "4681bb9d    0.000153\n",
            "0f9a328c    0.000138\n",
            "2281a340    0.000059\n",
            "a86a3e89    0.000058\n",
            "8df2e842    0.000037\n",
            "a7fd01ec    0.000013\n",
            "79f0b860    0.000009\n",
            "0bfbc358    0.000009\n",
            "2fc4f2aa    0.000006\n",
            "7113d72a    0.000006\n",
            "18b1e0be    0.000006\n",
            "71af18ce    0.000001\n",
            "4b7ade46    0.000001\n",
            "Name: app_category, dtype: float64\n"
          ]
        }
      ],
      "source": [
        "print('The impressions by app categories')\n",
        "print((train.app_category.value_counts()/len(train)))"
      ]
    },
    {
      "cell_type": "code",
      "execution_count": 61,
      "metadata": {},
      "outputs": [
        {
          "data": {
            "text/plain": [
              "<matplotlib.axes._subplots.AxesSubplot at 0x7f16df7e6278>"
            ]
          },
          "execution_count": 61,
          "metadata": {},
          "output_type": "execute_result"
        },
        {
          "data": {
            "image/png": "[encoded data removed]",
            "text/plain": [
              "<Figure size 432x288 with 1 Axes>"
            ]
          },
          "metadata": {
            "needs_background": "light"
          },
          "output_type": "display_data"
        }
      ],
      "source": [
        "train['app_category'].value_counts().plot(kind='bar', title='App Category v/s Clicks')"
      ]
    },
    {
      "cell_type": "code",
      "execution_count": 62,
      "metadata": {},
      "outputs": [
        {
          "data": {
            "image/png": "[encoded data removed]",
            "text/plain": [
              "<Figure size 432x288 with 1 Axes>"
            ]
          },
          "metadata": {
            "needs_background": "light"
          },
          "output_type": "display_data"
        }
      ],
      "source": [
        "train_app_category = train.groupby(['app_category', 'click']).size().unstack()\n",
        "train_app_category.div(train_app_category.sum(axis=1), axis=0).plot(kind='bar', stacked=True, title=\"Intra-category CTR\");"
      ]
    },
    {
      "cell_type": "markdown",
      "metadata": {},
      "source": [
        "#### C14 - C21 features"
      ]
    },
    {
      "cell_type": "code",
      "execution_count": 63,
      "metadata": {},
      "outputs": [
        {
          "name": "stdout",
          "output_type": "stream",
          "text": [
            "There are 2246 C14 in the data set\n",
            "There are 8 C15 in the data set\n",
            "There are 9 C16 in the data set\n",
            "There are 421 C17 in the data set\n",
            "There are 4 C18 in the data set\n",
            "There are 66 C19 in the data set\n",
            "There are 163 C20 in the data set\n"
          ]
        }
      ],
      "source": [
        "print(\"There are {} C14 in the data set\".format(train.C14.nunique()))\n",
        "print(\"There are {} C15 in the data set\".format(train.C15.nunique()))\n",
        "print(\"There are {} C16 in the data set\".format(train.C16.nunique()))\n",
        "print(\"There are {} C17 in the data set\".format(train.C17.nunique()))\n",
        "print(\"There are {} C18 in the data set\".format(train.C18.nunique()))\n",
        "print(\"There are {} C19 in the data set\".format(train.C19.nunique()))\n",
        "print(\"There are {} C20 in the data set\".format(train.C20.nunique()))"
      ]
    },
    {
      "cell_type": "code",
      "execution_count": 64,
      "metadata": {},
      "outputs": [
        {
          "data": {
            "image/png": "[encoded data removed]",
            "text/plain": [
              "<Figure size 432x288 with 1 Axes>"
            ]
          },
          "metadata": {
            "needs_background": "light"
          },
          "output_type": "display_data"
        }
      ],
      "source": [
        "train.groupby(['C15', 'click']).size().unstack().plot(kind='bar', stacked=True, title='C15 distribution');"
      ]
    },
    {
      "cell_type": "code",
      "execution_count": 65,
      "metadata": {},
      "outputs": [
        {
          "data": {
            "image/png": "[encoded data removed]",
            "text/plain": [
              "<Figure size 432x288 with 1 Axes>"
            ]
          },
          "metadata": {
            "needs_background": "light"
          },
          "output_type": "display_data"
        }
      ],
      "source": [
        "train.groupby(['C16', 'click']).size().unstack().plot(kind='bar', stacked=True, title='C16 distribution');"
      ]
    },
    {
      "cell_type": "code",
      "execution_count": 66,
      "metadata": {},
      "outputs": [
        {
          "data": {
            "image/png": "[encoded data removed]",
            "text/plain": [
              "<Figure size 432x288 with 1 Axes>"
            ]
          },
          "metadata": {
            "needs_background": "light"
          },
          "output_type": "display_data"
        }
      ],
      "source": [
        "train.groupby(['C18', 'click']).size().unstack().plot(kind='bar', stacked=True, title='C18 distribution');"
      ]
    },
    {
      "cell_type": "code",
      "execution_count": 67,
      "metadata": {},
      "outputs": [
        {
          "data": {
            "text/html": [
              "<div>\n",
              "<style scoped>\n",
              "    .dataframe tbody tr th:only-of-type {\n",
              "        vertical-align: middle;\n",
              "    }\n",
              "\n",
              "    .dataframe tbody tr th {\n",
              "        vertical-align: top;\n",
              "    }\n",
              "\n",
              "    .dataframe thead th {\n",
              "        text-align: right;\n",
              "    }\n",
              "</style>\n",
              "<table border=\"1\" class=\"dataframe\">\n",
              "  <thead>\n",
              "    <tr style=\"text-align: right;\">\n",
              "      <th></th>\n",
              "      <th>id</th>\n",
              "      <th>click</th>\n",
              "      <th>hour</th>\n",
              "      <th>C1</th>\n",
              "      <th>banner_pos</th>\n",
              "      <th>site_id</th>\n",
              "      <th>site_domain</th>\n",
              "      <th>site_category</th>\n",
              "      <th>app_id</th>\n",
              "      <th>app_domain</th>\n",
              "      <th>...</th>\n",
              "      <th>C14</th>\n",
              "      <th>C15</th>\n",
              "      <th>C16</th>\n",
              "      <th>C17</th>\n",
              "      <th>C18</th>\n",
              "      <th>C19</th>\n",
              "      <th>C20</th>\n",
              "      <th>C21</th>\n",
              "      <th>hour_of_day</th>\n",
              "      <th>day_of_week</th>\n",
              "    </tr>\n",
              "  </thead>\n",
              "  <tbody>\n",
              "    <tr>\n",
              "      <th>0</th>\n",
              "      <td>10012820175855462623</td>\n",
              "      <td>0</td>\n",
              "      <td>2014-10-21</td>\n",
              "      <td>1005</td>\n",
              "      <td>0</td>\n",
              "      <td>1fbe01fe</td>\n",
              "      <td>f3845767</td>\n",
              "      <td>28905ebd</td>\n",
              "      <td>ecad2386</td>\n",
              "      <td>7801e8d9</td>\n",
              "      <td>...</td>\n",
              "      <td>15707</td>\n",
              "      <td>320</td>\n",
              "      <td>50</td>\n",
              "      <td>1722</td>\n",
              "      <td>0</td>\n",
              "      <td>35</td>\n",
              "      <td>-1</td>\n",
              "      <td>79</td>\n",
              "      <td>0</td>\n",
              "      <td>Tuesday</td>\n",
              "    </tr>\n",
              "    <tr>\n",
              "      <th>1</th>\n",
              "      <td>10015405794859644629</td>\n",
              "      <td>1</td>\n",
              "      <td>2014-10-21</td>\n",
              "      <td>1005</td>\n",
              "      <td>0</td>\n",
              "      <td>1fbe01fe</td>\n",
              "      <td>f3845767</td>\n",
              "      <td>28905ebd</td>\n",
              "      <td>ecad2386</td>\n",
              "      <td>7801e8d9</td>\n",
              "      <td>...</td>\n",
              "      <td>15701</td>\n",
              "      <td>320</td>\n",
              "      <td>50</td>\n",
              "      <td>1722</td>\n",
              "      <td>0</td>\n",
              "      <td>35</td>\n",
              "      <td>100084</td>\n",
              "      <td>79</td>\n",
              "      <td>0</td>\n",
              "      <td>Tuesday</td>\n",
              "    </tr>\n",
              "    <tr>\n",
              "      <th>2</th>\n",
              "      <td>1001795364355496701</td>\n",
              "      <td>0</td>\n",
              "      <td>2014-10-21</td>\n",
              "      <td>1005</td>\n",
              "      <td>1</td>\n",
              "      <td>b7e9786d</td>\n",
              "      <td>b12b9f85</td>\n",
              "      <td>f028772b</td>\n",
              "      <td>ecad2386</td>\n",
              "      <td>7801e8d9</td>\n",
              "      <td>...</td>\n",
              "      <td>19771</td>\n",
              "      <td>320</td>\n",
              "      <td>50</td>\n",
              "      <td>2227</td>\n",
              "      <td>0</td>\n",
              "      <td>687</td>\n",
              "      <td>100081</td>\n",
              "      <td>48</td>\n",
              "      <td>0</td>\n",
              "      <td>Tuesday</td>\n",
              "    </tr>\n",
              "  </tbody>\n",
              "</table>\n",
              "<p>3 rows × 26 columns</p>\n",
              "</div>"
            ],
            "text/plain": [
              "                     id  click       hour    C1  banner_pos   site_id  \\\n",
              "0  10012820175855462623      0 2014-10-21  1005           0  1fbe01fe   \n",
              "1  10015405794859644629      1 2014-10-21  1005           0  1fbe01fe   \n",
              "2   1001795364355496701      0 2014-10-21  1005           1  b7e9786d   \n",
              "\n",
              "  site_domain site_category    app_id app_domain  ...    C14  C15 C16   C17  \\\n",
              "0    f3845767      28905ebd  ecad2386   7801e8d9  ...  15707  320  50  1722   \n",
              "1    f3845767      28905ebd  ecad2386   7801e8d9  ...  15701  320  50  1722   \n",
              "2    b12b9f85      f028772b  ecad2386   7801e8d9  ...  19771  320  50  2227   \n",
              "\n",
              "   C18  C19     C20  C21  hour_of_day  day_of_week  \n",
              "0    0   35      -1   79            0      Tuesday  \n",
              "1    0   35  100084   79            0      Tuesday  \n",
              "2    0  687  100081   48            0      Tuesday  \n",
              "\n",
              "[3 rows x 26 columns]"
            ]
          },
          "execution_count": 67,
          "metadata": {},
          "output_type": "execute_result"
        }
      ],
      "source": [
        "train.head(3)"
      ]
    },
    {
      "cell_type": "code",
      "execution_count": 68,
      "metadata": {},
      "outputs": [],
      "source": [
        "def convert_obj_to_int(self):\n",
        "    \n",
        "    object_list_columns = self.columns\n",
        "    object_list_dtypes = self.dtypes\n",
        "    new_col_suffix = '_int'\n",
        "    for index in range(0,len(object_list_columns)):\n",
        "        if object_list_dtypes[index] == object :\n",
        "            self[object_list_columns[index]+new_col_suffix] = self[object_list_columns[index]].map( lambda  x: hash(x))\n",
        "            self.drop([object_list_columns[index]],inplace=True,axis=1)\n",
        "    return self\n",
        "train = convert_obj_to_int(train)"
      ]
    },
    {
      "cell_type": "code",
      "execution_count": 69,
      "metadata": {},
      "outputs": [
        {
          "data": {
            "text/html": [
              "<div>\n",
              "<style scoped>\n",
              "    .dataframe tbody tr th:only-of-type {\n",
              "        vertical-align: middle;\n",
              "    }\n",
              "\n",
              "    .dataframe tbody tr th {\n",
              "        vertical-align: top;\n",
              "    }\n",
              "\n",
              "    .dataframe thead th {\n",
              "        text-align: right;\n",
              "    }\n",
              "</style>\n",
              "<table border=\"1\" class=\"dataframe\">\n",
              "  <thead>\n",
              "    <tr style=\"text-align: right;\">\n",
              "      <th></th>\n",
              "      <th>id</th>\n",
              "      <th>click</th>\n",
              "      <th>hour</th>\n",
              "      <th>C1</th>\n",
              "      <th>banner_pos</th>\n",
              "      <th>device_type</th>\n",
              "      <th>device_conn_type</th>\n",
              "      <th>C14</th>\n",
              "      <th>C15</th>\n",
              "      <th>C16</th>\n",
              "      <th>...</th>\n",
              "      <th>site_id_int</th>\n",
              "      <th>site_domain_int</th>\n",
              "      <th>site_category_int</th>\n",
              "      <th>app_id_int</th>\n",
              "      <th>app_domain_int</th>\n",
              "      <th>app_category_int</th>\n",
              "      <th>device_id_int</th>\n",
              "      <th>device_ip_int</th>\n",
              "      <th>device_model_int</th>\n",
              "      <th>day_of_week_int</th>\n",
              "    </tr>\n",
              "  </thead>\n",
              "  <tbody>\n",
              "    <tr>\n",
              "      <th>0</th>\n",
              "      <td>10012820175855462623</td>\n",
              "      <td>0</td>\n",
              "      <td>2014-10-21</td>\n",
              "      <td>1005</td>\n",
              "      <td>0</td>\n",
              "      <td>1</td>\n",
              "      <td>0</td>\n",
              "      <td>15707</td>\n",
              "      <td>320</td>\n",
              "      <td>50</td>\n",
              "      <td>...</td>\n",
              "      <td>8072457858668009690</td>\n",
              "      <td>-7405404455991950218</td>\n",
              "      <td>5741714047829778229</td>\n",
              "      <td>340817439802058328</td>\n",
              "      <td>944818851713017526</td>\n",
              "      <td>-4447912990114365011</td>\n",
              "      <td>6538910332837309378</td>\n",
              "      <td>-2771980042149229092</td>\n",
              "      <td>5596472927274993678</td>\n",
              "      <td>3948143323723306047</td>\n",
              "    </tr>\n",
              "    <tr>\n",
              "      <th>1</th>\n",
              "      <td>10015405794859644629</td>\n",
              "      <td>1</td>\n",
              "      <td>2014-10-21</td>\n",
              "      <td>1005</td>\n",
              "      <td>0</td>\n",
              "      <td>1</td>\n",
              "      <td>0</td>\n",
              "      <td>15701</td>\n",
              "      <td>320</td>\n",
              "      <td>50</td>\n",
              "      <td>...</td>\n",
              "      <td>8072457858668009690</td>\n",
              "      <td>-7405404455991950218</td>\n",
              "      <td>5741714047829778229</td>\n",
              "      <td>340817439802058328</td>\n",
              "      <td>944818851713017526</td>\n",
              "      <td>-4447912990114365011</td>\n",
              "      <td>6538910332837309378</td>\n",
              "      <td>-557174840053327132</td>\n",
              "      <td>5596472927274993678</td>\n",
              "      <td>3948143323723306047</td>\n",
              "    </tr>\n",
              "    <tr>\n",
              "      <th>2</th>\n",
              "      <td>1001795364355496701</td>\n",
              "      <td>0</td>\n",
              "      <td>2014-10-21</td>\n",
              "      <td>1005</td>\n",
              "      <td>1</td>\n",
              "      <td>1</td>\n",
              "      <td>0</td>\n",
              "      <td>19771</td>\n",
              "      <td>320</td>\n",
              "      <td>50</td>\n",
              "      <td>...</td>\n",
              "      <td>2475699607124947696</td>\n",
              "      <td>7209632983223013193</td>\n",
              "      <td>8476623325361461152</td>\n",
              "      <td>340817439802058328</td>\n",
              "      <td>944818851713017526</td>\n",
              "      <td>-4447912990114365011</td>\n",
              "      <td>6538910332837309378</td>\n",
              "      <td>5565457902063077128</td>\n",
              "      <td>-1227248255125870992</td>\n",
              "      <td>3948143323723306047</td>\n",
              "    </tr>\n",
              "  </tbody>\n",
              "</table>\n",
              "<p>3 rows × 26 columns</p>\n",
              "</div>"
            ],
            "text/plain": [
              "                     id  click       hour    C1  banner_pos  device_type  \\\n",
              "0  10012820175855462623      0 2014-10-21  1005           0            1   \n",
              "1  10015405794859644629      1 2014-10-21  1005           0            1   \n",
              "2   1001795364355496701      0 2014-10-21  1005           1            1   \n",
              "\n",
              "   device_conn_type    C14  C15  C16  ...          site_id_int  \\\n",
              "0                 0  15707  320   50  ...  8072457858668009690   \n",
              "1                 0  15701  320   50  ...  8072457858668009690   \n",
              "2                 0  19771  320   50  ...  2475699607124947696   \n",
              "\n",
              "       site_domain_int    site_category_int          app_id_int  \\\n",
              "0 -7405404455991950218  5741714047829778229  340817439802058328   \n",
              "1 -7405404455991950218  5741714047829778229  340817439802058328   \n",
              "2  7209632983223013193  8476623325361461152  340817439802058328   \n",
              "\n",
              "       app_domain_int     app_category_int        device_id_int  \\\n",
              "0  944818851713017526 -4447912990114365011  6538910332837309378   \n",
              "1  944818851713017526 -4447912990114365011  6538910332837309378   \n",
              "2  944818851713017526 -4447912990114365011  6538910332837309378   \n",
              "\n",
              "         device_ip_int     device_model_int      day_of_week_int  \n",
              "0 -2771980042149229092  5596472927274993678  3948143323723306047  \n",
              "1  -557174840053327132  5596472927274993678  3948143323723306047  \n",
              "2  5565457902063077128 -1227248255125870992  3948143323723306047  \n",
              "\n",
              "[3 rows x 26 columns]"
            ]
          },
          "execution_count": 69,
          "metadata": {},
          "output_type": "execute_result"
        }
      ],
      "source": [
        "train.head(3)"
      ]
    },
    {
      "cell_type": "code",
      "execution_count": 70,
      "metadata": {},
      "outputs": [],
      "source": [
        "train.drop('hour', axis=1, inplace=True)"
      ]
    },
    {
      "cell_type": "code",
      "execution_count": 71,
      "metadata": {},
      "outputs": [],
      "source": [
        "train.drop('id', axis=1, inplace=True)"
      ]
    },
    {
      "cell_type": "code",
      "execution_count": 72,
      "metadata": {},
      "outputs": [],
      "source": [
        "import lightgbm as lgb\n",
        "X_train = train.loc[:, train.columns != 'click']\n",
        "y_target = train.click.values\n",
        "#create lightgbm dataset\n",
        "msk = np.random.rand(len(X_train)) < 0.8\n",
        "lgb_train = lgb.Dataset(X_train[msk], y_target[msk])\n",
        "lgb_eval = lgb.Dataset(X_train[~msk], y_target[~msk], reference=lgb_train)"
      ]
    },
    {
      "cell_type": "code",
      "execution_count": 73,
      "metadata": {
        "scrolled": false
      },
      "outputs": [
        {
          "name": "stdout",
          "output_type": "stream",
          "text": [
            "Start training...\n",
            "[1]\tvalid_0's binary_logloss: 0.450385\n",
            "Training until validation scores don't improve for 500 rounds\n",
            "[2]\tvalid_0's binary_logloss: 0.445813\n",
            "[3]\tvalid_0's binary_logloss: 0.442091\n",
            "[4]\tvalid_0's binary_logloss: 0.439006\n",
            "[5]\tvalid_0's binary_logloss: 0.436297\n",
            "[6]\tvalid_0's binary_logloss: 0.433887\n",
            "[7]\tvalid_0's binary_logloss: 0.431882\n",
            "[8]\tvalid_0's binary_logloss: 0.42999\n",
            "[9]\tvalid_0's binary_logloss: 0.428378\n",
            "[10]\tvalid_0's binary_logloss: 0.426764\n",
            "[11]\tvalid_0's binary_logloss: 0.425372\n",
            "[12]\tvalid_0's binary_logloss: 0.423931\n",
            "[13]\tvalid_0's binary_logloss: 0.422874\n",
            "[14]\tvalid_0's binary_logloss: 0.421921\n",
            "[15]\tvalid_0's binary_logloss: 0.421014\n",
            "[16]\tvalid_0's binary_logloss: 0.420296\n",
            "[17]\tvalid_0's binary_logloss: 0.419595\n",
            "[18]\tvalid_0's binary_logloss: 0.418929\n",
            "[19]\tvalid_0's binary_logloss: 0.418362\n",
            "[20]\tvalid_0's binary_logloss: 0.417841\n",
            "[21]\tvalid_0's binary_logloss: 0.417416\n",
            "[22]\tvalid_0's binary_logloss: 0.416896\n",
            "[23]\tvalid_0's binary_logloss: 0.416324\n",
            "[24]\tvalid_0's binary_logloss: 0.415801\n",
            "[25]\tvalid_0's binary_logloss: 0.415345\n",
            "[26]\tvalid_0's binary_logloss: 0.414967\n",
            "[27]\tvalid_0's binary_logloss: 0.414624\n",
            "[28]\tvalid_0's binary_logloss: 0.414206\n",
            "[29]\tvalid_0's binary_logloss: 0.413927\n",
            "[30]\tvalid_0's binary_logloss: 0.413622\n",
            "[31]\tvalid_0's binary_logloss: 0.413412\n",
            "[32]\tvalid_0's binary_logloss: 0.413058\n",
            "[33]\tvalid_0's binary_logloss: 0.41286\n",
            "[34]\tvalid_0's binary_logloss: 0.412541\n",
            "[35]\tvalid_0's binary_logloss: 0.412348\n",
            "[36]\tvalid_0's binary_logloss: 0.412125\n",
            "[37]\tvalid_0's binary_logloss: 0.411843\n",
            "[38]\tvalid_0's binary_logloss: 0.411574\n",
            "[39]\tvalid_0's binary_logloss: 0.411416\n",
            "[40]\tvalid_0's binary_logloss: 0.411298\n",
            "[41]\tvalid_0's binary_logloss: 0.411152\n",
            "[42]\tvalid_0's binary_logloss: 0.41097\n",
            "[43]\tvalid_0's binary_logloss: 0.410714\n",
            "[44]\tvalid_0's binary_logloss: 0.410535\n",
            "[45]\tvalid_0's binary_logloss: 0.410381\n",
            "[46]\tvalid_0's binary_logloss: 0.410269\n",
            "[47]\tvalid_0's binary_logloss: 0.410156\n",
            "[48]\tvalid_0's binary_logloss: 0.410076\n",
            "[49]\tvalid_0's binary_logloss: 0.409977\n",
            "[50]\tvalid_0's binary_logloss: 0.409841\n",
            "[51]\tvalid_0's binary_logloss: 0.409653\n",
            "[52]\tvalid_0's binary_logloss: 0.409385\n",
            "[53]\tvalid_0's binary_logloss: 0.409234\n",
            "[54]\tvalid_0's binary_logloss: 0.409056\n",
            "[55]\tvalid_0's binary_logloss: 0.408791\n",
            "[56]\tvalid_0's binary_logloss: 0.408748\n",
            "[57]\tvalid_0's binary_logloss: 0.408716\n",
            "[58]\tvalid_0's binary_logloss: 0.408603\n",
            "[59]\tvalid_0's binary_logloss: 0.408423\n",
            "[60]\tvalid_0's binary_logloss: 0.408352\n",
            "[61]\tvalid_0's binary_logloss: 0.408302\n",
            "[62]\tvalid_0's binary_logloss: 0.408169\n",
            "[63]\tvalid_0's binary_logloss: 0.408124\n",
            "[64]\tvalid_0's binary_logloss: 0.408094\n",
            "[65]\tvalid_0's binary_logloss: 0.408037\n",
            "[66]\tvalid_0's binary_logloss: 0.407973\n",
            "[67]\tvalid_0's binary_logloss: 0.407903\n",
            "[68]\tvalid_0's binary_logloss: 0.407836\n",
            "[69]\tvalid_0's binary_logloss: 0.40775\n",
            "[70]\tvalid_0's binary_logloss: 0.407675\n",
            "[71]\tvalid_0's binary_logloss: 0.407552\n",
            "[72]\tvalid_0's binary_logloss: 0.407444\n",
            "[73]\tvalid_0's binary_logloss: 0.407264\n",
            "[74]\tvalid_0's binary_logloss: 0.407151\n",
            "[75]\tvalid_0's binary_logloss: 0.407024\n",
            "[76]\tvalid_0's binary_logloss: 0.406964\n",
            "[77]\tvalid_0's binary_logloss: 0.406855\n",
            "[78]\tvalid_0's binary_logloss: 0.406824\n",
            "[79]\tvalid_0's binary_logloss: 0.406746\n",
            "[80]\tvalid_0's binary_logloss: 0.406677\n",
            "[81]\tvalid_0's binary_logloss: 0.406638\n",
            "[82]\tvalid_0's binary_logloss: 0.406605\n",
            "[83]\tvalid_0's binary_logloss: 0.406557\n",
            "[84]\tvalid_0's binary_logloss: 0.406539\n",
            "[85]\tvalid_0's binary_logloss: 0.406486\n",
            "[86]\tvalid_0's binary_logloss: 0.406385\n",
            "[87]\tvalid_0's binary_logloss: 0.406313\n",
            "[88]\tvalid_0's binary_logloss: 0.406275\n",
            "[89]\tvalid_0's binary_logloss: 0.406201\n",
            "[90]\tvalid_0's binary_logloss: 0.40613\n",
            "[91]\tvalid_0's binary_logloss: 0.406071\n",
            "[92]\tvalid_0's binary_logloss: 0.406023\n",
            "[93]\tvalid_0's binary_logloss: 0.405987\n",
            "[94]\tvalid_0's binary_logloss: 0.405949\n",
            "[95]\tvalid_0's binary_logloss: 0.405891\n",
            "[96]\tvalid_0's binary_logloss: 0.405771\n",
            "[97]\tvalid_0's binary_logloss: 0.405653\n",
            "[98]\tvalid_0's binary_logloss: 0.405615\n",
            "[99]\tvalid_0's binary_logloss: 0.405585\n",
            "[100]\tvalid_0's binary_logloss: 0.405546\n",
            "[101]\tvalid_0's binary_logloss: 0.405533\n",
            "[102]\tvalid_0's binary_logloss: 0.405512\n",
            "[103]\tvalid_0's binary_logloss: 0.405468\n",
            "[104]\tvalid_0's binary_logloss: 0.405418\n",
            "[105]\tvalid_0's binary_logloss: 0.405403\n",
            "[106]\tvalid_0's binary_logloss: 0.405393\n",
            "[107]\tvalid_0's binary_logloss: 0.405368\n",
            "[108]\tvalid_0's binary_logloss: 0.405326\n",
            "[109]\tvalid_0's binary_logloss: 0.405326\n",
            "[110]\tvalid_0's binary_logloss: 0.405306\n",
            "[111]\tvalid_0's binary_logloss: 0.405226\n",
            "[112]\tvalid_0's binary_logloss: 0.405203\n",
            "[113]\tvalid_0's binary_logloss: 0.405161\n",
            "[114]\tvalid_0's binary_logloss: 0.405084\n",
            "[115]\tvalid_0's binary_logloss: 0.405062\n",
            "[116]\tvalid_0's binary_logloss: 0.405003\n",
            "[117]\tvalid_0's binary_logloss: 0.40496\n",
            "[118]\tvalid_0's binary_logloss: 0.404918\n",
            "[119]\tvalid_0's binary_logloss: 0.404898\n",
            "[120]\tvalid_0's binary_logloss: 0.404832\n",
            "[121]\tvalid_0's binary_logloss: 0.404811\n",
            "[122]\tvalid_0's binary_logloss: 0.404786\n",
            "[123]\tvalid_0's binary_logloss: 0.404769\n",
            "[124]\tvalid_0's binary_logloss: 0.404723\n",
            "[125]\tvalid_0's binary_logloss: 0.4047\n",
            "[126]\tvalid_0's binary_logloss: 0.404702\n",
            "[127]\tvalid_0's binary_logloss: 0.404687\n",
            "[128]\tvalid_0's binary_logloss: 0.404688\n",
            "[129]\tvalid_0's binary_logloss: 0.404687\n",
            "[130]\tvalid_0's binary_logloss: 0.404663\n",
            "[131]\tvalid_0's binary_logloss: 0.404629\n",
            "[132]\tvalid_0's binary_logloss: 0.404618\n",
            "[133]\tvalid_0's binary_logloss: 0.404601\n",
            "[134]\tvalid_0's binary_logloss: 0.404572\n",
            "[135]\tvalid_0's binary_logloss: 0.404546\n",
            "[136]\tvalid_0's binary_logloss: 0.404536\n",
            "[137]\tvalid_0's binary_logloss: 0.404506\n",
            "[138]\tvalid_0's binary_logloss: 0.404458\n",
            "[139]\tvalid_0's binary_logloss: 0.404404\n",
            "[140]\tvalid_0's binary_logloss: 0.404373\n",
            "[141]\tvalid_0's binary_logloss: 0.404323\n",
            "[142]\tvalid_0's binary_logloss: 0.404311\n",
            "[143]\tvalid_0's binary_logloss: 0.404291\n",
            "[144]\tvalid_0's binary_logloss: 0.404274\n",
            "[145]\tvalid_0's binary_logloss: 0.404284\n",
            "[146]\tvalid_0's binary_logloss: 0.404289\n",
            "[147]\tvalid_0's binary_logloss: 0.404276\n",
            "[148]\tvalid_0's binary_logloss: 0.404245\n",
            "[149]\tvalid_0's binary_logloss: 0.404205\n",
            "[150]\tvalid_0's binary_logloss: 0.404175\n",
            "[151]\tvalid_0's binary_logloss: 0.404133\n",
            "[152]\tvalid_0's binary_logloss: 0.404108\n",
            "[153]\tvalid_0's binary_logloss: 0.404076\n",
            "[154]\tvalid_0's binary_logloss: 0.404075\n",
            "[155]\tvalid_0's binary_logloss: 0.404053\n",
            "[156]\tvalid_0's binary_logloss: 0.40402\n",
            "[157]\tvalid_0's binary_logloss: 0.403943\n",
            "[158]\tvalid_0's binary_logloss: 0.403926\n",
            "[159]\tvalid_0's binary_logloss: 0.403916\n",
            "[160]\tvalid_0's binary_logloss: 0.403907\n",
            "[161]\tvalid_0's binary_logloss: 0.403879\n",
            "[162]\tvalid_0's binary_logloss: 0.403847\n",
            "[163]\tvalid_0's binary_logloss: 0.4038\n",
            "[164]\tvalid_0's binary_logloss: 0.403784\n",
            "[165]\tvalid_0's binary_logloss: 0.403766\n",
            "[166]\tvalid_0's binary_logloss: 0.403761\n",
            "[167]\tvalid_0's binary_logloss: 0.403738\n",
            "[168]\tvalid_0's binary_logloss: 0.403723\n",
            "[169]\tvalid_0's binary_logloss: 0.403707\n",
            "[170]\tvalid_0's binary_logloss: 0.403697\n",
            "[171]\tvalid_0's binary_logloss: 0.403687\n",
            "[172]\tvalid_0's binary_logloss: 0.403671\n",
            "[173]\tvalid_0's binary_logloss: 0.403658\n",
            "[174]\tvalid_0's binary_logloss: 0.40365\n",
            "[175]\tvalid_0's binary_logloss: 0.403648\n",
            "[176]\tvalid_0's binary_logloss: 0.40363\n",
            "[177]\tvalid_0's binary_logloss: 0.403623\n",
            "[178]\tvalid_0's binary_logloss: 0.403607\n",
            "[179]\tvalid_0's binary_logloss: 0.403577\n",
            "[180]\tvalid_0's binary_logloss: 0.403564\n",
            "[181]\tvalid_0's binary_logloss: 0.403548\n",
            "[182]\tvalid_0's binary_logloss: 0.403526\n",
            "[183]\tvalid_0's binary_logloss: 0.403528\n",
            "[184]\tvalid_0's binary_logloss: 0.403523\n",
            "[185]\tvalid_0's binary_logloss: 0.403514\n",
            "[186]\tvalid_0's binary_logloss: 0.403498\n",
            "[187]\tvalid_0's binary_logloss: 0.403496\n",
            "[188]\tvalid_0's binary_logloss: 0.403492\n",
            "[189]\tvalid_0's binary_logloss: 0.403476\n",
            "[190]\tvalid_0's binary_logloss: 0.403461\n",
            "[191]\tvalid_0's binary_logloss: 0.403442\n",
            "[192]\tvalid_0's binary_logloss: 0.40342\n",
            "[193]\tvalid_0's binary_logloss: 0.403389\n",
            "[194]\tvalid_0's binary_logloss: 0.403377\n",
            "[195]\tvalid_0's binary_logloss: 0.403366\n",
            "[196]\tvalid_0's binary_logloss: 0.403313\n",
            "[197]\tvalid_0's binary_logloss: 0.403296\n",
            "[198]\tvalid_0's binary_logloss: 0.403272\n",
            "[199]\tvalid_0's binary_logloss: 0.403245\n",
            "[200]\tvalid_0's binary_logloss: 0.403233\n",
            "[201]\tvalid_0's binary_logloss: 0.403216\n",
            "[202]\tvalid_0's binary_logloss: 0.403188\n"
          ]
        },
        {
          "name": "stdout",
          "output_type": "stream",
          "text": [
            "[203]\tvalid_0's binary_logloss: 0.403174\n",
            "[204]\tvalid_0's binary_logloss: 0.403157\n",
            "[205]\tvalid_0's binary_logloss: 0.403147\n",
            "[206]\tvalid_0's binary_logloss: 0.40312\n",
            "[207]\tvalid_0's binary_logloss: 0.403095\n",
            "[208]\tvalid_0's binary_logloss: 0.403096\n",
            "[209]\tvalid_0's binary_logloss: 0.403076\n",
            "[210]\tvalid_0's binary_logloss: 0.403053\n",
            "[211]\tvalid_0's binary_logloss: 0.403025\n",
            "[212]\tvalid_0's binary_logloss: 0.402988\n",
            "[213]\tvalid_0's binary_logloss: 0.402969\n",
            "[214]\tvalid_0's binary_logloss: 0.402942\n",
            "[215]\tvalid_0's binary_logloss: 0.402922\n",
            "[216]\tvalid_0's binary_logloss: 0.402913\n",
            "[217]\tvalid_0's binary_logloss: 0.402897\n",
            "[218]\tvalid_0's binary_logloss: 0.40287\n",
            "[219]\tvalid_0's binary_logloss: 0.40287\n",
            "[220]\tvalid_0's binary_logloss: 0.402853\n",
            "[221]\tvalid_0's binary_logloss: 0.402857\n",
            "[222]\tvalid_0's binary_logloss: 0.402837\n",
            "[223]\tvalid_0's binary_logloss: 0.402798\n",
            "[224]\tvalid_0's binary_logloss: 0.402775\n",
            "[225]\tvalid_0's binary_logloss: 0.402747\n",
            "[226]\tvalid_0's binary_logloss: 0.40272\n",
            "[227]\tvalid_0's binary_logloss: 0.4027\n",
            "[228]\tvalid_0's binary_logloss: 0.402701\n",
            "[229]\tvalid_0's binary_logloss: 0.402678\n",
            "[230]\tvalid_0's binary_logloss: 0.402665\n",
            "[231]\tvalid_0's binary_logloss: 0.402653\n",
            "[232]\tvalid_0's binary_logloss: 0.402641\n",
            "[233]\tvalid_0's binary_logloss: 0.402644\n",
            "[234]\tvalid_0's binary_logloss: 0.402629\n",
            "[235]\tvalid_0's binary_logloss: 0.402622\n",
            "[236]\tvalid_0's binary_logloss: 0.402624\n",
            "[237]\tvalid_0's binary_logloss: 0.402614\n",
            "[238]\tvalid_0's binary_logloss: 0.402617\n",
            "[239]\tvalid_0's binary_logloss: 0.402622\n",
            "[240]\tvalid_0's binary_logloss: 0.402621\n",
            "[241]\tvalid_0's binary_logloss: 0.402602\n",
            "[242]\tvalid_0's binary_logloss: 0.402569\n",
            "[243]\tvalid_0's binary_logloss: 0.402556\n",
            "[244]\tvalid_0's binary_logloss: 0.402554\n",
            "[245]\tvalid_0's binary_logloss: 0.402554\n",
            "[246]\tvalid_0's binary_logloss: 0.402559\n",
            "[247]\tvalid_0's binary_logloss: 0.402531\n",
            "[248]\tvalid_0's binary_logloss: 0.402531\n",
            "[249]\tvalid_0's binary_logloss: 0.402501\n",
            "[250]\tvalid_0's binary_logloss: 0.402461\n",
            "[251]\tvalid_0's binary_logloss: 0.402465\n",
            "[252]\tvalid_0's binary_logloss: 0.402465\n",
            "[253]\tvalid_0's binary_logloss: 0.402448\n",
            "[254]\tvalid_0's binary_logloss: 0.402439\n",
            "[255]\tvalid_0's binary_logloss: 0.402424\n",
            "[256]\tvalid_0's binary_logloss: 0.402397\n",
            "[257]\tvalid_0's binary_logloss: 0.402381\n",
            "[258]\tvalid_0's binary_logloss: 0.402362\n",
            "[259]\tvalid_0's binary_logloss: 0.402361\n",
            "[260]\tvalid_0's binary_logloss: 0.402353\n",
            "[261]\tvalid_0's binary_logloss: 0.402319\n",
            "[262]\tvalid_0's binary_logloss: 0.402316\n",
            "[263]\tvalid_0's binary_logloss: 0.402292\n",
            "[264]\tvalid_0's binary_logloss: 0.402284\n",
            "[265]\tvalid_0's binary_logloss: 0.402267\n",
            "[266]\tvalid_0's binary_logloss: 0.402254\n",
            "[267]\tvalid_0's binary_logloss: 0.40226\n",
            "[268]\tvalid_0's binary_logloss: 0.402256\n",
            "[269]\tvalid_0's binary_logloss: 0.402257\n",
            "[270]\tvalid_0's binary_logloss: 0.402266\n",
            "[271]\tvalid_0's binary_logloss: 0.402257\n",
            "[272]\tvalid_0's binary_logloss: 0.402247\n",
            "[273]\tvalid_0's binary_logloss: 0.402244\n",
            "[274]\tvalid_0's binary_logloss: 0.402233\n",
            "[275]\tvalid_0's binary_logloss: 0.402228\n",
            "[276]\tvalid_0's binary_logloss: 0.40221\n",
            "[277]\tvalid_0's binary_logloss: 0.402193\n",
            "[278]\tvalid_0's binary_logloss: 0.402185\n",
            "[279]\tvalid_0's binary_logloss: 0.402174\n",
            "[280]\tvalid_0's binary_logloss: 0.40217\n",
            "[281]\tvalid_0's binary_logloss: 0.40217\n",
            "[282]\tvalid_0's binary_logloss: 0.402138\n",
            "[283]\tvalid_0's binary_logloss: 0.402145\n",
            "[284]\tvalid_0's binary_logloss: 0.402123\n",
            "[285]\tvalid_0's binary_logloss: 0.402105\n",
            "[286]\tvalid_0's binary_logloss: 0.4021\n",
            "[287]\tvalid_0's binary_logloss: 0.40208\n",
            "[288]\tvalid_0's binary_logloss: 0.402087\n",
            "[289]\tvalid_0's binary_logloss: 0.402092\n",
            "[290]\tvalid_0's binary_logloss: 0.402064\n",
            "[291]\tvalid_0's binary_logloss: 0.402058\n",
            "[292]\tvalid_0's binary_logloss: 0.402055\n",
            "[293]\tvalid_0's binary_logloss: 0.402054\n",
            "[294]\tvalid_0's binary_logloss: 0.402048\n",
            "[295]\tvalid_0's binary_logloss: 0.402021\n",
            "[296]\tvalid_0's binary_logloss: 0.402002\n",
            "[297]\tvalid_0's binary_logloss: 0.402003\n",
            "[298]\tvalid_0's binary_logloss: 0.401981\n",
            "[299]\tvalid_0's binary_logloss: 0.401966\n",
            "[300]\tvalid_0's binary_logloss: 0.401975\n",
            "[301]\tvalid_0's binary_logloss: 0.401965\n",
            "[302]\tvalid_0's binary_logloss: 0.401946\n",
            "[303]\tvalid_0's binary_logloss: 0.401928\n",
            "[304]\tvalid_0's binary_logloss: 0.401924\n",
            "[305]\tvalid_0's binary_logloss: 0.401922\n",
            "[306]\tvalid_0's binary_logloss: 0.40192\n",
            "[307]\tvalid_0's binary_logloss: 0.4019\n",
            "[308]\tvalid_0's binary_logloss: 0.401872\n",
            "[309]\tvalid_0's binary_logloss: 0.401881\n",
            "[310]\tvalid_0's binary_logloss: 0.401877\n",
            "[311]\tvalid_0's binary_logloss: 0.401852\n",
            "[312]\tvalid_0's binary_logloss: 0.401842\n",
            "[313]\tvalid_0's binary_logloss: 0.401836\n",
            "[314]\tvalid_0's binary_logloss: 0.401841\n",
            "[315]\tvalid_0's binary_logloss: 0.401835\n",
            "[316]\tvalid_0's binary_logloss: 0.401835\n",
            "[317]\tvalid_0's binary_logloss: 0.401831\n",
            "[318]\tvalid_0's binary_logloss: 0.401834\n",
            "[319]\tvalid_0's binary_logloss: 0.401836\n",
            "[320]\tvalid_0's binary_logloss: 0.401836\n",
            "[321]\tvalid_0's binary_logloss: 0.40183\n",
            "[322]\tvalid_0's binary_logloss: 0.401807\n",
            "[323]\tvalid_0's binary_logloss: 0.4018\n",
            "[324]\tvalid_0's binary_logloss: 0.401802\n",
            "[325]\tvalid_0's binary_logloss: 0.401804\n",
            "[326]\tvalid_0's binary_logloss: 0.401798\n",
            "[327]\tvalid_0's binary_logloss: 0.401787\n",
            "[328]\tvalid_0's binary_logloss: 0.401776\n",
            "[329]\tvalid_0's binary_logloss: 0.401765\n",
            "[330]\tvalid_0's binary_logloss: 0.401762\n",
            "[331]\tvalid_0's binary_logloss: 0.401764\n",
            "[332]\tvalid_0's binary_logloss: 0.40176\n",
            "[333]\tvalid_0's binary_logloss: 0.401763\n",
            "[334]\tvalid_0's binary_logloss: 0.40177\n",
            "[335]\tvalid_0's binary_logloss: 0.40176\n",
            "[336]\tvalid_0's binary_logloss: 0.401741\n",
            "[337]\tvalid_0's binary_logloss: 0.40172\n",
            "[338]\tvalid_0's binary_logloss: 0.401715\n",
            "[339]\tvalid_0's binary_logloss: 0.401717\n",
            "[340]\tvalid_0's binary_logloss: 0.401712\n",
            "[341]\tvalid_0's binary_logloss: 0.401705\n",
            "[342]\tvalid_0's binary_logloss: 0.401681\n",
            "[343]\tvalid_0's binary_logloss: 0.401651\n",
            "[344]\tvalid_0's binary_logloss: 0.401646\n",
            "[345]\tvalid_0's binary_logloss: 0.401637\n",
            "[346]\tvalid_0's binary_logloss: 0.401623\n",
            "[347]\tvalid_0's binary_logloss: 0.401616\n",
            "[348]\tvalid_0's binary_logloss: 0.401609\n",
            "[349]\tvalid_0's binary_logloss: 0.401601\n",
            "[350]\tvalid_0's binary_logloss: 0.401586\n",
            "[351]\tvalid_0's binary_logloss: 0.401585\n",
            "[352]\tvalid_0's binary_logloss: 0.401575\n",
            "[353]\tvalid_0's binary_logloss: 0.401558\n",
            "[354]\tvalid_0's binary_logloss: 0.401553\n",
            "[355]\tvalid_0's binary_logloss: 0.401549\n",
            "[356]\tvalid_0's binary_logloss: 0.401541\n",
            "[357]\tvalid_0's binary_logloss: 0.401537\n",
            "[358]\tvalid_0's binary_logloss: 0.401513\n",
            "[359]\tvalid_0's binary_logloss: 0.401482\n",
            "[360]\tvalid_0's binary_logloss: 0.401457\n",
            "[361]\tvalid_0's binary_logloss: 0.401453\n",
            "[362]\tvalid_0's binary_logloss: 0.401448\n",
            "[363]\tvalid_0's binary_logloss: 0.401444\n",
            "[364]\tvalid_0's binary_logloss: 0.401439\n",
            "[365]\tvalid_0's binary_logloss: 0.401445\n",
            "[366]\tvalid_0's binary_logloss: 0.401447\n",
            "[367]\tvalid_0's binary_logloss: 0.401448\n",
            "[368]\tvalid_0's binary_logloss: 0.401444\n",
            "[369]\tvalid_0's binary_logloss: 0.401441\n",
            "[370]\tvalid_0's binary_logloss: 0.401443\n",
            "[371]\tvalid_0's binary_logloss: 0.401425\n",
            "[372]\tvalid_0's binary_logloss: 0.40142\n",
            "[373]\tvalid_0's binary_logloss: 0.401421\n",
            "[374]\tvalid_0's binary_logloss: 0.401408\n",
            "[375]\tvalid_0's binary_logloss: 0.401399\n",
            "[376]\tvalid_0's binary_logloss: 0.401391\n",
            "[377]\tvalid_0's binary_logloss: 0.401383\n",
            "[378]\tvalid_0's binary_logloss: 0.401377\n",
            "[379]\tvalid_0's binary_logloss: 0.401369\n",
            "[380]\tvalid_0's binary_logloss: 0.401364\n",
            "[381]\tvalid_0's binary_logloss: 0.401358\n",
            "[382]\tvalid_0's binary_logloss: 0.401354\n",
            "[383]\tvalid_0's binary_logloss: 0.40135\n",
            "[384]\tvalid_0's binary_logloss: 0.401357\n",
            "[385]\tvalid_0's binary_logloss: 0.401356\n",
            "[386]\tvalid_0's binary_logloss: 0.401348\n",
            "[387]\tvalid_0's binary_logloss: 0.40135\n",
            "[388]\tvalid_0's binary_logloss: 0.401352\n",
            "[389]\tvalid_0's binary_logloss: 0.401354\n",
            "[390]\tvalid_0's binary_logloss: 0.401361\n",
            "[391]\tvalid_0's binary_logloss: 0.401362\n",
            "[392]\tvalid_0's binary_logloss: 0.40136\n",
            "[393]\tvalid_0's binary_logloss: 0.401363\n",
            "[394]\tvalid_0's binary_logloss: 0.401361\n",
            "[395]\tvalid_0's binary_logloss: 0.401359\n",
            "[396]\tvalid_0's binary_logloss: 0.401355\n",
            "[397]\tvalid_0's binary_logloss: 0.40134\n",
            "[398]\tvalid_0's binary_logloss: 0.40134\n",
            "[399]\tvalid_0's binary_logloss: 0.401324\n",
            "[400]\tvalid_0's binary_logloss: 0.401306\n",
            "[401]\tvalid_0's binary_logloss: 0.401289\n",
            "[402]\tvalid_0's binary_logloss: 0.401292\n",
            "[403]\tvalid_0's binary_logloss: 0.40129\n",
            "[404]\tvalid_0's binary_logloss: 0.401279\n",
            "[405]\tvalid_0's binary_logloss: 0.401272\n",
            "[406]\tvalid_0's binary_logloss: 0.401278\n",
            "[407]\tvalid_0's binary_logloss: 0.401291\n",
            "[408]\tvalid_0's binary_logloss: 0.401295\n",
            "[409]\tvalid_0's binary_logloss: 0.401294\n"
          ]
        },
        {
          "name": "stdout",
          "output_type": "stream",
          "text": [
            "[410]\tvalid_0's binary_logloss: 0.401305\n",
            "[411]\tvalid_0's binary_logloss: 0.4013\n",
            "[412]\tvalid_0's binary_logloss: 0.401293\n",
            "[413]\tvalid_0's binary_logloss: 0.401298\n",
            "[414]\tvalid_0's binary_logloss: 0.401305\n",
            "[415]\tvalid_0's binary_logloss: 0.401304\n",
            "[416]\tvalid_0's binary_logloss: 0.401292\n",
            "[417]\tvalid_0's binary_logloss: 0.401297\n",
            "[418]\tvalid_0's binary_logloss: 0.401297\n",
            "[419]\tvalid_0's binary_logloss: 0.401299\n",
            "[420]\tvalid_0's binary_logloss: 0.401301\n",
            "[421]\tvalid_0's binary_logloss: 0.401296\n",
            "[422]\tvalid_0's binary_logloss: 0.401297\n",
            "[423]\tvalid_0's binary_logloss: 0.401291\n",
            "[424]\tvalid_0's binary_logloss: 0.401292\n",
            "[425]\tvalid_0's binary_logloss: 0.401292\n",
            "[426]\tvalid_0's binary_logloss: 0.401279\n",
            "[427]\tvalid_0's binary_logloss: 0.40129\n",
            "[428]\tvalid_0's binary_logloss: 0.401293\n",
            "[429]\tvalid_0's binary_logloss: 0.401287\n",
            "[430]\tvalid_0's binary_logloss: 0.401286\n",
            "[431]\tvalid_0's binary_logloss: 0.401271\n",
            "[432]\tvalid_0's binary_logloss: 0.401265\n",
            "[433]\tvalid_0's binary_logloss: 0.401271\n",
            "[434]\tvalid_0's binary_logloss: 0.401267\n",
            "[435]\tvalid_0's binary_logloss: 0.40126\n",
            "[436]\tvalid_0's binary_logloss: 0.40125\n",
            "[437]\tvalid_0's binary_logloss: 0.401244\n",
            "[438]\tvalid_0's binary_logloss: 0.40124\n",
            "[439]\tvalid_0's binary_logloss: 0.401237\n",
            "[440]\tvalid_0's binary_logloss: 0.401229\n",
            "[441]\tvalid_0's binary_logloss: 0.401214\n",
            "[442]\tvalid_0's binary_logloss: 0.401213\n",
            "[443]\tvalid_0's binary_logloss: 0.401211\n",
            "[444]\tvalid_0's binary_logloss: 0.401197\n",
            "[445]\tvalid_0's binary_logloss: 0.401194\n",
            "[446]\tvalid_0's binary_logloss: 0.401182\n",
            "[447]\tvalid_0's binary_logloss: 0.401179\n",
            "[448]\tvalid_0's binary_logloss: 0.401181\n",
            "[449]\tvalid_0's binary_logloss: 0.401187\n",
            "[450]\tvalid_0's binary_logloss: 0.401189\n",
            "[451]\tvalid_0's binary_logloss: 0.401192\n",
            "[452]\tvalid_0's binary_logloss: 0.401187\n",
            "[453]\tvalid_0's binary_logloss: 0.40118\n",
            "[454]\tvalid_0's binary_logloss: 0.401177\n",
            "[455]\tvalid_0's binary_logloss: 0.401169\n",
            "[456]\tvalid_0's binary_logloss: 0.401162\n",
            "[457]\tvalid_0's binary_logloss: 0.401155\n",
            "[458]\tvalid_0's binary_logloss: 0.401156\n",
            "[459]\tvalid_0's binary_logloss: 0.40116\n",
            "[460]\tvalid_0's binary_logloss: 0.401161\n",
            "[461]\tvalid_0's binary_logloss: 0.401146\n",
            "[462]\tvalid_0's binary_logloss: 0.401135\n",
            "[463]\tvalid_0's binary_logloss: 0.40113\n",
            "[464]\tvalid_0's binary_logloss: 0.401132\n",
            "[465]\tvalid_0's binary_logloss: 0.401116\n",
            "[466]\tvalid_0's binary_logloss: 0.401115\n",
            "[467]\tvalid_0's binary_logloss: 0.401106\n",
            "[468]\tvalid_0's binary_logloss: 0.401105\n",
            "[469]\tvalid_0's binary_logloss: 0.401093\n",
            "[470]\tvalid_0's binary_logloss: 0.40109\n",
            "[471]\tvalid_0's binary_logloss: 0.401088\n",
            "[472]\tvalid_0's binary_logloss: 0.401089\n",
            "[473]\tvalid_0's binary_logloss: 0.401091\n",
            "[474]\tvalid_0's binary_logloss: 0.401083\n",
            "[475]\tvalid_0's binary_logloss: 0.401097\n",
            "[476]\tvalid_0's binary_logloss: 0.401088\n",
            "[477]\tvalid_0's binary_logloss: 0.401081\n",
            "[478]\tvalid_0's binary_logloss: 0.401087\n",
            "[479]\tvalid_0's binary_logloss: 0.401073\n",
            "[480]\tvalid_0's binary_logloss: 0.401077\n",
            "[481]\tvalid_0's binary_logloss: 0.401065\n",
            "[482]\tvalid_0's binary_logloss: 0.401074\n",
            "[483]\tvalid_0's binary_logloss: 0.401085\n",
            "[484]\tvalid_0's binary_logloss: 0.401092\n",
            "[485]\tvalid_0's binary_logloss: 0.40109\n",
            "[486]\tvalid_0's binary_logloss: 0.401085\n",
            "[487]\tvalid_0's binary_logloss: 0.401072\n",
            "[488]\tvalid_0's binary_logloss: 0.40107\n",
            "[489]\tvalid_0's binary_logloss: 0.401066\n",
            "[490]\tvalid_0's binary_logloss: 0.401057\n",
            "[491]\tvalid_0's binary_logloss: 0.401046\n",
            "[492]\tvalid_0's binary_logloss: 0.401034\n",
            "[493]\tvalid_0's binary_logloss: 0.401012\n",
            "[494]\tvalid_0's binary_logloss: 0.401003\n",
            "[495]\tvalid_0's binary_logloss: 0.401\n",
            "[496]\tvalid_0's binary_logloss: 0.400995\n",
            "[497]\tvalid_0's binary_logloss: 0.400989\n",
            "[498]\tvalid_0's binary_logloss: 0.400984\n",
            "[499]\tvalid_0's binary_logloss: 0.400976\n",
            "[500]\tvalid_0's binary_logloss: 0.400977\n",
            "[501]\tvalid_0's binary_logloss: 0.400974\n",
            "[502]\tvalid_0's binary_logloss: 0.400974\n",
            "[503]\tvalid_0's binary_logloss: 0.400982\n",
            "[504]\tvalid_0's binary_logloss: 0.40098\n",
            "[505]\tvalid_0's binary_logloss: 0.40097\n",
            "[506]\tvalid_0's binary_logloss: 0.400955\n",
            "[507]\tvalid_0's binary_logloss: 0.400953\n",
            "[508]\tvalid_0's binary_logloss: 0.400942\n",
            "[509]\tvalid_0's binary_logloss: 0.40095\n",
            "[510]\tvalid_0's binary_logloss: 0.400946\n",
            "[511]\tvalid_0's binary_logloss: 0.400942\n",
            "[512]\tvalid_0's binary_logloss: 0.400939\n",
            "[513]\tvalid_0's binary_logloss: 0.400931\n",
            "[514]\tvalid_0's binary_logloss: 0.400935\n",
            "[515]\tvalid_0's binary_logloss: 0.400937\n",
            "[516]\tvalid_0's binary_logloss: 0.400912\n",
            "[517]\tvalid_0's binary_logloss: 0.400899\n",
            "[518]\tvalid_0's binary_logloss: 0.400892\n",
            "[519]\tvalid_0's binary_logloss: 0.400871\n",
            "[520]\tvalid_0's binary_logloss: 0.400869\n",
            "[521]\tvalid_0's binary_logloss: 0.400855\n",
            "[522]\tvalid_0's binary_logloss: 0.400849\n",
            "[523]\tvalid_0's binary_logloss: 0.400831\n",
            "[524]\tvalid_0's binary_logloss: 0.400829\n",
            "[525]\tvalid_0's binary_logloss: 0.400825\n",
            "[526]\tvalid_0's binary_logloss: 0.400822\n",
            "[527]\tvalid_0's binary_logloss: 0.400813\n",
            "[528]\tvalid_0's binary_logloss: 0.400812\n",
            "[529]\tvalid_0's binary_logloss: 0.40081\n",
            "[530]\tvalid_0's binary_logloss: 0.400809\n",
            "[531]\tvalid_0's binary_logloss: 0.400813\n",
            "[532]\tvalid_0's binary_logloss: 0.400813\n",
            "[533]\tvalid_0's binary_logloss: 0.400807\n",
            "[534]\tvalid_0's binary_logloss: 0.400808\n",
            "[535]\tvalid_0's binary_logloss: 0.400797\n",
            "[536]\tvalid_0's binary_logloss: 0.400782\n",
            "[537]\tvalid_0's binary_logloss: 0.40077\n",
            "[538]\tvalid_0's binary_logloss: 0.400762\n",
            "[539]\tvalid_0's binary_logloss: 0.400756\n",
            "[540]\tvalid_0's binary_logloss: 0.400742\n",
            "[541]\tvalid_0's binary_logloss: 0.400743\n",
            "[542]\tvalid_0's binary_logloss: 0.40074\n",
            "[543]\tvalid_0's binary_logloss: 0.400741\n",
            "[544]\tvalid_0's binary_logloss: 0.400745\n",
            "[545]\tvalid_0's binary_logloss: 0.400746\n",
            "[546]\tvalid_0's binary_logloss: 0.400731\n",
            "[547]\tvalid_0's binary_logloss: 0.400736\n",
            "[548]\tvalid_0's binary_logloss: 0.400733\n",
            "[549]\tvalid_0's binary_logloss: 0.400733\n",
            "[550]\tvalid_0's binary_logloss: 0.400737\n",
            "[551]\tvalid_0's binary_logloss: 0.400743\n",
            "[552]\tvalid_0's binary_logloss: 0.40073\n",
            "[553]\tvalid_0's binary_logloss: 0.400729\n",
            "[554]\tvalid_0's binary_logloss: 0.400725\n",
            "[555]\tvalid_0's binary_logloss: 0.400733\n",
            "[556]\tvalid_0's binary_logloss: 0.400732\n",
            "[557]\tvalid_0's binary_logloss: 0.400741\n",
            "[558]\tvalid_0's binary_logloss: 0.400724\n",
            "[559]\tvalid_0's binary_logloss: 0.400716\n",
            "[560]\tvalid_0's binary_logloss: 0.400712\n",
            "[561]\tvalid_0's binary_logloss: 0.40071\n",
            "[562]\tvalid_0's binary_logloss: 0.400704\n",
            "[563]\tvalid_0's binary_logloss: 0.400702\n",
            "[564]\tvalid_0's binary_logloss: 0.400703\n",
            "[565]\tvalid_0's binary_logloss: 0.400707\n",
            "[566]\tvalid_0's binary_logloss: 0.400712\n",
            "[567]\tvalid_0's binary_logloss: 0.400714\n",
            "[568]\tvalid_0's binary_logloss: 0.400715\n",
            "[569]\tvalid_0's binary_logloss: 0.400717\n",
            "[570]\tvalid_0's binary_logloss: 0.40072\n",
            "[571]\tvalid_0's binary_logloss: 0.400722\n",
            "[572]\tvalid_0's binary_logloss: 0.400726\n",
            "[573]\tvalid_0's binary_logloss: 0.400726\n",
            "[574]\tvalid_0's binary_logloss: 0.400718\n",
            "[575]\tvalid_0's binary_logloss: 0.400725\n",
            "[576]\tvalid_0's binary_logloss: 0.400723\n",
            "[577]\tvalid_0's binary_logloss: 0.400713\n",
            "[578]\tvalid_0's binary_logloss: 0.400693\n",
            "[579]\tvalid_0's binary_logloss: 0.400699\n",
            "[580]\tvalid_0's binary_logloss: 0.400695\n",
            "[581]\tvalid_0's binary_logloss: 0.400695\n",
            "[582]\tvalid_0's binary_logloss: 0.400708\n",
            "[583]\tvalid_0's binary_logloss: 0.4007\n",
            "[584]\tvalid_0's binary_logloss: 0.400696\n",
            "[585]\tvalid_0's binary_logloss: 0.400694\n",
            "[586]\tvalid_0's binary_logloss: 0.400679\n",
            "[587]\tvalid_0's binary_logloss: 0.400672\n",
            "[588]\tvalid_0's binary_logloss: 0.400676\n",
            "[589]\tvalid_0's binary_logloss: 0.400673\n",
            "[590]\tvalid_0's binary_logloss: 0.400677\n",
            "[591]\tvalid_0's binary_logloss: 0.400672\n",
            "[592]\tvalid_0's binary_logloss: 0.400661\n",
            "[593]\tvalid_0's binary_logloss: 0.400645\n",
            "[594]\tvalid_0's binary_logloss: 0.400642\n",
            "[595]\tvalid_0's binary_logloss: 0.400644\n",
            "[596]\tvalid_0's binary_logloss: 0.400648\n",
            "[597]\tvalid_0's binary_logloss: 0.400644\n",
            "[598]\tvalid_0's binary_logloss: 0.400641\n",
            "[599]\tvalid_0's binary_logloss: 0.400642\n",
            "[600]\tvalid_0's binary_logloss: 0.400649\n",
            "[601]\tvalid_0's binary_logloss: 0.400648\n",
            "[602]\tvalid_0's binary_logloss: 0.400645\n",
            "[603]\tvalid_0's binary_logloss: 0.400641\n",
            "[604]\tvalid_0's binary_logloss: 0.400625\n",
            "[605]\tvalid_0's binary_logloss: 0.400613\n",
            "[606]\tvalid_0's binary_logloss: 0.400611\n",
            "[607]\tvalid_0's binary_logloss: 0.400606\n",
            "[608]\tvalid_0's binary_logloss: 0.400598\n",
            "[609]\tvalid_0's binary_logloss: 0.400604\n",
            "[610]\tvalid_0's binary_logloss: 0.400597\n",
            "[611]\tvalid_0's binary_logloss: 0.400589\n",
            "[612]\tvalid_0's binary_logloss: 0.400586\n",
            "[613]\tvalid_0's binary_logloss: 0.400592\n",
            "[614]\tvalid_0's binary_logloss: 0.400598\n",
            "[615]\tvalid_0's binary_logloss: 0.400594\n"
          ]
        },
        {
          "name": "stdout",
          "output_type": "stream",
          "text": [
            "[616]\tvalid_0's binary_logloss: 0.400589\n",
            "[617]\tvalid_0's binary_logloss: 0.400589\n",
            "[618]\tvalid_0's binary_logloss: 0.40059\n",
            "[619]\tvalid_0's binary_logloss: 0.400588\n",
            "[620]\tvalid_0's binary_logloss: 0.400582\n",
            "[621]\tvalid_0's binary_logloss: 0.400587\n",
            "[622]\tvalid_0's binary_logloss: 0.40059\n",
            "[623]\tvalid_0's binary_logloss: 0.40059\n",
            "[624]\tvalid_0's binary_logloss: 0.400583\n",
            "[625]\tvalid_0's binary_logloss: 0.400577\n",
            "[626]\tvalid_0's binary_logloss: 0.400569\n",
            "[627]\tvalid_0's binary_logloss: 0.400567\n",
            "[628]\tvalid_0's binary_logloss: 0.400573\n",
            "[629]\tvalid_0's binary_logloss: 0.400571\n",
            "[630]\tvalid_0's binary_logloss: 0.400575\n",
            "[631]\tvalid_0's binary_logloss: 0.400572\n",
            "[632]\tvalid_0's binary_logloss: 0.400565\n",
            "[633]\tvalid_0's binary_logloss: 0.40056\n",
            "[634]\tvalid_0's binary_logloss: 0.400561\n",
            "[635]\tvalid_0's binary_logloss: 0.400555\n",
            "[636]\tvalid_0's binary_logloss: 0.400551\n",
            "[637]\tvalid_0's binary_logloss: 0.400558\n",
            "[638]\tvalid_0's binary_logloss: 0.400569\n",
            "[639]\tvalid_0's binary_logloss: 0.40056\n",
            "[640]\tvalid_0's binary_logloss: 0.400565\n",
            "[641]\tvalid_0's binary_logloss: 0.400561\n",
            "[642]\tvalid_0's binary_logloss: 0.40057\n",
            "[643]\tvalid_0's binary_logloss: 0.400575\n",
            "[644]\tvalid_0's binary_logloss: 0.400569\n",
            "[645]\tvalid_0's binary_logloss: 0.400579\n",
            "[646]\tvalid_0's binary_logloss: 0.400572\n",
            "[647]\tvalid_0's binary_logloss: 0.400571\n",
            "[648]\tvalid_0's binary_logloss: 0.400566\n",
            "[649]\tvalid_0's binary_logloss: 0.400559\n",
            "[650]\tvalid_0's binary_logloss: 0.400562\n",
            "[651]\tvalid_0's binary_logloss: 0.400562\n",
            "[652]\tvalid_0's binary_logloss: 0.400569\n",
            "[653]\tvalid_0's binary_logloss: 0.400574\n",
            "[654]\tvalid_0's binary_logloss: 0.400567\n",
            "[655]\tvalid_0's binary_logloss: 0.400567\n",
            "[656]\tvalid_0's binary_logloss: 0.400552\n",
            "[657]\tvalid_0's binary_logloss: 0.400541\n",
            "[658]\tvalid_0's binary_logloss: 0.400532\n",
            "[659]\tvalid_0's binary_logloss: 0.400537\n",
            "[660]\tvalid_0's binary_logloss: 0.400523\n",
            "[661]\tvalid_0's binary_logloss: 0.400501\n",
            "[662]\tvalid_0's binary_logloss: 0.400492\n",
            "[663]\tvalid_0's binary_logloss: 0.400498\n",
            "[664]\tvalid_0's binary_logloss: 0.400494\n",
            "[665]\tvalid_0's binary_logloss: 0.400501\n",
            "[666]\tvalid_0's binary_logloss: 0.400504\n",
            "[667]\tvalid_0's binary_logloss: 0.400501\n",
            "[668]\tvalid_0's binary_logloss: 0.400492\n",
            "[669]\tvalid_0's binary_logloss: 0.400484\n",
            "[670]\tvalid_0's binary_logloss: 0.400484\n",
            "[671]\tvalid_0's binary_logloss: 0.400472\n",
            "[672]\tvalid_0's binary_logloss: 0.400475\n",
            "[673]\tvalid_0's binary_logloss: 0.400473\n",
            "[674]\tvalid_0's binary_logloss: 0.400471\n",
            "[675]\tvalid_0's binary_logloss: 0.400466\n",
            "[676]\tvalid_0's binary_logloss: 0.400456\n",
            "[677]\tvalid_0's binary_logloss: 0.400451\n",
            "[678]\tvalid_0's binary_logloss: 0.400468\n",
            "[679]\tvalid_0's binary_logloss: 0.400455\n",
            "[680]\tvalid_0's binary_logloss: 0.400458\n",
            "[681]\tvalid_0's binary_logloss: 0.400456\n",
            "[682]\tvalid_0's binary_logloss: 0.400454\n",
            "[683]\tvalid_0's binary_logloss: 0.40045\n",
            "[684]\tvalid_0's binary_logloss: 0.400444\n",
            "[685]\tvalid_0's binary_logloss: 0.400445\n",
            "[686]\tvalid_0's binary_logloss: 0.400444\n",
            "[687]\tvalid_0's binary_logloss: 0.400432\n",
            "[688]\tvalid_0's binary_logloss: 0.400428\n",
            "[689]\tvalid_0's binary_logloss: 0.400431\n",
            "[690]\tvalid_0's binary_logloss: 0.400423\n",
            "[691]\tvalid_0's binary_logloss: 0.400419\n",
            "[692]\tvalid_0's binary_logloss: 0.40041\n",
            "[693]\tvalid_0's binary_logloss: 0.40041\n",
            "[694]\tvalid_0's binary_logloss: 0.400419\n",
            "[695]\tvalid_0's binary_logloss: 0.400429\n",
            "[696]\tvalid_0's binary_logloss: 0.400433\n",
            "[697]\tvalid_0's binary_logloss: 0.400445\n",
            "[698]\tvalid_0's binary_logloss: 0.400438\n",
            "[699]\tvalid_0's binary_logloss: 0.40044\n",
            "[700]\tvalid_0's binary_logloss: 0.40044\n",
            "[701]\tvalid_0's binary_logloss: 0.400435\n",
            "[702]\tvalid_0's binary_logloss: 0.400427\n",
            "[703]\tvalid_0's binary_logloss: 0.400431\n",
            "[704]\tvalid_0's binary_logloss: 0.400438\n",
            "[705]\tvalid_0's binary_logloss: 0.400443\n",
            "[706]\tvalid_0's binary_logloss: 0.400447\n",
            "[707]\tvalid_0's binary_logloss: 0.400444\n",
            "[708]\tvalid_0's binary_logloss: 0.400451\n",
            "[709]\tvalid_0's binary_logloss: 0.400457\n",
            "[710]\tvalid_0's binary_logloss: 0.400452\n",
            "[711]\tvalid_0's binary_logloss: 0.400443\n",
            "[712]\tvalid_0's binary_logloss: 0.400434\n",
            "[713]\tvalid_0's binary_logloss: 0.400437\n",
            "[714]\tvalid_0's binary_logloss: 0.400434\n",
            "[715]\tvalid_0's binary_logloss: 0.400436\n",
            "[716]\tvalid_0's binary_logloss: 0.400429\n",
            "[717]\tvalid_0's binary_logloss: 0.400419\n",
            "[718]\tvalid_0's binary_logloss: 0.400416\n",
            "[719]\tvalid_0's binary_logloss: 0.400423\n",
            "[720]\tvalid_0's binary_logloss: 0.400421\n",
            "[721]\tvalid_0's binary_logloss: 0.40042\n",
            "[722]\tvalid_0's binary_logloss: 0.400428\n",
            "[723]\tvalid_0's binary_logloss: 0.400422\n",
            "[724]\tvalid_0's binary_logloss: 0.400429\n",
            "[725]\tvalid_0's binary_logloss: 0.400427\n",
            "[726]\tvalid_0's binary_logloss: 0.400433\n",
            "[727]\tvalid_0's binary_logloss: 0.400433\n",
            "[728]\tvalid_0's binary_logloss: 0.400429\n",
            "[729]\tvalid_0's binary_logloss: 0.400434\n",
            "[730]\tvalid_0's binary_logloss: 0.40043\n",
            "[731]\tvalid_0's binary_logloss: 0.400432\n",
            "[732]\tvalid_0's binary_logloss: 0.400439\n",
            "[733]\tvalid_0's binary_logloss: 0.400434\n",
            "[734]\tvalid_0's binary_logloss: 0.400436\n",
            "[735]\tvalid_0's binary_logloss: 0.400443\n",
            "[736]\tvalid_0's binary_logloss: 0.40044\n",
            "[737]\tvalid_0's binary_logloss: 0.400431\n",
            "[738]\tvalid_0's binary_logloss: 0.400424\n",
            "[739]\tvalid_0's binary_logloss: 0.400436\n",
            "[740]\tvalid_0's binary_logloss: 0.400433\n",
            "[741]\tvalid_0's binary_logloss: 0.400436\n",
            "[742]\tvalid_0's binary_logloss: 0.400422\n",
            "[743]\tvalid_0's binary_logloss: 0.400414\n",
            "[744]\tvalid_0's binary_logloss: 0.400413\n",
            "[745]\tvalid_0's binary_logloss: 0.400407\n",
            "[746]\tvalid_0's binary_logloss: 0.40041\n",
            "[747]\tvalid_0's binary_logloss: 0.400417\n",
            "[748]\tvalid_0's binary_logloss: 0.400411\n",
            "[749]\tvalid_0's binary_logloss: 0.400408\n",
            "[750]\tvalid_0's binary_logloss: 0.400415\n",
            "[751]\tvalid_0's binary_logloss: 0.400415\n",
            "[752]\tvalid_0's binary_logloss: 0.400414\n",
            "[753]\tvalid_0's binary_logloss: 0.400413\n",
            "[754]\tvalid_0's binary_logloss: 0.400416\n",
            "[755]\tvalid_0's binary_logloss: 0.400417\n",
            "[756]\tvalid_0's binary_logloss: 0.400413\n",
            "[757]\tvalid_0's binary_logloss: 0.400412\n",
            "[758]\tvalid_0's binary_logloss: 0.400415\n",
            "[759]\tvalid_0's binary_logloss: 0.400407\n",
            "[760]\tvalid_0's binary_logloss: 0.400411\n",
            "[761]\tvalid_0's binary_logloss: 0.400422\n",
            "[762]\tvalid_0's binary_logloss: 0.400419\n",
            "[763]\tvalid_0's binary_logloss: 0.400409\n",
            "[764]\tvalid_0's binary_logloss: 0.40041\n",
            "[765]\tvalid_0's binary_logloss: 0.400415\n",
            "[766]\tvalid_0's binary_logloss: 0.40041\n",
            "[767]\tvalid_0's binary_logloss: 0.4004\n",
            "[768]\tvalid_0's binary_logloss: 0.400401\n",
            "[769]\tvalid_0's binary_logloss: 0.400392\n",
            "[770]\tvalid_0's binary_logloss: 0.400391\n",
            "[771]\tvalid_0's binary_logloss: 0.400392\n",
            "[772]\tvalid_0's binary_logloss: 0.400384\n",
            "[773]\tvalid_0's binary_logloss: 0.400398\n",
            "[774]\tvalid_0's binary_logloss: 0.400401\n",
            "[775]\tvalid_0's binary_logloss: 0.400413\n",
            "[776]\tvalid_0's binary_logloss: 0.400401\n",
            "[777]\tvalid_0's binary_logloss: 0.400394\n",
            "[778]\tvalid_0's binary_logloss: 0.400382\n",
            "[779]\tvalid_0's binary_logloss: 0.400383\n",
            "[780]\tvalid_0's binary_logloss: 0.400386\n",
            "[781]\tvalid_0's binary_logloss: 0.400377\n",
            "[782]\tvalid_0's binary_logloss: 0.400368\n",
            "[783]\tvalid_0's binary_logloss: 0.400364\n",
            "[784]\tvalid_0's binary_logloss: 0.400358\n",
            "[785]\tvalid_0's binary_logloss: 0.400363\n",
            "[786]\tvalid_0's binary_logloss: 0.400357\n",
            "[787]\tvalid_0's binary_logloss: 0.400358\n",
            "[788]\tvalid_0's binary_logloss: 0.400345\n",
            "[789]\tvalid_0's binary_logloss: 0.400348\n",
            "[790]\tvalid_0's binary_logloss: 0.400351\n",
            "[791]\tvalid_0's binary_logloss: 0.400354\n",
            "[792]\tvalid_0's binary_logloss: 0.400353\n",
            "[793]\tvalid_0's binary_logloss: 0.400351\n",
            "[794]\tvalid_0's binary_logloss: 0.400361\n",
            "[795]\tvalid_0's binary_logloss: 0.400356\n",
            "[796]\tvalid_0's binary_logloss: 0.400354\n",
            "[797]\tvalid_0's binary_logloss: 0.400358\n",
            "[798]\tvalid_0's binary_logloss: 0.400352\n",
            "[799]\tvalid_0's binary_logloss: 0.40036\n",
            "[800]\tvalid_0's binary_logloss: 0.400356\n",
            "[801]\tvalid_0's binary_logloss: 0.400353\n",
            "[802]\tvalid_0's binary_logloss: 0.400353\n",
            "[803]\tvalid_0's binary_logloss: 0.400353\n",
            "[804]\tvalid_0's binary_logloss: 0.400355\n",
            "[805]\tvalid_0's binary_logloss: 0.400357\n",
            "[806]\tvalid_0's binary_logloss: 0.40035\n",
            "[807]\tvalid_0's binary_logloss: 0.400351\n",
            "[808]\tvalid_0's binary_logloss: 0.400347\n",
            "[809]\tvalid_0's binary_logloss: 0.400355\n",
            "[810]\tvalid_0's binary_logloss: 0.400355\n",
            "[811]\tvalid_0's binary_logloss: 0.400359\n",
            "[812]\tvalid_0's binary_logloss: 0.400359\n",
            "[813]\tvalid_0's binary_logloss: 0.400348\n",
            "[814]\tvalid_0's binary_logloss: 0.400347\n",
            "[815]\tvalid_0's binary_logloss: 0.400353\n",
            "[816]\tvalid_0's binary_logloss: 0.400353\n",
            "[817]\tvalid_0's binary_logloss: 0.400361\n",
            "[818]\tvalid_0's binary_logloss: 0.400365\n",
            "[819]\tvalid_0's binary_logloss: 0.400366\n",
            "[820]\tvalid_0's binary_logloss: 0.40036\n",
            "[821]\tvalid_0's binary_logloss: 0.400356\n",
            "[822]\tvalid_0's binary_logloss: 0.400353\n",
            "[823]\tvalid_0's binary_logloss: 0.400352\n"
          ]
        },
        {
          "name": "stdout",
          "output_type": "stream",
          "text": [
            "[824]\tvalid_0's binary_logloss: 0.400346\n",
            "[825]\tvalid_0's binary_logloss: 0.400341\n",
            "[826]\tvalid_0's binary_logloss: 0.400344\n",
            "[827]\tvalid_0's binary_logloss: 0.400348\n",
            "[828]\tvalid_0's binary_logloss: 0.400351\n",
            "[829]\tvalid_0's binary_logloss: 0.400348\n",
            "[830]\tvalid_0's binary_logloss: 0.400347\n",
            "[831]\tvalid_0's binary_logloss: 0.400344\n",
            "[832]\tvalid_0's binary_logloss: 0.400344\n",
            "[833]\tvalid_0's binary_logloss: 0.400333\n",
            "[834]\tvalid_0's binary_logloss: 0.400336\n",
            "[835]\tvalid_0's binary_logloss: 0.400343\n",
            "[836]\tvalid_0's binary_logloss: 0.400334\n",
            "[837]\tvalid_0's binary_logloss: 0.400328\n",
            "[838]\tvalid_0's binary_logloss: 0.400325\n",
            "[839]\tvalid_0's binary_logloss: 0.400318\n",
            "[840]\tvalid_0's binary_logloss: 0.40032\n",
            "[841]\tvalid_0's binary_logloss: 0.400323\n",
            "[842]\tvalid_0's binary_logloss: 0.400318\n",
            "[843]\tvalid_0's binary_logloss: 0.400321\n",
            "[844]\tvalid_0's binary_logloss: 0.400318\n",
            "[845]\tvalid_0's binary_logloss: 0.400316\n",
            "[846]\tvalid_0's binary_logloss: 0.40031\n",
            "[847]\tvalid_0's binary_logloss: 0.400297\n",
            "[848]\tvalid_0's binary_logloss: 0.400297\n",
            "[849]\tvalid_0's binary_logloss: 0.400289\n",
            "[850]\tvalid_0's binary_logloss: 0.4003\n",
            "[851]\tvalid_0's binary_logloss: 0.400302\n",
            "[852]\tvalid_0's binary_logloss: 0.400308\n",
            "[853]\tvalid_0's binary_logloss: 0.4003\n",
            "[854]\tvalid_0's binary_logloss: 0.400297\n",
            "[855]\tvalid_0's binary_logloss: 0.400294\n",
            "[856]\tvalid_0's binary_logloss: 0.400288\n",
            "[857]\tvalid_0's binary_logloss: 0.400286\n",
            "[858]\tvalid_0's binary_logloss: 0.400279\n",
            "[859]\tvalid_0's binary_logloss: 0.400278\n",
            "[860]\tvalid_0's binary_logloss: 0.400266\n",
            "[861]\tvalid_0's binary_logloss: 0.400265\n",
            "[862]\tvalid_0's binary_logloss: 0.400264\n",
            "[863]\tvalid_0's binary_logloss: 0.400261\n",
            "[864]\tvalid_0's binary_logloss: 0.400259\n",
            "[865]\tvalid_0's binary_logloss: 0.400256\n",
            "[866]\tvalid_0's binary_logloss: 0.400263\n",
            "[867]\tvalid_0's binary_logloss: 0.400266\n",
            "[868]\tvalid_0's binary_logloss: 0.400265\n",
            "[869]\tvalid_0's binary_logloss: 0.400268\n",
            "[870]\tvalid_0's binary_logloss: 0.400278\n",
            "[871]\tvalid_0's binary_logloss: 0.400281\n",
            "[872]\tvalid_0's binary_logloss: 0.400283\n",
            "[873]\tvalid_0's binary_logloss: 0.400288\n",
            "[874]\tvalid_0's binary_logloss: 0.400289\n",
            "[875]\tvalid_0's binary_logloss: 0.400292\n",
            "[876]\tvalid_0's binary_logloss: 0.400294\n",
            "[877]\tvalid_0's binary_logloss: 0.400294\n",
            "[878]\tvalid_0's binary_logloss: 0.400298\n",
            "[879]\tvalid_0's binary_logloss: 0.400305\n",
            "[880]\tvalid_0's binary_logloss: 0.400305\n",
            "[881]\tvalid_0's binary_logloss: 0.400306\n",
            "[882]\tvalid_0's binary_logloss: 0.400307\n",
            "[883]\tvalid_0's binary_logloss: 0.400308\n",
            "[884]\tvalid_0's binary_logloss: 0.400314\n",
            "[885]\tvalid_0's binary_logloss: 0.400312\n",
            "[886]\tvalid_0's binary_logloss: 0.400307\n",
            "[887]\tvalid_0's binary_logloss: 0.400298\n",
            "[888]\tvalid_0's binary_logloss: 0.400286\n",
            "[889]\tvalid_0's binary_logloss: 0.400285\n",
            "[890]\tvalid_0's binary_logloss: 0.400291\n",
            "[891]\tvalid_0's binary_logloss: 0.400298\n",
            "[892]\tvalid_0's binary_logloss: 0.400309\n",
            "[893]\tvalid_0's binary_logloss: 0.400309\n",
            "[894]\tvalid_0's binary_logloss: 0.400313\n",
            "[895]\tvalid_0's binary_logloss: 0.400316\n",
            "[896]\tvalid_0's binary_logloss: 0.400302\n",
            "[897]\tvalid_0's binary_logloss: 0.400302\n",
            "[898]\tvalid_0's binary_logloss: 0.400308\n",
            "[899]\tvalid_0's binary_logloss: 0.400319\n",
            "[900]\tvalid_0's binary_logloss: 0.400322\n",
            "[901]\tvalid_0's binary_logloss: 0.400323\n",
            "[902]\tvalid_0's binary_logloss: 0.400321\n",
            "[903]\tvalid_0's binary_logloss: 0.400325\n",
            "[904]\tvalid_0's binary_logloss: 0.400323\n",
            "[905]\tvalid_0's binary_logloss: 0.40033\n",
            "[906]\tvalid_0's binary_logloss: 0.400328\n",
            "[907]\tvalid_0's binary_logloss: 0.400326\n",
            "[908]\tvalid_0's binary_logloss: 0.400334\n",
            "[909]\tvalid_0's binary_logloss: 0.400344\n",
            "[910]\tvalid_0's binary_logloss: 0.400344\n",
            "[911]\tvalid_0's binary_logloss: 0.40033\n",
            "[912]\tvalid_0's binary_logloss: 0.400327\n",
            "[913]\tvalid_0's binary_logloss: 0.400328\n",
            "[914]\tvalid_0's binary_logloss: 0.400325\n",
            "[915]\tvalid_0's binary_logloss: 0.400324\n",
            "[916]\tvalid_0's binary_logloss: 0.400338\n",
            "[917]\tvalid_0's binary_logloss: 0.400335\n",
            "[918]\tvalid_0's binary_logloss: 0.400334\n",
            "[919]\tvalid_0's binary_logloss: 0.400334\n",
            "[920]\tvalid_0's binary_logloss: 0.40034\n",
            "[921]\tvalid_0's binary_logloss: 0.400339\n",
            "[922]\tvalid_0's binary_logloss: 0.40033\n",
            "[923]\tvalid_0's binary_logloss: 0.400322\n",
            "[924]\tvalid_0's binary_logloss: 0.400321\n",
            "[925]\tvalid_0's binary_logloss: 0.400325\n",
            "[926]\tvalid_0's binary_logloss: 0.400331\n",
            "[927]\tvalid_0's binary_logloss: 0.400337\n",
            "[928]\tvalid_0's binary_logloss: 0.40034\n",
            "[929]\tvalid_0's binary_logloss: 0.400343\n",
            "[930]\tvalid_0's binary_logloss: 0.400337\n",
            "[931]\tvalid_0's binary_logloss: 0.40034\n",
            "[932]\tvalid_0's binary_logloss: 0.400344\n",
            "[933]\tvalid_0's binary_logloss: 0.40035\n",
            "[934]\tvalid_0's binary_logloss: 0.400339\n",
            "[935]\tvalid_0's binary_logloss: 0.400348\n",
            "[936]\tvalid_0's binary_logloss: 0.400352\n",
            "[937]\tvalid_0's binary_logloss: 0.400348\n",
            "[938]\tvalid_0's binary_logloss: 0.400359\n",
            "[939]\tvalid_0's binary_logloss: 0.400345\n",
            "[940]\tvalid_0's binary_logloss: 0.400348\n",
            "[941]\tvalid_0's binary_logloss: 0.400346\n",
            "[942]\tvalid_0's binary_logloss: 0.400338\n",
            "[943]\tvalid_0's binary_logloss: 0.40034\n",
            "[944]\tvalid_0's binary_logloss: 0.400337\n",
            "[945]\tvalid_0's binary_logloss: 0.400342\n",
            "[946]\tvalid_0's binary_logloss: 0.400336\n",
            "[947]\tvalid_0's binary_logloss: 0.400336\n",
            "[948]\tvalid_0's binary_logloss: 0.40034\n",
            "[949]\tvalid_0's binary_logloss: 0.400344\n",
            "[950]\tvalid_0's binary_logloss: 0.400351\n",
            "[951]\tvalid_0's binary_logloss: 0.400363\n",
            "[952]\tvalid_0's binary_logloss: 0.400366\n",
            "[953]\tvalid_0's binary_logloss: 0.400377\n",
            "[954]\tvalid_0's binary_logloss: 0.400375\n",
            "[955]\tvalid_0's binary_logloss: 0.400387\n",
            "[956]\tvalid_0's binary_logloss: 0.400391\n",
            "[957]\tvalid_0's binary_logloss: 0.400391\n",
            "[958]\tvalid_0's binary_logloss: 0.400396\n",
            "[959]\tvalid_0's binary_logloss: 0.400392\n",
            "[960]\tvalid_0's binary_logloss: 0.400393\n",
            "[961]\tvalid_0's binary_logloss: 0.400393\n",
            "[962]\tvalid_0's binary_logloss: 0.400395\n",
            "[963]\tvalid_0's binary_logloss: 0.400391\n",
            "[964]\tvalid_0's binary_logloss: 0.400386\n",
            "[965]\tvalid_0's binary_logloss: 0.400392\n",
            "[966]\tvalid_0's binary_logloss: 0.400395\n",
            "[967]\tvalid_0's binary_logloss: 0.400389\n",
            "[968]\tvalid_0's binary_logloss: 0.400383\n",
            "[969]\tvalid_0's binary_logloss: 0.400387\n",
            "[970]\tvalid_0's binary_logloss: 0.400389\n",
            "[971]\tvalid_0's binary_logloss: 0.400393\n",
            "[972]\tvalid_0's binary_logloss: 0.400399\n",
            "[973]\tvalid_0's binary_logloss: 0.400396\n",
            "[974]\tvalid_0's binary_logloss: 0.400391\n",
            "[975]\tvalid_0's binary_logloss: 0.400393\n",
            "[976]\tvalid_0's binary_logloss: 0.400398\n",
            "[977]\tvalid_0's binary_logloss: 0.400407\n",
            "[978]\tvalid_0's binary_logloss: 0.400403\n",
            "[979]\tvalid_0's binary_logloss: 0.400406\n",
            "[980]\tvalid_0's binary_logloss: 0.400415\n",
            "[981]\tvalid_0's binary_logloss: 0.40041\n",
            "[982]\tvalid_0's binary_logloss: 0.400404\n",
            "[983]\tvalid_0's binary_logloss: 0.400394\n",
            "[984]\tvalid_0's binary_logloss: 0.400386\n",
            "[985]\tvalid_0's binary_logloss: 0.40039\n",
            "[986]\tvalid_0's binary_logloss: 0.400382\n",
            "[987]\tvalid_0's binary_logloss: 0.400385\n",
            "[988]\tvalid_0's binary_logloss: 0.400384\n",
            "[989]\tvalid_0's binary_logloss: 0.400381\n",
            "[990]\tvalid_0's binary_logloss: 0.400382\n",
            "[991]\tvalid_0's binary_logloss: 0.400378\n",
            "[992]\tvalid_0's binary_logloss: 0.400379\n",
            "[993]\tvalid_0's binary_logloss: 0.400384\n",
            "[994]\tvalid_0's binary_logloss: 0.400383\n",
            "[995]\tvalid_0's binary_logloss: 0.400389\n",
            "[996]\tvalid_0's binary_logloss: 0.400384\n",
            "[997]\tvalid_0's binary_logloss: 0.400384\n",
            "[998]\tvalid_0's binary_logloss: 0.40039\n",
            "[999]\tvalid_0's binary_logloss: 0.400393\n",
            "[1000]\tvalid_0's binary_logloss: 0.400394\n",
            "[1001]\tvalid_0's binary_logloss: 0.400404\n",
            "[1002]\tvalid_0's binary_logloss: 0.400398\n",
            "[1003]\tvalid_0's binary_logloss: 0.400402\n",
            "[1004]\tvalid_0's binary_logloss: 0.400399\n",
            "[1005]\tvalid_0's binary_logloss: 0.400402\n",
            "[1006]\tvalid_0's binary_logloss: 0.400399\n",
            "[1007]\tvalid_0's binary_logloss: 0.400402\n",
            "[1008]\tvalid_0's binary_logloss: 0.400405\n",
            "[1009]\tvalid_0's binary_logloss: 0.40041\n",
            "[1010]\tvalid_0's binary_logloss: 0.400407\n",
            "[1011]\tvalid_0's binary_logloss: 0.400408\n",
            "[1012]\tvalid_0's binary_logloss: 0.400412\n",
            "[1013]\tvalid_0's binary_logloss: 0.400411\n",
            "[1014]\tvalid_0's binary_logloss: 0.400417\n",
            "[1015]\tvalid_0's binary_logloss: 0.400421\n",
            "[1016]\tvalid_0's binary_logloss: 0.400422\n",
            "[1017]\tvalid_0's binary_logloss: 0.400427\n",
            "[1018]\tvalid_0's binary_logloss: 0.400423\n",
            "[1019]\tvalid_0's binary_logloss: 0.400426\n",
            "[1020]\tvalid_0's binary_logloss: 0.400436\n",
            "[1021]\tvalid_0's binary_logloss: 0.400435\n",
            "[1022]\tvalid_0's binary_logloss: 0.40043\n",
            "[1023]\tvalid_0's binary_logloss: 0.400425\n",
            "[1024]\tvalid_0's binary_logloss: 0.400426\n",
            "[1025]\tvalid_0's binary_logloss: 0.400421\n"
          ]
        },
        {
          "name": "stdout",
          "output_type": "stream",
          "text": [
            "[1026]\tvalid_0's binary_logloss: 0.400423\n",
            "[1027]\tvalid_0's binary_logloss: 0.400428\n",
            "[1028]\tvalid_0's binary_logloss: 0.400433\n",
            "[1029]\tvalid_0's binary_logloss: 0.400438\n",
            "[1030]\tvalid_0's binary_logloss: 0.400439\n",
            "[1031]\tvalid_0's binary_logloss: 0.400426\n",
            "[1032]\tvalid_0's binary_logloss: 0.400422\n",
            "[1033]\tvalid_0's binary_logloss: 0.400421\n",
            "[1034]\tvalid_0's binary_logloss: 0.400413\n",
            "[1035]\tvalid_0's binary_logloss: 0.400411\n",
            "[1036]\tvalid_0's binary_logloss: 0.400414\n",
            "[1037]\tvalid_0's binary_logloss: 0.400418\n",
            "[1038]\tvalid_0's binary_logloss: 0.400413\n",
            "[1039]\tvalid_0's binary_logloss: 0.400409\n",
            "[1040]\tvalid_0's binary_logloss: 0.40041\n",
            "[1041]\tvalid_0's binary_logloss: 0.400404\n",
            "[1042]\tvalid_0's binary_logloss: 0.400389\n",
            "[1043]\tvalid_0's binary_logloss: 0.400395\n",
            "[1044]\tvalid_0's binary_logloss: 0.400395\n",
            "[1045]\tvalid_0's binary_logloss: 0.400387\n",
            "[1046]\tvalid_0's binary_logloss: 0.400386\n",
            "[1047]\tvalid_0's binary_logloss: 0.400381\n",
            "[1048]\tvalid_0's binary_logloss: 0.400372\n",
            "[1049]\tvalid_0's binary_logloss: 0.40038\n",
            "[1050]\tvalid_0's binary_logloss: 0.400375\n",
            "[1051]\tvalid_0's binary_logloss: 0.400371\n",
            "[1052]\tvalid_0's binary_logloss: 0.400364\n",
            "[1053]\tvalid_0's binary_logloss: 0.400365\n",
            "[1054]\tvalid_0's binary_logloss: 0.400375\n",
            "[1055]\tvalid_0's binary_logloss: 0.400387\n",
            "[1056]\tvalid_0's binary_logloss: 0.400387\n",
            "[1057]\tvalid_0's binary_logloss: 0.400385\n",
            "[1058]\tvalid_0's binary_logloss: 0.400397\n",
            "[1059]\tvalid_0's binary_logloss: 0.400395\n",
            "[1060]\tvalid_0's binary_logloss: 0.400403\n",
            "[1061]\tvalid_0's binary_logloss: 0.400401\n",
            "[1062]\tvalid_0's binary_logloss: 0.400384\n",
            "[1063]\tvalid_0's binary_logloss: 0.400381\n",
            "[1064]\tvalid_0's binary_logloss: 0.400382\n",
            "[1065]\tvalid_0's binary_logloss: 0.400381\n",
            "[1066]\tvalid_0's binary_logloss: 0.400379\n",
            "[1067]\tvalid_0's binary_logloss: 0.400367\n",
            "[1068]\tvalid_0's binary_logloss: 0.400367\n",
            "[1069]\tvalid_0's binary_logloss: 0.400364\n",
            "[1070]\tvalid_0's binary_logloss: 0.400366\n",
            "[1071]\tvalid_0's binary_logloss: 0.40037\n",
            "[1072]\tvalid_0's binary_logloss: 0.400382\n",
            "[1073]\tvalid_0's binary_logloss: 0.400381\n",
            "[1074]\tvalid_0's binary_logloss: 0.400383\n",
            "[1075]\tvalid_0's binary_logloss: 0.40038\n",
            "[1076]\tvalid_0's binary_logloss: 0.400371\n",
            "[1077]\tvalid_0's binary_logloss: 0.400375\n",
            "[1078]\tvalid_0's binary_logloss: 0.400379\n",
            "[1079]\tvalid_0's binary_logloss: 0.400374\n",
            "[1080]\tvalid_0's binary_logloss: 0.400366\n",
            "[1081]\tvalid_0's binary_logloss: 0.400361\n",
            "[1082]\tvalid_0's binary_logloss: 0.400354\n",
            "[1083]\tvalid_0's binary_logloss: 0.400342\n",
            "[1084]\tvalid_0's binary_logloss: 0.400347\n",
            "[1085]\tvalid_0's binary_logloss: 0.400347\n",
            "[1086]\tvalid_0's binary_logloss: 0.400351\n",
            "[1087]\tvalid_0's binary_logloss: 0.400346\n",
            "[1088]\tvalid_0's binary_logloss: 0.400339\n",
            "[1089]\tvalid_0's binary_logloss: 0.400342\n",
            "[1090]\tvalid_0's binary_logloss: 0.400332\n",
            "[1091]\tvalid_0's binary_logloss: 0.400341\n",
            "[1092]\tvalid_0's binary_logloss: 0.400329\n",
            "[1093]\tvalid_0's binary_logloss: 0.40032\n",
            "[1094]\tvalid_0's binary_logloss: 0.400322\n",
            "[1095]\tvalid_0's binary_logloss: 0.400321\n",
            "[1096]\tvalid_0's binary_logloss: 0.400325\n",
            "[1097]\tvalid_0's binary_logloss: 0.400334\n",
            "[1098]\tvalid_0's binary_logloss: 0.400329\n",
            "[1099]\tvalid_0's binary_logloss: 0.400338\n",
            "[1100]\tvalid_0's binary_logloss: 0.400348\n",
            "[1101]\tvalid_0's binary_logloss: 0.40034\n",
            "[1102]\tvalid_0's binary_logloss: 0.40035\n",
            "[1103]\tvalid_0's binary_logloss: 0.400357\n",
            "[1104]\tvalid_0's binary_logloss: 0.400363\n",
            "[1105]\tvalid_0's binary_logloss: 0.40036\n",
            "[1106]\tvalid_0's binary_logloss: 0.400358\n",
            "[1107]\tvalid_0's binary_logloss: 0.40036\n",
            "[1108]\tvalid_0's binary_logloss: 0.400357\n",
            "[1109]\tvalid_0's binary_logloss: 0.400358\n",
            "[1110]\tvalid_0's binary_logloss: 0.400357\n",
            "[1111]\tvalid_0's binary_logloss: 0.400351\n",
            "[1112]\tvalid_0's binary_logloss: 0.400351\n",
            "[1113]\tvalid_0's binary_logloss: 0.400346\n",
            "[1114]\tvalid_0's binary_logloss: 0.40035\n",
            "[1115]\tvalid_0's binary_logloss: 0.400354\n",
            "[1116]\tvalid_0's binary_logloss: 0.400342\n",
            "[1117]\tvalid_0's binary_logloss: 0.400341\n",
            "[1118]\tvalid_0's binary_logloss: 0.400346\n",
            "[1119]\tvalid_0's binary_logloss: 0.400352\n",
            "[1120]\tvalid_0's binary_logloss: 0.400352\n",
            "[1121]\tvalid_0's binary_logloss: 0.400339\n",
            "[1122]\tvalid_0's binary_logloss: 0.400345\n",
            "[1123]\tvalid_0's binary_logloss: 0.400353\n",
            "[1124]\tvalid_0's binary_logloss: 0.400355\n",
            "[1125]\tvalid_0's binary_logloss: 0.400359\n",
            "[1126]\tvalid_0's binary_logloss: 0.40036\n",
            "[1127]\tvalid_0's binary_logloss: 0.400359\n",
            "[1128]\tvalid_0's binary_logloss: 0.400368\n",
            "[1129]\tvalid_0's binary_logloss: 0.400365\n",
            "[1130]\tvalid_0's binary_logloss: 0.400367\n",
            "[1131]\tvalid_0's binary_logloss: 0.40037\n",
            "[1132]\tvalid_0's binary_logloss: 0.400365\n",
            "[1133]\tvalid_0's binary_logloss: 0.40037\n",
            "[1134]\tvalid_0's binary_logloss: 0.400368\n",
            "[1135]\tvalid_0's binary_logloss: 0.400364\n",
            "[1136]\tvalid_0's binary_logloss: 0.400369\n",
            "[1137]\tvalid_0's binary_logloss: 0.40037\n",
            "[1138]\tvalid_0's binary_logloss: 0.400371\n",
            "[1139]\tvalid_0's binary_logloss: 0.400366\n",
            "[1140]\tvalid_0's binary_logloss: 0.400372\n",
            "[1141]\tvalid_0's binary_logloss: 0.40038\n",
            "[1142]\tvalid_0's binary_logloss: 0.400384\n",
            "[1143]\tvalid_0's binary_logloss: 0.400389\n",
            "[1144]\tvalid_0's binary_logloss: 0.40039\n",
            "[1145]\tvalid_0's binary_logloss: 0.400386\n",
            "[1146]\tvalid_0's binary_logloss: 0.400372\n",
            "[1147]\tvalid_0's binary_logloss: 0.400363\n",
            "[1148]\tvalid_0's binary_logloss: 0.400362\n",
            "[1149]\tvalid_0's binary_logloss: 0.400356\n",
            "[1150]\tvalid_0's binary_logloss: 0.400358\n",
            "[1151]\tvalid_0's binary_logloss: 0.400355\n",
            "[1152]\tvalid_0's binary_logloss: 0.400363\n",
            "[1153]\tvalid_0's binary_logloss: 0.400369\n",
            "[1154]\tvalid_0's binary_logloss: 0.40038\n",
            "[1155]\tvalid_0's binary_logloss: 0.400379\n",
            "[1156]\tvalid_0's binary_logloss: 0.400367\n",
            "[1157]\tvalid_0's binary_logloss: 0.400371\n",
            "[1158]\tvalid_0's binary_logloss: 0.400375\n",
            "[1159]\tvalid_0's binary_logloss: 0.40037\n",
            "[1160]\tvalid_0's binary_logloss: 0.400371\n",
            "[1161]\tvalid_0's binary_logloss: 0.400376\n",
            "[1162]\tvalid_0's binary_logloss: 0.400389\n",
            "[1163]\tvalid_0's binary_logloss: 0.400391\n",
            "[1164]\tvalid_0's binary_logloss: 0.4004\n",
            "[1165]\tvalid_0's binary_logloss: 0.400401\n",
            "[1166]\tvalid_0's binary_logloss: 0.400404\n",
            "[1167]\tvalid_0's binary_logloss: 0.400399\n",
            "[1168]\tvalid_0's binary_logloss: 0.400395\n",
            "[1169]\tvalid_0's binary_logloss: 0.400385\n",
            "[1170]\tvalid_0's binary_logloss: 0.400379\n",
            "[1171]\tvalid_0's binary_logloss: 0.400367\n",
            "[1172]\tvalid_0's binary_logloss: 0.400369\n",
            "[1173]\tvalid_0's binary_logloss: 0.400364\n",
            "[1174]\tvalid_0's binary_logloss: 0.400368\n",
            "[1175]\tvalid_0's binary_logloss: 0.400366\n",
            "[1176]\tvalid_0's binary_logloss: 0.400364\n",
            "[1177]\tvalid_0's binary_logloss: 0.400361\n",
            "[1178]\tvalid_0's binary_logloss: 0.400363\n",
            "[1179]\tvalid_0's binary_logloss: 0.400354\n",
            "[1180]\tvalid_0's binary_logloss: 0.400361\n",
            "[1181]\tvalid_0's binary_logloss: 0.400361\n",
            "[1182]\tvalid_0's binary_logloss: 0.400357\n",
            "[1183]\tvalid_0's binary_logloss: 0.400357\n",
            "[1184]\tvalid_0's binary_logloss: 0.400354\n",
            "[1185]\tvalid_0's binary_logloss: 0.400356\n",
            "[1186]\tvalid_0's binary_logloss: 0.400351\n",
            "[1187]\tvalid_0's binary_logloss: 0.400359\n",
            "[1188]\tvalid_0's binary_logloss: 0.400349\n",
            "[1189]\tvalid_0's binary_logloss: 0.400346\n",
            "[1190]\tvalid_0's binary_logloss: 0.400349\n",
            "[1191]\tvalid_0's binary_logloss: 0.400343\n",
            "[1192]\tvalid_0's binary_logloss: 0.40034\n",
            "[1193]\tvalid_0's binary_logloss: 0.400338\n",
            "[1194]\tvalid_0's binary_logloss: 0.400343\n",
            "[1195]\tvalid_0's binary_logloss: 0.400349\n",
            "[1196]\tvalid_0's binary_logloss: 0.400338\n",
            "[1197]\tvalid_0's binary_logloss: 0.400337\n",
            "[1198]\tvalid_0's binary_logloss: 0.400331\n",
            "[1199]\tvalid_0's binary_logloss: 0.400329\n",
            "[1200]\tvalid_0's binary_logloss: 0.400341\n",
            "[1201]\tvalid_0's binary_logloss: 0.400342\n",
            "[1202]\tvalid_0's binary_logloss: 0.400346\n",
            "[1203]\tvalid_0's binary_logloss: 0.400346\n",
            "[1204]\tvalid_0's binary_logloss: 0.400342\n",
            "[1205]\tvalid_0's binary_logloss: 0.400351\n",
            "[1206]\tvalid_0's binary_logloss: 0.400344\n",
            "[1207]\tvalid_0's binary_logloss: 0.400344\n",
            "[1208]\tvalid_0's binary_logloss: 0.400348\n",
            "[1209]\tvalid_0's binary_logloss: 0.400354\n",
            "[1210]\tvalid_0's binary_logloss: 0.400363\n",
            "[1211]\tvalid_0's binary_logloss: 0.400359\n",
            "[1212]\tvalid_0's binary_logloss: 0.40036\n",
            "[1213]\tvalid_0's binary_logloss: 0.400363\n",
            "[1214]\tvalid_0's binary_logloss: 0.400363\n",
            "[1215]\tvalid_0's binary_logloss: 0.400355\n",
            "[1216]\tvalid_0's binary_logloss: 0.400343\n",
            "[1217]\tvalid_0's binary_logloss: 0.400328\n",
            "[1218]\tvalid_0's binary_logloss: 0.400318\n",
            "[1219]\tvalid_0's binary_logloss: 0.400315\n",
            "[1220]\tvalid_0's binary_logloss: 0.400314\n",
            "[1221]\tvalid_0's binary_logloss: 0.400308\n",
            "[1222]\tvalid_0's binary_logloss: 0.400308\n",
            "[1223]\tvalid_0's binary_logloss: 0.400313\n",
            "[1224]\tvalid_0's binary_logloss: 0.400324\n",
            "[1225]\tvalid_0's binary_logloss: 0.400339\n",
            "[1226]\tvalid_0's binary_logloss: 0.400334\n",
            "[1227]\tvalid_0's binary_logloss: 0.400335\n"
          ]
        },
        {
          "name": "stdout",
          "output_type": "stream",
          "text": [
            "[1228]\tvalid_0's binary_logloss: 0.400332\n",
            "[1229]\tvalid_0's binary_logloss: 0.400329\n",
            "[1230]\tvalid_0's binary_logloss: 0.400323\n",
            "[1231]\tvalid_0's binary_logloss: 0.400328\n",
            "[1232]\tvalid_0's binary_logloss: 0.400329\n",
            "[1233]\tvalid_0's binary_logloss: 0.400325\n",
            "[1234]\tvalid_0's binary_logloss: 0.400319\n",
            "[1235]\tvalid_0's binary_logloss: 0.400323\n",
            "[1236]\tvalid_0's binary_logloss: 0.400319\n",
            "[1237]\tvalid_0's binary_logloss: 0.400306\n",
            "[1238]\tvalid_0's binary_logloss: 0.4003\n",
            "[1239]\tvalid_0's binary_logloss: 0.400306\n",
            "[1240]\tvalid_0's binary_logloss: 0.40031\n",
            "[1241]\tvalid_0's binary_logloss: 0.400308\n",
            "[1242]\tvalid_0's binary_logloss: 0.400304\n",
            "[1243]\tvalid_0's binary_logloss: 0.400294\n",
            "[1244]\tvalid_0's binary_logloss: 0.400292\n",
            "[1245]\tvalid_0's binary_logloss: 0.400297\n",
            "[1246]\tvalid_0's binary_logloss: 0.400302\n",
            "[1247]\tvalid_0's binary_logloss: 0.400297\n",
            "[1248]\tvalid_0's binary_logloss: 0.400296\n",
            "[1249]\tvalid_0's binary_logloss: 0.400309\n",
            "[1250]\tvalid_0's binary_logloss: 0.400312\n",
            "[1251]\tvalid_0's binary_logloss: 0.400314\n",
            "[1252]\tvalid_0's binary_logloss: 0.400318\n",
            "[1253]\tvalid_0's binary_logloss: 0.400315\n",
            "[1254]\tvalid_0's binary_logloss: 0.40031\n",
            "[1255]\tvalid_0's binary_logloss: 0.400311\n",
            "[1256]\tvalid_0's binary_logloss: 0.400304\n",
            "[1257]\tvalid_0's binary_logloss: 0.400297\n",
            "[1258]\tvalid_0's binary_logloss: 0.400302\n",
            "[1259]\tvalid_0's binary_logloss: 0.400307\n",
            "[1260]\tvalid_0's binary_logloss: 0.400313\n",
            "[1261]\tvalid_0's binary_logloss: 0.400311\n",
            "[1262]\tvalid_0's binary_logloss: 0.400306\n",
            "[1263]\tvalid_0's binary_logloss: 0.400302\n",
            "[1264]\tvalid_0's binary_logloss: 0.400295\n",
            "[1265]\tvalid_0's binary_logloss: 0.400299\n",
            "[1266]\tvalid_0's binary_logloss: 0.40031\n",
            "[1267]\tvalid_0's binary_logloss: 0.400314\n",
            "[1268]\tvalid_0's binary_logloss: 0.400325\n",
            "[1269]\tvalid_0's binary_logloss: 0.400323\n",
            "[1270]\tvalid_0's binary_logloss: 0.40033\n",
            "[1271]\tvalid_0's binary_logloss: 0.400331\n",
            "[1272]\tvalid_0's binary_logloss: 0.400338\n",
            "[1273]\tvalid_0's binary_logloss: 0.400351\n",
            "[1274]\tvalid_0's binary_logloss: 0.400352\n",
            "[1275]\tvalid_0's binary_logloss: 0.400357\n",
            "[1276]\tvalid_0's binary_logloss: 0.400363\n",
            "[1277]\tvalid_0's binary_logloss: 0.400371\n",
            "[1278]\tvalid_0's binary_logloss: 0.400377\n",
            "[1279]\tvalid_0's binary_logloss: 0.400365\n",
            "[1280]\tvalid_0's binary_logloss: 0.400364\n",
            "[1281]\tvalid_0's binary_logloss: 0.40036\n",
            "[1282]\tvalid_0's binary_logloss: 0.400356\n",
            "[1283]\tvalid_0's binary_logloss: 0.400355\n",
            "[1284]\tvalid_0's binary_logloss: 0.400361\n",
            "[1285]\tvalid_0's binary_logloss: 0.400357\n",
            "[1286]\tvalid_0's binary_logloss: 0.400352\n",
            "[1287]\tvalid_0's binary_logloss: 0.400352\n",
            "[1288]\tvalid_0's binary_logloss: 0.400358\n",
            "[1289]\tvalid_0's binary_logloss: 0.400357\n",
            "[1290]\tvalid_0's binary_logloss: 0.40035\n",
            "[1291]\tvalid_0's binary_logloss: 0.400344\n",
            "[1292]\tvalid_0's binary_logloss: 0.400341\n",
            "[1293]\tvalid_0's binary_logloss: 0.400347\n",
            "[1294]\tvalid_0's binary_logloss: 0.400347\n",
            "[1295]\tvalid_0's binary_logloss: 0.400353\n",
            "[1296]\tvalid_0's binary_logloss: 0.400354\n",
            "[1297]\tvalid_0's binary_logloss: 0.400355\n",
            "[1298]\tvalid_0's binary_logloss: 0.400357\n",
            "[1299]\tvalid_0's binary_logloss: 0.400357\n",
            "[1300]\tvalid_0's binary_logloss: 0.400362\n",
            "[1301]\tvalid_0's binary_logloss: 0.400364\n",
            "[1302]\tvalid_0's binary_logloss: 0.400365\n",
            "[1303]\tvalid_0's binary_logloss: 0.400358\n",
            "[1304]\tvalid_0's binary_logloss: 0.400359\n",
            "[1305]\tvalid_0's binary_logloss: 0.400357\n",
            "[1306]\tvalid_0's binary_logloss: 0.400349\n",
            "[1307]\tvalid_0's binary_logloss: 0.400348\n",
            "[1308]\tvalid_0's binary_logloss: 0.400347\n",
            "[1309]\tvalid_0's binary_logloss: 0.40034\n",
            "[1310]\tvalid_0's binary_logloss: 0.400346\n",
            "[1311]\tvalid_0's binary_logloss: 0.400358\n",
            "[1312]\tvalid_0's binary_logloss: 0.400357\n",
            "[1313]\tvalid_0's binary_logloss: 0.40036\n",
            "[1314]\tvalid_0's binary_logloss: 0.400362\n",
            "[1315]\tvalid_0's binary_logloss: 0.400358\n",
            "[1316]\tvalid_0's binary_logloss: 0.400362\n",
            "[1317]\tvalid_0's binary_logloss: 0.400363\n",
            "[1318]\tvalid_0's binary_logloss: 0.400367\n",
            "[1319]\tvalid_0's binary_logloss: 0.400367\n",
            "[1320]\tvalid_0's binary_logloss: 0.400369\n",
            "[1321]\tvalid_0's binary_logloss: 0.400371\n",
            "[1322]\tvalid_0's binary_logloss: 0.400375\n",
            "[1323]\tvalid_0's binary_logloss: 0.400381\n",
            "[1324]\tvalid_0's binary_logloss: 0.400389\n",
            "[1325]\tvalid_0's binary_logloss: 0.400392\n",
            "[1326]\tvalid_0's binary_logloss: 0.400386\n",
            "[1327]\tvalid_0's binary_logloss: 0.400383\n",
            "[1328]\tvalid_0's binary_logloss: 0.400384\n",
            "[1329]\tvalid_0's binary_logloss: 0.400391\n",
            "[1330]\tvalid_0's binary_logloss: 0.400389\n",
            "[1331]\tvalid_0's binary_logloss: 0.400385\n",
            "[1332]\tvalid_0's binary_logloss: 0.400384\n",
            "[1333]\tvalid_0's binary_logloss: 0.400381\n",
            "[1334]\tvalid_0's binary_logloss: 0.400378\n",
            "[1335]\tvalid_0's binary_logloss: 0.400369\n",
            "[1336]\tvalid_0's binary_logloss: 0.40036\n",
            "[1337]\tvalid_0's binary_logloss: 0.400354\n",
            "[1338]\tvalid_0's binary_logloss: 0.400355\n",
            "[1339]\tvalid_0's binary_logloss: 0.400361\n",
            "[1340]\tvalid_0's binary_logloss: 0.400352\n",
            "[1341]\tvalid_0's binary_logloss: 0.400347\n",
            "[1342]\tvalid_0's binary_logloss: 0.400345\n",
            "[1343]\tvalid_0's binary_logloss: 0.400344\n",
            "[1344]\tvalid_0's binary_logloss: 0.400342\n",
            "[1345]\tvalid_0's binary_logloss: 0.400356\n",
            "[1346]\tvalid_0's binary_logloss: 0.400347\n",
            "[1347]\tvalid_0's binary_logloss: 0.400344\n",
            "[1348]\tvalid_0's binary_logloss: 0.400346\n",
            "[1349]\tvalid_0's binary_logloss: 0.400343\n",
            "[1350]\tvalid_0's binary_logloss: 0.400347\n",
            "[1351]\tvalid_0's binary_logloss: 0.400346\n",
            "[1352]\tvalid_0's binary_logloss: 0.400341\n",
            "[1353]\tvalid_0's binary_logloss: 0.400344\n",
            "[1354]\tvalid_0's binary_logloss: 0.400342\n",
            "[1355]\tvalid_0's binary_logloss: 0.400342\n",
            "[1356]\tvalid_0's binary_logloss: 0.40034\n",
            "[1357]\tvalid_0's binary_logloss: 0.40034\n",
            "[1358]\tvalid_0's binary_logloss: 0.400334\n",
            "[1359]\tvalid_0's binary_logloss: 0.400346\n",
            "[1360]\tvalid_0's binary_logloss: 0.400352\n",
            "[1361]\tvalid_0's binary_logloss: 0.40034\n",
            "[1362]\tvalid_0's binary_logloss: 0.400343\n",
            "[1363]\tvalid_0's binary_logloss: 0.400336\n",
            "[1364]\tvalid_0's binary_logloss: 0.400344\n",
            "[1365]\tvalid_0's binary_logloss: 0.400349\n",
            "Early stopping, best iteration is:\n",
            "[865]\tvalid_0's binary_logloss: 0.400256\n"
          ]
        }
      ],
      "source": [
        "# specify your configurations as a dict\n",
        "params = {\n",
        "    'task': 'train',\n",
        "    'boosting_type': 'gbdt',\n",
        "    'objective': 'binary',\n",
        "    'metric': { 'binary_logloss'},\n",
        "    'num_leaves': 31, # defauly leaves(31) amount for each tree\n",
        "    'learning_rate': 0.08,\n",
        "    'feature_fraction': 0.7, # will select 70% features before training each tree\n",
        "    'bagging_fraction': 0.3, #feature_fraction, but this will random select part of data\n",
        "    'bagging_freq': 5, #  perform bagging at every 5 iteration\n",
        "    'verbose': 0\n",
        "}\n",
        "\n",
        "print('Start training...')\n",
        "# train\n",
        "gbm = lgb.train(params,\n",
        "                lgb_train,\n",
        "                num_boost_round=4000,\n",
        "                valid_sets=lgb_eval,\n",
        "                early_stopping_rounds=500)"
      ]
    },
    {
      "cell_type": "code",
      "execution_count": 74,
      "metadata": {},
      "outputs": [
        {
          "name": "stdout",
          "output_type": "stream",
          "text": [
            "defaultdict(<class 'collections.OrderedDict'>, {'valid_0': OrderedDict([('binary_logloss', 0.40025644666726684)])})\n",
            "865\n"
          ]
        }
      ],
      "source": [
        "print(gbm.best_score)\n",
        "print(gbm.best_iteration)"
      ]
    },
    {
      "cell_type": "code",
      "execution_count": 75,
      "metadata": {},
      "outputs": [],
      "source": [
        "from operator import itemgetter\n",
        "from sklearn.model_selection import train_test_split\n",
        "import xgboost as xgb\n",
        "from sklearn.metrics import roc_auc_score\n",
        "\n",
        "def run_default_test(train, test, features, target, random_state=0):\n",
        "    eta = 0.1\n",
        "    max_depth = 5\n",
        "    subsample = 0.8\n",
        "    colsample_bytree = 0.8\n",
        "    print('XGBoost params. ETA: {}, MAX_DEPTH: {}, SUBSAMPLE: {}, COLSAMPLE_BY_TREE: {}'.format(eta, max_depth, subsample, colsample_bytree))\n",
        "    params = {\n",
        "        \"objective\": \"binary:logistic\",\n",
        "        \"booster\" : \"gbtree\",\n",
        "        \"eval_metric\": \"logloss\",\n",
        "        \"eta\": eta,\n",
        "        \"max_depth\": max_depth,\n",
        "        \"subsample\": subsample,\n",
        "        \"colsample_bytree\": colsample_bytree,\n",
        "        \"silent\": 1,\n",
        "        \"seed\": random_state\n",
        "    }\n",
        "    num_boost_round = 260\n",
        "    early_stopping_rounds = 20\n",
        "    test_size = 0.2\n",
        "\n",
        "    X_train, X_valid = train_test_split(train, test_size=test_size, random_state=random_state)\n",
        "    y_train = X_train[target]\n",
        "    y_valid = X_valid[target]\n",
        "    dtrain = xgb.DMatrix(X_train[features], y_train)\n",
        "    dvalid = xgb.DMatrix(X_valid[features], y_valid)\n",
        "    watchlist = [(dtrain, 'train'), (dvalid, 'eval')]\n",
        "    gbm = xgb.train(params, dtrain, num_boost_round, evals=watchlist, early_stopping_rounds=early_stopping_rounds, verbose_eval=True)"
      ]
    },
    {
      "cell_type": "code",
      "execution_count": 76,
      "metadata": {
        "scrolled": false
      },
      "outputs": [
        {
          "name": "stdout",
          "output_type": "stream",
          "text": [
            "XGBoost params. ETA: 0.1, MAX_DEPTH: 5, SUBSAMPLE: 0.8, COLSAMPLE_BY_TREE: 0.8\n"
          ]
        },
        {
          "name": "stderr",
          "output_type": "stream",
          "text": [
            "/anaconda/envs/azureml_py36/lib/python3.6/site-packages/xgboost/core.py:587: FutureWarning: Series.base is deprecated and will be removed in a future version\n",
            "  if getattr(data, 'base', None) is not None and \\\n",
            "/anaconda/envs/azureml_py36/lib/python3.6/site-packages/xgboost/core.py:588: FutureWarning: Series.base is deprecated and will be removed in a future version\n",
            "  data.base is not None and isinstance(data, np.ndarray) \\\n"
          ]
        },
        {
          "name": "stdout",
          "output_type": "stream",
          "text": [
            "[0]\ttrain-logloss:0.648726\teval-logloss:0.648645\n",
            "Multiple eval metrics have been passed: 'eval-logloss' will be used for early stopping.\n",
            "\n",
            "Will train until eval-logloss hasn't improved in 20 rounds.\n",
            "[1]\ttrain-logloss:0.61202\teval-logloss:0.612008\n",
            "[2]\ttrain-logloss:0.581847\teval-logloss:0.581833\n",
            "[3]\ttrain-logloss:0.556902\teval-logloss:0.556745\n",
            "[4]\ttrain-logloss:0.535943\teval-logloss:0.535772\n",
            "[5]\ttrain-logloss:0.518405\teval-logloss:0.518366\n",
            "[6]\ttrain-logloss:0.503435\teval-logloss:0.503385\n",
            "[7]\ttrain-logloss:0.491121\teval-logloss:0.491099\n",
            "[8]\ttrain-logloss:0.480451\teval-logloss:0.480407\n",
            "[9]\ttrain-logloss:0.47132\teval-logloss:0.471433\n",
            "[10]\ttrain-logloss:0.463852\teval-logloss:0.463932\n",
            "[11]\ttrain-logloss:0.457231\teval-logloss:0.457329\n",
            "[12]\ttrain-logloss:0.45191\teval-logloss:0.451927\n",
            "[13]\ttrain-logloss:0.44725\teval-logloss:0.447283\n",
            "[14]\ttrain-logloss:0.443077\teval-logloss:0.443113\n",
            "[15]\ttrain-logloss:0.43929\teval-logloss:0.439413\n",
            "[16]\ttrain-logloss:0.436083\teval-logloss:0.436218\n",
            "[17]\ttrain-logloss:0.433591\teval-logloss:0.433807\n",
            "[18]\ttrain-logloss:0.431174\teval-logloss:0.431398\n",
            "[19]\ttrain-logloss:0.429191\teval-logloss:0.429397\n",
            "[20]\ttrain-logloss:0.427567\teval-logloss:0.427806\n",
            "[21]\ttrain-logloss:0.425986\teval-logloss:0.426292\n",
            "[22]\ttrain-logloss:0.424815\teval-logloss:0.425097\n",
            "[23]\ttrain-logloss:0.423744\teval-logloss:0.424041\n",
            "[24]\ttrain-logloss:0.422563\teval-logloss:0.422914\n",
            "[25]\ttrain-logloss:0.421794\teval-logloss:0.422164\n",
            "[26]\ttrain-logloss:0.420865\teval-logloss:0.421191\n",
            "[27]\ttrain-logloss:0.42027\teval-logloss:0.420602\n",
            "[28]\ttrain-logloss:0.419603\teval-logloss:0.419993\n",
            "[29]\ttrain-logloss:0.41898\teval-logloss:0.419437\n",
            "[30]\ttrain-logloss:0.418378\teval-logloss:0.418835\n",
            "[31]\ttrain-logloss:0.417931\teval-logloss:0.418424\n",
            "[32]\ttrain-logloss:0.417496\teval-logloss:0.417988\n",
            "[33]\ttrain-logloss:0.417148\teval-logloss:0.417746\n",
            "[34]\ttrain-logloss:0.416323\teval-logloss:0.416932\n",
            "[35]\ttrain-logloss:0.416101\teval-logloss:0.416706\n",
            "[36]\ttrain-logloss:0.415456\teval-logloss:0.416142\n",
            "[37]\ttrain-logloss:0.415208\teval-logloss:0.415916\n",
            "[38]\ttrain-logloss:0.414962\teval-logloss:0.415671\n",
            "[39]\ttrain-logloss:0.414597\teval-logloss:0.415315\n",
            "[40]\ttrain-logloss:0.41431\teval-logloss:0.415029\n",
            "[41]\ttrain-logloss:0.414128\teval-logloss:0.414908\n",
            "[42]\ttrain-logloss:0.413897\teval-logloss:0.414672\n",
            "[43]\ttrain-logloss:0.413663\teval-logloss:0.414451\n",
            "[44]\ttrain-logloss:0.413479\teval-logloss:0.414321\n",
            "[45]\ttrain-logloss:0.413364\teval-logloss:0.414191\n",
            "[46]\ttrain-logloss:0.413175\teval-logloss:0.414067\n",
            "[47]\ttrain-logloss:0.412878\teval-logloss:0.413754\n",
            "[48]\ttrain-logloss:0.412776\teval-logloss:0.413653\n",
            "[49]\ttrain-logloss:0.41257\teval-logloss:0.413443\n",
            "[50]\ttrain-logloss:0.41243\teval-logloss:0.413322\n",
            "[51]\ttrain-logloss:0.412221\teval-logloss:0.413139\n",
            "[52]\ttrain-logloss:0.412053\teval-logloss:0.412987\n",
            "[53]\ttrain-logloss:0.411944\teval-logloss:0.412889\n",
            "[54]\ttrain-logloss:0.41181\teval-logloss:0.412764\n",
            "[55]\ttrain-logloss:0.411587\teval-logloss:0.412573\n",
            "[56]\ttrain-logloss:0.411446\teval-logloss:0.412414\n",
            "[57]\ttrain-logloss:0.411332\teval-logloss:0.412335\n",
            "[58]\ttrain-logloss:0.411235\teval-logloss:0.412249\n",
            "[59]\ttrain-logloss:0.410904\teval-logloss:0.411931\n",
            "[60]\ttrain-logloss:0.410777\teval-logloss:0.411794\n",
            "[61]\ttrain-logloss:0.410606\teval-logloss:0.411651\n",
            "[62]\ttrain-logloss:0.410511\teval-logloss:0.411557\n",
            "[63]\ttrain-logloss:0.410272\teval-logloss:0.41134\n",
            "[64]\ttrain-logloss:0.410196\teval-logloss:0.411277\n",
            "[65]\ttrain-logloss:0.410098\teval-logloss:0.41121\n",
            "[66]\ttrain-logloss:0.409943\teval-logloss:0.411088\n",
            "[67]\ttrain-logloss:0.409748\teval-logloss:0.410894\n",
            "[68]\ttrain-logloss:0.409538\teval-logloss:0.410687\n",
            "[69]\ttrain-logloss:0.40942\teval-logloss:0.410594\n",
            "[70]\ttrain-logloss:0.409348\teval-logloss:0.41053\n",
            "[71]\ttrain-logloss:0.409268\teval-logloss:0.410444\n",
            "[72]\ttrain-logloss:0.409157\teval-logloss:0.410373\n",
            "[73]\ttrain-logloss:0.408897\teval-logloss:0.410107\n",
            "[74]\ttrain-logloss:0.408845\teval-logloss:0.410062\n",
            "[75]\ttrain-logloss:0.408741\teval-logloss:0.409984\n",
            "[76]\ttrain-logloss:0.408693\teval-logloss:0.409942\n",
            "[77]\ttrain-logloss:0.408593\teval-logloss:0.40987\n",
            "[78]\ttrain-logloss:0.408526\teval-logloss:0.409808\n",
            "[79]\ttrain-logloss:0.408405\teval-logloss:0.409723\n",
            "[80]\ttrain-logloss:0.40823\teval-logloss:0.409569\n",
            "[81]\ttrain-logloss:0.408143\teval-logloss:0.4095\n",
            "[82]\ttrain-logloss:0.408034\teval-logloss:0.409396\n",
            "[83]\ttrain-logloss:0.407942\teval-logloss:0.409335\n",
            "[84]\ttrain-logloss:0.407858\teval-logloss:0.409268\n",
            "[85]\ttrain-logloss:0.407788\teval-logloss:0.409214\n",
            "[86]\ttrain-logloss:0.407725\teval-logloss:0.409177\n",
            "[87]\ttrain-logloss:0.407653\teval-logloss:0.4091\n",
            "[88]\ttrain-logloss:0.407568\teval-logloss:0.409058\n",
            "[89]\ttrain-logloss:0.407447\teval-logloss:0.408949\n",
            "[90]\ttrain-logloss:0.407403\teval-logloss:0.408915\n",
            "[91]\ttrain-logloss:0.407274\teval-logloss:0.408805\n",
            "[92]\ttrain-logloss:0.40724\teval-logloss:0.408778\n",
            "[93]\ttrain-logloss:0.407171\teval-logloss:0.408728\n",
            "[94]\ttrain-logloss:0.407124\teval-logloss:0.408687\n",
            "[95]\ttrain-logloss:0.406949\teval-logloss:0.408524\n",
            "[96]\ttrain-logloss:0.406836\teval-logloss:0.408409\n",
            "[97]\ttrain-logloss:0.406795\teval-logloss:0.408371\n",
            "[98]\ttrain-logloss:0.406736\teval-logloss:0.408328\n",
            "[99]\ttrain-logloss:0.406676\teval-logloss:0.40828\n",
            "[100]\ttrain-logloss:0.406622\teval-logloss:0.408254\n",
            "[101]\ttrain-logloss:0.406568\teval-logloss:0.408205\n",
            "[102]\ttrain-logloss:0.406511\teval-logloss:0.408146\n",
            "[103]\ttrain-logloss:0.406349\teval-logloss:0.407995\n",
            "[104]\ttrain-logloss:0.406318\teval-logloss:0.407966\n",
            "[105]\ttrain-logloss:0.406239\teval-logloss:0.407898\n",
            "[106]\ttrain-logloss:0.40619\teval-logloss:0.407858\n",
            "[107]\ttrain-logloss:0.406115\teval-logloss:0.407793\n",
            "[108]\ttrain-logloss:0.406014\teval-logloss:0.407708\n",
            "[109]\ttrain-logloss:0.405957\teval-logloss:0.40766\n",
            "[110]\ttrain-logloss:0.405897\teval-logloss:0.407608\n",
            "[111]\ttrain-logloss:0.405842\teval-logloss:0.407567\n",
            "[112]\ttrain-logloss:0.405794\teval-logloss:0.407532\n",
            "[113]\ttrain-logloss:0.405735\teval-logloss:0.407495\n",
            "[114]\ttrain-logloss:0.405538\teval-logloss:0.407308\n",
            "[115]\ttrain-logloss:0.405459\teval-logloss:0.407228\n",
            "[116]\ttrain-logloss:0.405431\teval-logloss:0.407205\n",
            "[117]\ttrain-logloss:0.405403\teval-logloss:0.407185\n",
            "[118]\ttrain-logloss:0.405383\teval-logloss:0.407166\n",
            "[119]\ttrain-logloss:0.405201\teval-logloss:0.407007\n",
            "[120]\ttrain-logloss:0.405141\teval-logloss:0.406953\n",
            "[121]\ttrain-logloss:0.405101\teval-logloss:0.406927\n",
            "[122]\ttrain-logloss:0.405037\teval-logloss:0.406887\n",
            "[123]\ttrain-logloss:0.405011\teval-logloss:0.406869\n",
            "[124]\ttrain-logloss:0.404938\teval-logloss:0.406807\n",
            "[125]\ttrain-logloss:0.404823\teval-logloss:0.406687\n",
            "[126]\ttrain-logloss:0.404701\teval-logloss:0.406585\n",
            "[127]\ttrain-logloss:0.404653\teval-logloss:0.406559\n",
            "[128]\ttrain-logloss:0.404589\teval-logloss:0.406504\n",
            "[129]\ttrain-logloss:0.404556\teval-logloss:0.406481\n",
            "[130]\ttrain-logloss:0.404482\teval-logloss:0.406404\n",
            "[131]\ttrain-logloss:0.40436\teval-logloss:0.406281\n",
            "[132]\ttrain-logloss:0.404285\teval-logloss:0.4062\n",
            "[133]\ttrain-logloss:0.404185\teval-logloss:0.406097\n",
            "[134]\ttrain-logloss:0.404094\teval-logloss:0.406009\n",
            "[135]\ttrain-logloss:0.404031\teval-logloss:0.405978\n",
            "[136]\ttrain-logloss:0.404012\teval-logloss:0.405976\n",
            "[137]\ttrain-logloss:0.403992\teval-logloss:0.405967\n",
            "[138]\ttrain-logloss:0.403963\teval-logloss:0.405943\n",
            "[139]\ttrain-logloss:0.403919\teval-logloss:0.40591\n",
            "[140]\ttrain-logloss:0.403852\teval-logloss:0.405851\n",
            "[141]\ttrain-logloss:0.403811\teval-logloss:0.405823\n",
            "[142]\ttrain-logloss:0.403743\teval-logloss:0.405766\n",
            "[143]\ttrain-logloss:0.403701\teval-logloss:0.405749\n",
            "[144]\ttrain-logloss:0.403641\teval-logloss:0.405701\n",
            "[145]\ttrain-logloss:0.403545\teval-logloss:0.405614\n",
            "[146]\ttrain-logloss:0.403528\teval-logloss:0.405605\n",
            "[147]\ttrain-logloss:0.403502\teval-logloss:0.405586\n",
            "[148]\ttrain-logloss:0.403454\teval-logloss:0.405555\n",
            "[149]\ttrain-logloss:0.403346\teval-logloss:0.405436\n",
            "[150]\ttrain-logloss:0.403288\teval-logloss:0.405392\n",
            "[151]\ttrain-logloss:0.403246\teval-logloss:0.405369\n",
            "[152]\ttrain-logloss:0.403154\teval-logloss:0.405299\n",
            "[153]\ttrain-logloss:0.403129\teval-logloss:0.405295\n",
            "[154]\ttrain-logloss:0.403112\teval-logloss:0.405286\n",
            "[155]\ttrain-logloss:0.403059\teval-logloss:0.405243\n",
            "[156]\ttrain-logloss:0.403034\teval-logloss:0.405223\n",
            "[157]\ttrain-logloss:0.402975\teval-logloss:0.405168\n",
            "[158]\ttrain-logloss:0.402873\teval-logloss:0.405079\n",
            "[159]\ttrain-logloss:0.402825\teval-logloss:0.405036\n",
            "[160]\ttrain-logloss:0.402805\teval-logloss:0.405034\n"
          ]
        },
        {
          "name": "stdout",
          "output_type": "stream",
          "text": [
            "[161]\ttrain-logloss:0.402706\teval-logloss:0.404943\n",
            "[162]\ttrain-logloss:0.402684\teval-logloss:0.404934\n",
            "[163]\ttrain-logloss:0.402651\teval-logloss:0.404931\n",
            "[164]\ttrain-logloss:0.402593\teval-logloss:0.404888\n",
            "[165]\ttrain-logloss:0.402534\teval-logloss:0.404847\n",
            "[166]\ttrain-logloss:0.402514\teval-logloss:0.404839\n",
            "[167]\ttrain-logloss:0.402478\teval-logloss:0.404816\n",
            "[168]\ttrain-logloss:0.402447\teval-logloss:0.404795\n",
            "[169]\ttrain-logloss:0.402424\teval-logloss:0.404779\n",
            "[170]\ttrain-logloss:0.402395\teval-logloss:0.404763\n",
            "[171]\ttrain-logloss:0.402369\teval-logloss:0.404738\n",
            "[172]\ttrain-logloss:0.402328\teval-logloss:0.404707\n",
            "[173]\ttrain-logloss:0.402293\teval-logloss:0.404683\n",
            "[174]\ttrain-logloss:0.402263\teval-logloss:0.404666\n",
            "[175]\ttrain-logloss:0.402196\teval-logloss:0.40461\n",
            "[176]\ttrain-logloss:0.40214\teval-logloss:0.404557\n",
            "[177]\ttrain-logloss:0.402091\teval-logloss:0.404519\n",
            "[178]\ttrain-logloss:0.402031\teval-logloss:0.404472\n",
            "[179]\ttrain-logloss:0.402011\teval-logloss:0.404463\n",
            "[180]\ttrain-logloss:0.401971\teval-logloss:0.404437\n",
            "[181]\ttrain-logloss:0.401929\teval-logloss:0.404419\n",
            "[182]\ttrain-logloss:0.401893\teval-logloss:0.404396\n",
            "[183]\ttrain-logloss:0.401875\teval-logloss:0.404388\n",
            "[184]\ttrain-logloss:0.401786\teval-logloss:0.404301\n",
            "[185]\ttrain-logloss:0.401769\teval-logloss:0.404283\n",
            "[186]\ttrain-logloss:0.401758\teval-logloss:0.404277\n",
            "[187]\ttrain-logloss:0.401705\teval-logloss:0.404228\n",
            "[188]\ttrain-logloss:0.401616\teval-logloss:0.404155\n",
            "[189]\ttrain-logloss:0.401597\teval-logloss:0.40415\n",
            "[190]\ttrain-logloss:0.401581\teval-logloss:0.404146\n",
            "[191]\ttrain-logloss:0.401554\teval-logloss:0.404128\n",
            "[192]\ttrain-logloss:0.40155\teval-logloss:0.404125\n",
            "[193]\ttrain-logloss:0.401529\teval-logloss:0.404112\n",
            "[194]\ttrain-logloss:0.40147\teval-logloss:0.404067\n",
            "[195]\ttrain-logloss:0.401367\teval-logloss:0.403969\n",
            "[196]\ttrain-logloss:0.401336\teval-logloss:0.403948\n",
            "[197]\ttrain-logloss:0.401265\teval-logloss:0.403874\n",
            "[198]\ttrain-logloss:0.401232\teval-logloss:0.403846\n",
            "[199]\ttrain-logloss:0.401199\teval-logloss:0.403816\n",
            "[200]\ttrain-logloss:0.401163\teval-logloss:0.403797\n",
            "[201]\ttrain-logloss:0.401126\teval-logloss:0.403771\n",
            "[202]\ttrain-logloss:0.401098\teval-logloss:0.403755\n",
            "[203]\ttrain-logloss:0.401079\teval-logloss:0.403754\n",
            "[204]\ttrain-logloss:0.401065\teval-logloss:0.403753\n",
            "[205]\ttrain-logloss:0.40102\teval-logloss:0.403721\n",
            "[206]\ttrain-logloss:0.400982\teval-logloss:0.4037\n",
            "[207]\ttrain-logloss:0.400965\teval-logloss:0.403693\n",
            "[208]\ttrain-logloss:0.400926\teval-logloss:0.403662\n",
            "[209]\ttrain-logloss:0.400899\teval-logloss:0.403642\n",
            "[210]\ttrain-logloss:0.400828\teval-logloss:0.403582\n",
            "[211]\ttrain-logloss:0.400802\teval-logloss:0.403565\n",
            "[212]\ttrain-logloss:0.400761\teval-logloss:0.403533\n",
            "[213]\ttrain-logloss:0.400728\teval-logloss:0.403507\n",
            "[214]\ttrain-logloss:0.400707\teval-logloss:0.403497\n",
            "[215]\ttrain-logloss:0.400668\teval-logloss:0.40347\n",
            "[216]\ttrain-logloss:0.400643\teval-logloss:0.403449\n",
            "[217]\ttrain-logloss:0.400631\teval-logloss:0.40345\n",
            "[218]\ttrain-logloss:0.400603\teval-logloss:0.403431\n",
            "[219]\ttrain-logloss:0.400584\teval-logloss:0.40341\n",
            "[220]\ttrain-logloss:0.400577\teval-logloss:0.403404\n",
            "[221]\ttrain-logloss:0.400562\teval-logloss:0.403403\n",
            "[222]\ttrain-logloss:0.400528\teval-logloss:0.403395\n",
            "[223]\ttrain-logloss:0.400482\teval-logloss:0.403357\n",
            "[224]\ttrain-logloss:0.400453\teval-logloss:0.403338\n",
            "[225]\ttrain-logloss:0.400436\teval-logloss:0.403331\n",
            "[226]\ttrain-logloss:0.400421\teval-logloss:0.403321\n",
            "[227]\ttrain-logloss:0.400393\teval-logloss:0.403298\n",
            "[228]\ttrain-logloss:0.40035\teval-logloss:0.403269\n",
            "[229]\ttrain-logloss:0.400333\teval-logloss:0.403257\n",
            "[230]\ttrain-logloss:0.400305\teval-logloss:0.40323\n",
            "[231]\ttrain-logloss:0.400294\teval-logloss:0.40322\n",
            "[232]\ttrain-logloss:0.40029\teval-logloss:0.403217\n",
            "[233]\ttrain-logloss:0.400248\teval-logloss:0.403181\n",
            "[234]\ttrain-logloss:0.40022\teval-logloss:0.403158\n",
            "[235]\ttrain-logloss:0.400167\teval-logloss:0.403113\n",
            "[236]\ttrain-logloss:0.400152\teval-logloss:0.403106\n",
            "[237]\ttrain-logloss:0.400128\teval-logloss:0.403097\n",
            "[238]\ttrain-logloss:0.400064\teval-logloss:0.403055\n",
            "[239]\ttrain-logloss:0.400045\teval-logloss:0.403041\n",
            "[240]\ttrain-logloss:0.400026\teval-logloss:0.403034\n",
            "[241]\ttrain-logloss:0.399987\teval-logloss:0.403\n",
            "[242]\ttrain-logloss:0.399975\teval-logloss:0.402997\n",
            "[243]\ttrain-logloss:0.399945\teval-logloss:0.40297\n",
            "[244]\ttrain-logloss:0.399872\teval-logloss:0.402914\n",
            "[245]\ttrain-logloss:0.399833\teval-logloss:0.402881\n",
            "[246]\ttrain-logloss:0.399801\teval-logloss:0.402842\n",
            "[247]\ttrain-logloss:0.39978\teval-logloss:0.402837\n",
            "[248]\ttrain-logloss:0.399719\teval-logloss:0.402786\n",
            "[249]\ttrain-logloss:0.399706\teval-logloss:0.402784\n",
            "[250]\ttrain-logloss:0.399659\teval-logloss:0.40275\n",
            "[251]\ttrain-logloss:0.399623\teval-logloss:0.402719\n",
            "[252]\ttrain-logloss:0.399571\teval-logloss:0.402681\n",
            "[253]\ttrain-logloss:0.399531\teval-logloss:0.402647\n",
            "[254]\ttrain-logloss:0.399509\teval-logloss:0.402636\n",
            "[255]\ttrain-logloss:0.399476\teval-logloss:0.402627\n",
            "[256]\ttrain-logloss:0.399416\teval-logloss:0.402582\n",
            "[257]\ttrain-logloss:0.399399\teval-logloss:0.402573\n",
            "[258]\ttrain-logloss:0.399369\teval-logloss:0.40255\n",
            "[259]\ttrain-logloss:0.399364\teval-logloss:0.402551\n"
          ]
        }
      ],
      "source": [
        "features = ['C1', 'banner_pos', 'device_type', 'device_conn_type', 'C14',\n",
        "       'C15', 'C16', 'C17', 'C18', 'C19', 'C20', 'C21', 'hour_of_day',\n",
        "       'site_id_int', 'site_domain_int', 'site_category_int', 'app_id_int',\n",
        "       'app_domain_int', 'app_category_int', 'device_id_int', 'device_ip_int',\n",
        "       'device_model_int', 'day_of_week_int']\n",
        "run_default_test(train, y_target, features, 'click')"
      ]
    },
    {
      "cell_type": "code",
      "execution_count": null,
      "metadata": {},
      "outputs": [],
      "source": []
    }
  ],
  "metadata": {
    "kernel_info": {
      "name": "python3"
    },
    "kernelspec": {
      "display_name": "Python 3 (ipykernel)",
      "language": "python",
      "name": "python3"
    },
    "language_info": {
      "codemirror_mode": {
        "name": "ipython",
        "version": 3
      },
      "file_extension": ".py",
      "mimetype": "text/x-python",
      "name": "python",
      "nbconvert_exporter": "python",
      "pygments_lexer": "ipython3",
      "version": "3.8.5"
    },
    "nteract": {
      "version": "nteract-front-end@1.0.0"
    }
  },
  "nbformat": 4,
  "nbformat_minor": 2
}
