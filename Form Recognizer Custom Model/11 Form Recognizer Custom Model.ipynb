{
  "cells": [
    {
      "cell_type": "markdown",
      "source": [
        "****Important – Do not use in production, for demonstration purposes only – please review the legal notices before continuing****"
      ],
      "metadata": {
        "nteract": {
          "transient": {
            "deleting": false
          }
        }
      }
    },
    {
      "cell_type": "markdown",
      "source": [
        "# Custom models\n",
        "\n",
        "Extract text, structure, and fields from models trained with your data, so they're tailored to your forms and documents."
      ],
      "metadata": {
        "nteract": {
          "transient": {
            "deleting": false
          }
        }
      }
    },
    {
      "cell_type": "code",
      "source": [
        "!pip install -q azure-ai-formrecognizer --pre --upgrade"
      ],
      "outputs": [],
      "execution_count": 4,
      "metadata": {}
    },
    {
      "cell_type": "code",
      "source": [
        "\n",
        "from azure.core.credentials import AzureKeyCredential\n",
        "from azure.ai.formrecognizer import DocumentAnalysisClient\n",
        "import GlobalVariables as gv\n",
        "\n",
        "endpoint = gv.FORM_RECOGNIZER_ENDPOINT\n",
        "key = gv.FORM_RECOGNIZER_KEY\n",
        "model_id = gv.FORM_RECOGNIZER_MODEL"
      ],
      "outputs": [],
      "execution_count": 2,
      "metadata": {
        "gather": {
          "logged": 1643152721186
        },
        "jupyter": {
          "outputs_hidden": false,
          "source_hidden": false
        },
        "nteract": {
          "transient": {
            "deleting": false
          }
        }
      }
    },
    {
      "cell_type": "markdown",
      "source": [
        "### Document "
      ],
      "metadata": {}
    },
    {
      "cell_type": "code",
      "source": [
        "formUrl = \"https://raw.githubusercontent.com/Azure-Samples/cognitive-services-REST-api-samples/master/curl/form-recognizer/sample-layout.pdf\"\n",
        "\n",
        "document_analysis_client = DocumentAnalysisClient(\n",
        "    endpoint=endpoint, credential=AzureKeyCredential(key)\n",
        ")\n",
        "\n",
        "# Make sure your document's type is included in the list of document types the custom model can analyze\n",
        "poller = document_analysis_client.begin_analyze_document_from_url(model_id, formUrl)\n",
        "result = poller.result()\n",
        "\n",
        "for idx, document in enumerate(result.documents):\n",
        "    print(\"--------Analyzing document #{}--------\".format(idx + 1))\n",
        "    print(\"Document has type {}\".format(document.doc_type))\n",
        "    print(\"Document has confidence {}\".format(document.confidence))\n",
        "    print(\"Document was analyzed by model with ID {}\".format(result.model_id))\n",
        "    for name, field in document.fields.items():\n",
        "        field_value = field.value if field.value else field.content\n",
        "        print(\"......found field of type '{}' with value '{}' and with confidence {}\".format(field.value_type, field_value, field.confidence))\n",
        "\n",
        "\n",
        "# iterate over tables, lines, and selection marks on each page\n",
        "for page in result.pages:\n",
        "    print(\"\\nLines found on page {}\".format(page.page_number))\n",
        "    for line in page.lines:\n",
        "        print(\"...Line '{}'\".format(line.content.encode('utf-8')))\n",
        "    for word in page.words:\n",
        "        print(\n",
        "            \"...Word '{}' has a confidence of {}\".format(\n",
        "                word.content.encode('utf-8'), word.confidence\n",
        "            )\n",
        "        )\n",
        "    for selection_mark in page.selection_marks:\n",
        "        print(\n",
        "            \"...Selection mark is '{}' and has a confidence of {}\".format(\n",
        "                selection_mark.state, selection_mark.confidence\n",
        "            )\n",
        "        )\n",
        "\n",
        "for i, table in enumerate(result.tables):\n",
        "    print(\"\\nTable {} can be found on page:\".format(i + 1))\n",
        "    for region in table.bounding_regions:\n",
        "        print(\"...{}\".format(i + 1, region.page_number))\n",
        "    for cell in table.cells:\n",
        "        print(\n",
        "            \"...Cell[{}][{}] has content '{}'\".format(\n",
        "                cell.row_index, cell.column_index, cell.content.encode('utf-8')\n",
        "            )\n",
        "        )\n",
        "print(\"-----------------------------------\")\n"
      ],
      "outputs": [
        {
          "output_type": "stream",
          "name": "stdout",
          "text": "--------Analyzing document #1--------\nDocument has type RetailIncidentModel:RetailIncidentModel\nDocument has confidence 0.003\nDocument was analyzed by model with ID RetailIncidentModel\n......found field of type 'string' with value '91-1144442' and with confidence 0.95\n......found field of type 'string' with value '☐' and with confidence 0.95\n......found field of type 'string' with value 'Securities registered pursuant to Section 12(b) of the Act:' and with confidence 0.064\n......found field of type 'string' with value 'WASHINGTON (STATE OF INCORPORATION)' and with confidence 0.07\n......found field of type 'string' with value 'SECURITIES AND EXCHANGE COMMISSION' and with confidence 0.95\n......found field of type 'string' with value '1934' and with confidence 0.95\n......found field of type 'list' with value 'None' and with confidence None\n\nLines found on page 1\n...Line 'b'UNITED STATES''\n...Line 'b'SECURITIES AND EXCHANGE COMMISSION''\n...Line 'b'Washington, D.C. 20549''\n...Line 'b'FORM 10-Q''\n...Line 'b'\\xe2\\x98\\x92''\n...Line 'b'QUARTERLY REPORT PURSUANT TO SECTION 13 OR 15(d) OF THE SECURITIES EXCHANGE ACT OF''\n...Line 'b'1934''\n...Line 'b'For the Quarterly Period Ended March 31, 2020''\n...Line 'b'OR''\n...Line 'b'\\xe2\\x98\\x90''\n...Line 'b'TRANSITION REPORT PURSUANT TO SECTION 13 OR 15(d) OF THE SECURITIES EXCHANGE ACT OF''\n...Line 'b'1934''\n...Line 'b'For the Transition Period From''\n...Line 'b'to''\n...Line 'b'Commission File Number 001-37845''\n...Line 'b'MICROSOFT CORPORATION''\n...Line 'b'WASHINGTON''\n...Line 'b'(STATE OF INCORPORATION)''\n...Line 'b'91-1144442''\n...Line 'b'(I.R.S. ID)''\n...Line 'b'ONE MICROSOFT WAY, REDMOND, WASHINGTON 98052-6399''\n...Line 'b'(425) 882-8080''\n...Line 'b'www.microsoft.com/investor''\n...Line 'b'Securities registered pursuant to Section 12(b) of the Act:''\n...Line 'b'Title of each class''\n...Line 'b'Trading Symbol''\n...Line 'b'Name of exchange on which registered''\n...Line 'b'Common stock, $0.00000625 par value per share''\n...Line 'b'MSFT''\n...Line 'b'NASDAQ''\n...Line 'b'2.125% Notes due 2021''\n...Line 'b'MSFT''\n...Line 'b'NASDAQ''\n...Line 'b'3.125% Notes due 2028''\n...Line 'b'MSFT''\n...Line 'b'NASDAQ''\n...Line 'b'2.625% Notes due 2033''\n...Line 'b'MSFT''\n...Line 'b'NASDAQ''\n...Line 'b'Securities registered pursuant to Section 12(g) of the Act:''\n...Line 'b'NONE''\n...Line 'b'Indicate by check mark whether the registrant (1) has filed all reports required to be filed by Section 13 or 15(d) of the Securities Exchange''\n...Line 'b'Act of 1934 during the preceding 12 months (or for such shorter period that the registrant was required to file such reports), and (2) has''\n...Line 'b'been subject to such filing requirements for the past 90 days.''\n...Line 'b'Yes \\xe2\\x98\\x92''\n...Line 'b'No \\xe2\\x98\\x90''\n...Line 'b'Indicate by check mark whether the registrant has submitted electronically every Interactive Data File required to be submitted pursuant to Rule''\n...Line 'b'405 of Regulation S-T (\\xc2\\xa7232.405 of this chapter) during the preceding 12 months (or for such shorter period that the registrant was required to''\n...Line 'b'submit such files).''\n...Line 'b'Yes \\xe2\\x98\\x92''\n...Line 'b'No \\xe2\\x98\\x90''\n...Line 'b'Indicate by check mark whether the registrant is a large accelerated filer, an accelerated filer, a non-accelerated filer, a smaller reporting''\n...Line 'b'company, or an emerging growth company. See the definitions of \\xe2\\x80\\x9clarge accelerated filer,\\xe2\\x80\\x9d \\xe2\\x80\\x9caccelerated filer,\\xe2\\x80\\x9d \\xe2\\x80\\x9csmaller reporting company,\\xe2\\x80\\x9d''\n...Line 'b'and \\xe2\\x80\\x9cemerging growth company\\xe2\\x80\\x9d in Rule 12b-2 of the Exchange Act.''\n...Line 'b'Large accelerated filer \\xe2\\x98\\x92''\n...Line 'b'Non-accelerated filer \\xe2\\x98\\x90''\n...Line 'b'Accelerated filer \\xe2\\x98\\x90''\n...Line 'b'Smaller reporting company \\xe2\\x98\\x90''\n...Line 'b'Emerging growth company \\xe2\\x98\\x90''\n...Line 'b'If an emerging growth company, indicate by check mark if the registrant has elected not to use the extended transition period for complying''\n...Line 'b'with any new or revised financial accounting standards provided pursuant to Section 13(a) of the Exchange Act. \\xe2\\x98\\x90''\n...Line 'b'Indicate by check mark whether the registrant is a shell company (as defined in Rule 12b-2 of the Exchange Act).''\n...Line 'b'Yes \\xe2\\x98\\x90''\n...Line 'b'No \\xe2\\x98\\x92''\n...Line 'b'Indicate the number of shares outstanding of each of the issuer\\xe2\\x80\\x99s classes of common stock, as of the latest practicable date.''\n...Line 'b'Class''\n...Line 'b'Outstanding as of April 24, 2020''\n...Line 'b'Common Stock, $0.00000625 par value per share''\n...Line 'b'7,583,440,247 shares''\n...Word 'b'UNITED'' has a confidence of 1.0\n...Word 'b'STATES'' has a confidence of 1.0\n...Word 'b'SECURITIES'' has a confidence of 1.0\n...Word 'b'AND'' has a confidence of 1.0\n...Word 'b'EXCHANGE'' has a confidence of 1.0\n...Word 'b'COMMISSION'' has a confidence of 1.0\n...Word 'b'Washington,'' has a confidence of 1.0\n...Word 'b'D.C.'' has a confidence of 1.0\n...Word 'b'20549'' has a confidence of 1.0\n...Word 'b'FORM'' has a confidence of 1.0\n...Word 'b'10-Q'' has a confidence of 1.0\n...Word 'b'\\xe2\\x98\\x92'' has a confidence of 1.0\n...Word 'b'QUARTERLY'' has a confidence of 1.0\n...Word 'b'REPORT'' has a confidence of 1.0\n...Word 'b'PURSUANT'' has a confidence of 1.0\n...Word 'b'TO'' has a confidence of 1.0\n...Word 'b'SECTION'' has a confidence of 1.0\n...Word 'b'13'' has a confidence of 1.0\n...Word 'b'OR'' has a confidence of 1.0\n...Word 'b'15(d)'' has a confidence of 1.0\n...Word 'b'OF'' has a confidence of 1.0\n...Word 'b'THE'' has a confidence of 1.0\n...Word 'b'SECURITIES'' has a confidence of 1.0\n...Word 'b'EXCHANGE'' has a confidence of 1.0\n...Word 'b'ACT'' has a confidence of 1.0\n...Word 'b'OF'' has a confidence of 1.0\n...Word 'b'1934'' has a confidence of 1.0\n...Word 'b'For'' has a confidence of 1.0\n...Word 'b'the'' has a confidence of 1.0\n...Word 'b'Quarterly'' has a confidence of 1.0\n...Word 'b'Period'' has a confidence of 1.0\n...Word 'b'Ended'' has a confidence of 1.0\n...Word 'b'March'' has a confidence of 1.0\n...Word 'b'31,'' has a confidence of 1.0\n...Word 'b'2020'' has a confidence of 1.0\n...Word 'b'OR'' has a confidence of 1.0\n...Word 'b'\\xe2\\x98\\x90'' has a confidence of 1.0\n...Word 'b'TRANSITION'' has a confidence of 1.0\n...Word 'b'REPORT'' has a confidence of 1.0\n...Word 'b'PURSUANT'' has a confidence of 1.0\n...Word 'b'TO'' has a confidence of 1.0\n...Word 'b'SECTION'' has a confidence of 1.0\n...Word 'b'13'' has a confidence of 1.0\n...Word 'b'OR'' has a confidence of 1.0\n...Word 'b'15(d)'' has a confidence of 1.0\n...Word 'b'OF'' has a confidence of 1.0\n...Word 'b'THE'' has a confidence of 1.0\n...Word 'b'SECURITIES'' has a confidence of 1.0\n...Word 'b'EXCHANGE'' has a confidence of 1.0\n...Word 'b'ACT'' has a confidence of 1.0\n...Word 'b'OF'' has a confidence of 1.0\n...Word 'b'1934'' has a confidence of 1.0\n...Word 'b'For'' has a confidence of 1.0\n...Word 'b'the'' has a confidence of 1.0\n...Word 'b'Transition'' has a confidence of 1.0\n...Word 'b'Period'' has a confidence of 1.0\n...Word 'b'From'' has a confidence of 1.0\n...Word 'b'to'' has a confidence of 1.0\n...Word 'b'Commission'' has a confidence of 1.0\n...Word 'b'File'' has a confidence of 1.0\n...Word 'b'Number'' has a confidence of 1.0\n...Word 'b'001-37845'' has a confidence of 1.0\n...Word 'b'MICROSOFT'' has a confidence of 1.0\n...Word 'b'CORPORATION'' has a confidence of 1.0\n...Word 'b'WASHINGTON'' has a confidence of 1.0\n...Word 'b'(STATE'' has a confidence of 1.0\n...Word 'b'OF'' has a confidence of 1.0\n...Word 'b'INCORPORATION)'' has a confidence of 1.0\n...Word 'b'91-1144442'' has a confidence of 1.0\n...Word 'b'(I.R.S.'' has a confidence of 1.0\n...Word 'b'ID)'' has a confidence of 1.0\n...Word 'b'ONE'' has a confidence of 1.0\n...Word 'b'MICROSOFT'' has a confidence of 1.0\n...Word 'b'WAY,'' has a confidence of 1.0\n...Word 'b'REDMOND,'' has a confidence of 1.0\n...Word 'b'WASHINGTON'' has a confidence of 1.0\n...Word 'b'98052-6399'' has a confidence of 1.0\n...Word 'b'(425)'' has a confidence of 1.0\n...Word 'b'882-8080'' has a confidence of 1.0\n...Word 'b'www.microsoft.com/investor'' has a confidence of 1.0\n...Word 'b'Securities'' has a confidence of 1.0\n...Word 'b'registered'' has a confidence of 1.0\n...Word 'b'pursuant'' has a confidence of 1.0\n...Word 'b'to'' has a confidence of 1.0\n...Word 'b'Section'' has a confidence of 1.0\n...Word 'b'12(b)'' has a confidence of 1.0\n...Word 'b'of'' has a confidence of 1.0\n...Word 'b'the'' has a confidence of 1.0\n...Word 'b'Act:'' has a confidence of 1.0\n...Word 'b'Title'' has a confidence of 1.0\n...Word 'b'of'' has a confidence of 1.0\n...Word 'b'each'' has a confidence of 1.0\n...Word 'b'class'' has a confidence of 1.0\n...Word 'b'Trading'' has a confidence of 1.0\n...Word 'b'Symbol'' has a confidence of 1.0\n...Word 'b'Name'' has a confidence of 1.0\n...Word 'b'of'' has a confidence of 1.0\n...Word 'b'exchange'' has a confidence of 1.0\n...Word 'b'on'' has a confidence of 1.0\n...Word 'b'which'' has a confidence of 1.0\n...Word 'b'registered'' has a confidence of 1.0\n...Word 'b'Common'' has a confidence of 1.0\n...Word 'b'stock,'' has a confidence of 1.0\n...Word 'b'$0.00000625'' has a confidence of 1.0\n...Word 'b'par'' has a confidence of 1.0\n...Word 'b'value'' has a confidence of 1.0\n...Word 'b'per'' has a confidence of 1.0\n...Word 'b'share'' has a confidence of 1.0\n...Word 'b'MSFT'' has a confidence of 1.0\n...Word 'b'NASDAQ'' has a confidence of 1.0\n...Word 'b'2.125%'' has a confidence of 1.0\n...Word 'b'Notes'' has a confidence of 1.0\n...Word 'b'due'' has a confidence of 1.0\n...Word 'b'2021'' has a confidence of 1.0\n...Word 'b'MSFT'' has a confidence of 1.0\n...Word 'b'NASDAQ'' has a confidence of 1.0\n...Word 'b'3.125%'' has a confidence of 1.0\n...Word 'b'Notes'' has a confidence of 1.0\n...Word 'b'due'' has a confidence of 1.0\n...Word 'b'2028'' has a confidence of 1.0\n...Word 'b'MSFT'' has a confidence of 1.0\n...Word 'b'NASDAQ'' has a confidence of 1.0\n...Word 'b'2.625%'' has a confidence of 1.0\n...Word 'b'Notes'' has a confidence of 1.0\n...Word 'b'due'' has a confidence of 1.0\n...Word 'b'2033'' has a confidence of 1.0\n...Word 'b'MSFT'' has a confidence of 1.0\n...Word 'b'NASDAQ'' has a confidence of 1.0\n...Word 'b'Securities'' has a confidence of 1.0\n...Word 'b'registered'' has a confidence of 1.0\n...Word 'b'pursuant'' has a confidence of 1.0\n...Word 'b'to'' has a confidence of 1.0\n...Word 'b'Section'' has a confidence of 1.0\n...Word 'b'12(g)'' has a confidence of 1.0\n...Word 'b'of'' has a confidence of 1.0\n...Word 'b'the'' has a confidence of 1.0\n...Word 'b'Act:'' has a confidence of 1.0\n...Word 'b'NONE'' has a confidence of 1.0\n...Word 'b'Indicate'' has a confidence of 1.0\n...Word 'b'by'' has a confidence of 1.0\n...Word 'b'check'' has a confidence of 1.0\n...Word 'b'mark'' has a confidence of 1.0\n...Word 'b'whether'' has a confidence of 1.0\n...Word 'b'the'' has a confidence of 1.0\n...Word 'b'registrant'' has a confidence of 1.0\n...Word 'b'(1)'' has a confidence of 1.0\n...Word 'b'has'' has a confidence of 1.0\n...Word 'b'filed'' has a confidence of 1.0\n...Word 'b'all'' has a confidence of 1.0\n...Word 'b'reports'' has a confidence of 1.0\n...Word 'b'required'' has a confidence of 1.0\n...Word 'b'to'' has a confidence of 1.0\n...Word 'b'be'' has a confidence of 1.0\n...Word 'b'filed'' has a confidence of 1.0\n...Word 'b'by'' has a confidence of 1.0\n...Word 'b'Section'' has a confidence of 1.0\n...Word 'b'13'' has a confidence of 1.0\n...Word 'b'or'' has a confidence of 1.0\n...Word 'b'15(d)'' has a confidence of 1.0\n...Word 'b'of'' has a confidence of 1.0\n...Word 'b'the'' has a confidence of 1.0\n...Word 'b'Securities'' has a confidence of 1.0\n...Word 'b'Exchange'' has a confidence of 1.0\n...Word 'b'Act'' has a confidence of 1.0\n...Word 'b'of'' has a confidence of 1.0\n...Word 'b'1934'' has a confidence of 1.0\n...Word 'b'during'' has a confidence of 1.0\n...Word 'b'the'' has a confidence of 1.0\n...Word 'b'preceding'' has a confidence of 1.0\n...Word 'b'12'' has a confidence of 1.0\n...Word 'b'months'' has a confidence of 1.0\n...Word 'b'(or'' has a confidence of 1.0\n...Word 'b'for'' has a confidence of 1.0\n...Word 'b'such'' has a confidence of 1.0\n...Word 'b'shorter'' has a confidence of 1.0\n...Word 'b'period'' has a confidence of 1.0\n...Word 'b'that'' has a confidence of 1.0\n...Word 'b'the'' has a confidence of 1.0\n...Word 'b'registrant'' has a confidence of 1.0\n...Word 'b'was'' has a confidence of 1.0\n...Word 'b'required'' has a confidence of 1.0\n...Word 'b'to'' has a confidence of 1.0\n...Word 'b'file'' has a confidence of 1.0\n...Word 'b'such'' has a confidence of 1.0\n...Word 'b'reports),'' has a confidence of 1.0\n...Word 'b'and'' has a confidence of 1.0\n...Word 'b'(2)'' has a confidence of 1.0\n...Word 'b'has'' has a confidence of 1.0\n...Word 'b'been'' has a confidence of 1.0\n...Word 'b'subject'' has a confidence of 1.0\n...Word 'b'to'' has a confidence of 1.0\n...Word 'b'such'' has a confidence of 1.0\n...Word 'b'filing'' has a confidence of 1.0\n...Word 'b'requirements'' has a confidence of 1.0\n...Word 'b'for'' has a confidence of 1.0\n...Word 'b'the'' has a confidence of 1.0\n...Word 'b'past'' has a confidence of 1.0\n...Word 'b'90'' has a confidence of 1.0\n...Word 'b'days.'' has a confidence of 1.0\n...Word 'b'Yes'' has a confidence of 1.0\n...Word 'b'\\xe2\\x98\\x92'' has a confidence of 1.0\n...Word 'b'No'' has a confidence of 1.0\n...Word 'b'\\xe2\\x98\\x90'' has a confidence of 1.0\n...Word 'b'Indicate'' has a confidence of 1.0\n...Word 'b'by'' has a confidence of 1.0\n...Word 'b'check'' has a confidence of 1.0\n...Word 'b'mark'' has a confidence of 1.0\n...Word 'b'whether'' has a confidence of 1.0\n...Word 'b'the'' has a confidence of 1.0\n...Word 'b'registrant'' has a confidence of 1.0\n...Word 'b'has'' has a confidence of 1.0\n...Word 'b'submitted'' has a confidence of 1.0\n...Word 'b'electronically'' has a confidence of 1.0\n...Word 'b'every'' has a confidence of 1.0\n...Word 'b'Interactive'' has a confidence of 1.0\n...Word 'b'Data'' has a confidence of 1.0\n...Word 'b'File'' has a confidence of 1.0\n...Word 'b'required'' has a confidence of 1.0\n...Word 'b'to'' has a confidence of 1.0\n...Word 'b'be'' has a confidence of 1.0\n...Word 'b'submitted'' has a confidence of 1.0\n...Word 'b'pursuant'' has a confidence of 1.0\n...Word 'b'to'' has a confidence of 1.0\n...Word 'b'Rule'' has a confidence of 1.0\n...Word 'b'405'' has a confidence of 1.0\n...Word 'b'of'' has a confidence of 1.0\n...Word 'b'Regulation'' has a confidence of 1.0\n...Word 'b'S-T'' has a confidence of 1.0\n...Word 'b'(\\xc2\\xa7232.405'' has a confidence of 1.0\n...Word 'b'of'' has a confidence of 1.0\n...Word 'b'this'' has a confidence of 1.0\n...Word 'b'chapter)'' has a confidence of 1.0\n...Word 'b'during'' has a confidence of 1.0\n...Word 'b'the'' has a confidence of 1.0\n...Word 'b'preceding'' has a confidence of 1.0\n...Word 'b'12'' has a confidence of 1.0\n...Word 'b'months'' has a confidence of 1.0\n...Word 'b'(or'' has a confidence of 1.0\n...Word 'b'for'' has a confidence of 1.0\n...Word 'b'such'' has a confidence of 1.0\n...Word 'b'shorter'' has a confidence of 1.0\n...Word 'b'period'' has a confidence of 1.0\n...Word 'b'that'' has a confidence of 1.0\n...Word 'b'the'' has a confidence of 1.0\n...Word 'b'registrant'' has a confidence of 1.0\n...Word 'b'was'' has a confidence of 1.0\n...Word 'b'required'' has a confidence of 1.0\n...Word 'b'to'' has a confidence of 1.0\n...Word 'b'submit'' has a confidence of 1.0\n...Word 'b'such'' has a confidence of 1.0\n...Word 'b'files).'' has a confidence of 1.0\n...Word 'b'Yes'' has a confidence of 1.0\n...Word 'b'\\xe2\\x98\\x92'' has a confidence of 1.0\n...Word 'b'No'' has a confidence of 1.0\n...Word 'b'\\xe2\\x98\\x90'' has a confidence of 1.0\n...Word 'b'Indicate'' has a confidence of 1.0\n...Word 'b'by'' has a confidence of 1.0\n...Word 'b'check'' has a confidence of 1.0\n...Word 'b'mark'' has a confidence of 1.0\n...Word 'b'whether'' has a confidence of 1.0\n...Word 'b'the'' has a confidence of 1.0\n...Word 'b'registrant'' has a confidence of 1.0\n...Word 'b'is'' has a confidence of 1.0\n...Word 'b'a'' has a confidence of 1.0\n...Word 'b'large'' has a confidence of 1.0\n...Word 'b'accelerated'' has a confidence of 1.0\n...Word 'b'filer,'' has a confidence of 1.0\n...Word 'b'an'' has a confidence of 1.0\n...Word 'b'accelerated'' has a confidence of 1.0\n...Word 'b'filer,'' has a confidence of 1.0\n...Word 'b'a'' has a confidence of 1.0\n...Word 'b'non-accelerated'' has a confidence of 1.0\n...Word 'b'filer,'' has a confidence of 1.0\n...Word 'b'a'' has a confidence of 1.0\n...Word 'b'smaller'' has a confidence of 1.0\n...Word 'b'reporting'' has a confidence of 1.0\n...Word 'b'company,'' has a confidence of 1.0\n...Word 'b'or'' has a confidence of 1.0\n...Word 'b'an'' has a confidence of 1.0\n...Word 'b'emerging'' has a confidence of 1.0\n...Word 'b'growth'' has a confidence of 1.0\n...Word 'b'company.'' has a confidence of 1.0\n...Word 'b'See'' has a confidence of 1.0\n...Word 'b'the'' has a confidence of 1.0\n...Word 'b'definitions'' has a confidence of 1.0\n...Word 'b'of'' has a confidence of 1.0\n...Word 'b'\\xe2\\x80\\x9clarge'' has a confidence of 1.0\n...Word 'b'accelerated'' has a confidence of 1.0\n...Word 'b'filer,\\xe2\\x80\\x9d'' has a confidence of 1.0\n...Word 'b'\\xe2\\x80\\x9caccelerated'' has a confidence of 1.0\n...Word 'b'filer,\\xe2\\x80\\x9d'' has a confidence of 1.0\n...Word 'b'\\xe2\\x80\\x9csmaller'' has a confidence of 1.0\n...Word 'b'reporting'' has a confidence of 1.0\n...Word 'b'company,\\xe2\\x80\\x9d'' has a confidence of 1.0\n...Word 'b'and'' has a confidence of 1.0\n...Word 'b'\\xe2\\x80\\x9cemerging'' has a confidence of 1.0\n...Word 'b'growth'' has a confidence of 1.0\n...Word 'b'company\\xe2\\x80\\x9d'' has a confidence of 1.0\n...Word 'b'in'' has a confidence of 1.0\n...Word 'b'Rule'' has a confidence of 1.0\n...Word 'b'12b-2'' has a confidence of 1.0\n...Word 'b'of'' has a confidence of 1.0\n...Word 'b'the'' has a confidence of 1.0\n...Word 'b'Exchange'' has a confidence of 1.0\n...Word 'b'Act.'' has a confidence of 1.0\n...Word 'b'Large'' has a confidence of 1.0\n...Word 'b'accelerated'' has a confidence of 1.0\n...Word 'b'filer'' has a confidence of 1.0\n...Word 'b'\\xe2\\x98\\x92'' has a confidence of 1.0\n...Word 'b'Non-accelerated'' has a confidence of 1.0\n...Word 'b'filer'' has a confidence of 1.0\n...Word 'b'\\xe2\\x98\\x90'' has a confidence of 1.0\n...Word 'b'Accelerated'' has a confidence of 1.0\n...Word 'b'filer'' has a confidence of 1.0\n...Word 'b'\\xe2\\x98\\x90'' has a confidence of 1.0\n...Word 'b'Smaller'' has a confidence of 1.0\n...Word 'b'reporting'' has a confidence of 1.0\n...Word 'b'company'' has a confidence of 1.0\n...Word 'b'\\xe2\\x98\\x90'' has a confidence of 1.0\n...Word 'b'Emerging'' has a confidence of 1.0\n...Word 'b'growth'' has a confidence of 1.0\n...Word 'b'company'' has a confidence of 1.0\n...Word 'b'\\xe2\\x98\\x90'' has a confidence of 1.0\n...Word 'b'If'' has a confidence of 1.0\n...Word 'b'an'' has a confidence of 1.0\n...Word 'b'emerging'' has a confidence of 1.0\n...Word 'b'growth'' has a confidence of 1.0\n...Word 'b'company,'' has a confidence of 1.0\n...Word 'b'indicate'' has a confidence of 1.0\n...Word 'b'by'' has a confidence of 1.0\n...Word 'b'check'' has a confidence of 1.0\n...Word 'b'mark'' has a confidence of 1.0\n...Word 'b'if'' has a confidence of 1.0\n...Word 'b'the'' has a confidence of 1.0\n...Word 'b'registrant'' has a confidence of 1.0\n...Word 'b'has'' has a confidence of 1.0\n...Word 'b'elected'' has a confidence of 1.0\n...Word 'b'not'' has a confidence of 1.0\n...Word 'b'to'' has a confidence of 1.0\n...Word 'b'use'' has a confidence of 1.0\n...Word 'b'the'' has a confidence of 1.0\n...Word 'b'extended'' has a confidence of 1.0\n...Word 'b'transition'' has a confidence of 1.0\n...Word 'b'period'' has a confidence of 1.0\n...Word 'b'for'' has a confidence of 1.0\n...Word 'b'complying'' has a confidence of 1.0\n...Word 'b'with'' has a confidence of 1.0\n...Word 'b'any'' has a confidence of 1.0\n...Word 'b'new'' has a confidence of 1.0\n...Word 'b'or'' has a confidence of 1.0\n...Word 'b'revised'' has a confidence of 1.0\n...Word 'b'financial'' has a confidence of 1.0\n...Word 'b'accounting'' has a confidence of 1.0\n...Word 'b'standards'' has a confidence of 1.0\n...Word 'b'provided'' has a confidence of 1.0\n...Word 'b'pursuant'' has a confidence of 1.0\n...Word 'b'to'' has a confidence of 1.0\n...Word 'b'Section'' has a confidence of 1.0\n...Word 'b'13(a)'' has a confidence of 1.0\n...Word 'b'of'' has a confidence of 1.0\n...Word 'b'the'' has a confidence of 1.0\n...Word 'b'Exchange'' has a confidence of 1.0\n...Word 'b'Act.'' has a confidence of 1.0\n...Word 'b'\\xe2\\x98\\x90'' has a confidence of 1.0\n...Word 'b'Indicate'' has a confidence of 1.0\n...Word 'b'by'' has a confidence of 1.0\n...Word 'b'check'' has a confidence of 1.0\n...Word 'b'mark'' has a confidence of 1.0\n...Word 'b'whether'' has a confidence of 1.0\n...Word 'b'the'' has a confidence of 1.0\n...Word 'b'registrant'' has a confidence of 1.0\n...Word 'b'is'' has a confidence of 1.0\n...Word 'b'a'' has a confidence of 1.0\n...Word 'b'shell'' has a confidence of 1.0\n...Word 'b'company'' has a confidence of 1.0\n...Word 'b'(as'' has a confidence of 1.0\n...Word 'b'defined'' has a confidence of 1.0\n...Word 'b'in'' has a confidence of 1.0\n...Word 'b'Rule'' has a confidence of 1.0\n...Word 'b'12b-2'' has a confidence of 1.0\n...Word 'b'of'' has a confidence of 1.0\n...Word 'b'the'' has a confidence of 1.0\n...Word 'b'Exchange'' has a confidence of 1.0\n...Word 'b'Act).'' has a confidence of 1.0\n...Word 'b'Yes'' has a confidence of 1.0\n...Word 'b'\\xe2\\x98\\x90'' has a confidence of 1.0\n...Word 'b'No'' has a confidence of 1.0\n...Word 'b'\\xe2\\x98\\x92'' has a confidence of 1.0\n...Word 'b'Indicate'' has a confidence of 1.0\n...Word 'b'the'' has a confidence of 1.0\n...Word 'b'number'' has a confidence of 1.0\n...Word 'b'of'' has a confidence of 1.0\n...Word 'b'shares'' has a confidence of 1.0\n...Word 'b'outstanding'' has a confidence of 1.0\n...Word 'b'of'' has a confidence of 1.0\n...Word 'b'each'' has a confidence of 1.0\n...Word 'b'of'' has a confidence of 1.0\n...Word 'b'the'' has a confidence of 1.0\n...Word 'b'issuer\\xe2\\x80\\x99s'' has a confidence of 1.0\n...Word 'b'classes'' has a confidence of 1.0\n...Word 'b'of'' has a confidence of 1.0\n...Word 'b'common'' has a confidence of 1.0\n...Word 'b'stock,'' has a confidence of 1.0\n...Word 'b'as'' has a confidence of 1.0\n...Word 'b'of'' has a confidence of 1.0\n...Word 'b'the'' has a confidence of 1.0\n...Word 'b'latest'' has a confidence of 1.0\n...Word 'b'practicable'' has a confidence of 1.0\n...Word 'b'date.'' has a confidence of 1.0\n...Word 'b'Class'' has a confidence of 1.0\n...Word 'b'Outstanding'' has a confidence of 1.0\n...Word 'b'as'' has a confidence of 1.0\n...Word 'b'of'' has a confidence of 1.0\n...Word 'b'April'' has a confidence of 1.0\n...Word 'b'24,'' has a confidence of 1.0\n...Word 'b'2020'' has a confidence of 1.0\n...Word 'b'Common'' has a confidence of 1.0\n...Word 'b'Stock,'' has a confidence of 1.0\n...Word 'b'$0.00000625'' has a confidence of 1.0\n...Word 'b'par'' has a confidence of 1.0\n...Word 'b'value'' has a confidence of 1.0\n...Word 'b'per'' has a confidence of 1.0\n...Word 'b'share'' has a confidence of 1.0\n...Word 'b'7,583,440,247'' has a confidence of 1.0\n...Word 'b'shares'' has a confidence of 1.0\n...Selection mark is 'selected' and has a confidence of 1.0\n...Selection mark is 'unselected' and has a confidence of 1.0\n...Selection mark is 'unselected' and has a confidence of 0.223\n...Selection mark is 'selected' and has a confidence of 1.0\n...Selection mark is 'unselected' and has a confidence of 1.0\n...Selection mark is 'selected' and has a confidence of 1.0\n...Selection mark is 'unselected' and has a confidence of 1.0\n...Selection mark is 'selected' and has a confidence of 1.0\n...Selection mark is 'unselected' and has a confidence of 1.0\n...Selection mark is 'unselected' and has a confidence of 1.0\n...Selection mark is 'unselected' and has a confidence of 1.0\n...Selection mark is 'unselected' and has a confidence of 1.0\n...Selection mark is 'unselected' and has a confidence of 1.0\n...Selection mark is 'unselected' and has a confidence of 1.0\n...Selection mark is 'selected' and has a confidence of 1.0\n\nTable 1 can be found on page:\n...1\n...Cell[0][0] has content 'b'Title of each class''\n...Cell[0][1] has content 'b'Trading Symbol''\n...Cell[0][2] has content 'b'Name of exchange on which registered''\n...Cell[1][0] has content 'b'Common stock, $0.00000625 par value per share''\n...Cell[1][1] has content 'b'MSFT''\n...Cell[1][2] has content 'b'NASDAQ''\n...Cell[2][0] has content 'b'2.125% Notes due 2021''\n...Cell[2][1] has content 'b'MSFT''\n...Cell[2][2] has content 'b'NASDAQ''\n...Cell[3][0] has content 'b'3.125% Notes due 2028''\n...Cell[3][1] has content 'b'MSFT''\n...Cell[3][2] has content 'b'NASDAQ''\n...Cell[4][0] has content 'b'2.625% Notes due 2033''\n...Cell[4][1] has content 'b'MSFT''\n...Cell[4][2] has content 'b'NASDAQ :unselected:''\n\nTable 2 can be found on page:\n...2\n...Cell[0][0] has content 'b'Class''\n...Cell[0][1] has content 'b'Outstanding as of April 24, 2020''\n...Cell[1][0] has content 'b'Common Stock, $0.00000625 par value per share''\n...Cell[1][1] has content 'b'7,583,440,247 shares''\n-----------------------------------\n"
        }
      ],
      "execution_count": 3,
      "metadata": {
        "gather": {
          "logged": 1643152728347
        },
        "jupyter": {
          "outputs_hidden": false,
          "source_hidden": false
        },
        "nteract": {
          "transient": {
            "deleting": false
          }
        }
      }
    }
  ],
  "metadata": {
    "kernel_info": {
      "name": "python3-azureml"
    },
    "kernelspec": {
      "display_name": "Python 3.6 - AzureML",
      "language": "python",
      "name": "python3-azureml"
    },
    "language_info": {
      "codemirror_mode": {
        "name": "ipython",
        "version": 3
      },
      "file_extension": ".py",
      "mimetype": "text/x-python",
      "name": "python",
      "nbconvert_exporter": "python",
      "pygments_lexer": "ipython3",
      "version": "3.6.9"
    },
    "microsoft": {
      "host": {
        "AzureML": {
          "notebookHasBeenCompleted": true
        }
      }
    },
    "nteract": {
      "version": "nteract-front-end@1.0.0"
    }
  },
  "nbformat": 4,
  "nbformat_minor": 2
}