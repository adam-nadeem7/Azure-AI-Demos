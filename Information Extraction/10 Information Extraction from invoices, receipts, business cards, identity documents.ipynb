{
  "cells": [
    {
      "cell_type": "markdown",
      "source": [
        "****Important – Do not use in production, for demonstration purposes only – please review the legal notices before continuing****"
      ],
      "metadata": {
        "nteract": {
          "transient": {
            "deleting": false
          }
        }
      }
    },
    {
      "cell_type": "markdown",
      "source": [
        "# Azure Form Recognizer\n",
        "\n",
        "Azure Form Recognizer uses machine learning to extract data from forms. This notebook will extract data from a receipt, an ID card, and an invoice, similar of the ones used in retail stores."
      ],
      "metadata": {
        "nteract": {
          "transient": {
            "deleting": false
          }
        }
      }
    },
    {
      "cell_type": "markdown",
      "source": [
        "### Receipts"
      ],
      "metadata": {
        "nteract": {
          "transient": {
            "deleting": false
          }
        }
      }
    },
    {
      "cell_type": "code",
      "source": [
        "\"\"\"\n",
        "This code sample shows Prebuilt Receipt operations with the Azure Form Recognizer client library. \n",
        "The async versions of the samples require Python 3.6 or later.\n",
        "\n",
        "To learn more, please visit the documentation - Quickstart: Form Recognizer Python client library SDKs v3.0\n",
        "https://docs.microsoft.com/en-us/azure/applied-ai-services/form-recognizer/quickstarts/try-v3-python-sdk\n",
        "\"\"\"\n",
        "\n",
        "from azure.core.credentials import AzureKeyCredential\n",
        "from azure.ai.formrecognizer import DocumentAnalysisClient\n",
        "import GlobalVariables as gv\n",
        "\n",
        "endpoint = gv.FORM_RECOGNIZER_ENDPOINT\n",
        "key = gv.FORM_RECOGNIZER_KEY\n",
        "\n",
        "url = \"https://raw.githubusercontent.com/Azure/azure-sdk-for-python/main/sdk/formrecognizer/azure-ai-formrecognizer/tests/sample_forms/receipt/contoso-receipt.png\"\n",
        "\n",
        "document_analysis_client = DocumentAnalysisClient(\n",
        "    endpoint=endpoint, credential=AzureKeyCredential(key)\n",
        ")\n",
        "\n",
        "poller = document_analysis_client.begin_analyze_document_from_url(\"prebuilt-receipt\", url)\n",
        "receipts = poller.result()\n",
        "\n",
        "for idx, receipt in enumerate(receipts.documents):\n",
        "    print(\"--------Recognizing receipt #{}--------\".format(idx + 1))\n",
        "    receipt_type = receipt.fields.get(\"ReceiptType\")\n",
        "    if receipt_type:\n",
        "        print(\n",
        "            \"Receipt Type: {} has confidence: {}\".format(\n",
        "                receipt_type.value, receipt_type.confidence\n",
        "            )\n",
        "        )\n",
        "    merchant_name = receipt.fields.get(\"MerchantName\")\n",
        "    if merchant_name:\n",
        "        print(\n",
        "            \"Merchant Name: {} has confidence: {}\".format(\n",
        "                merchant_name.value, merchant_name.confidence\n",
        "            )\n",
        "        )\n",
        "    transaction_date = receipt.fields.get(\"TransactionDate\")\n",
        "    if transaction_date:\n",
        "        print(\n",
        "            \"Transaction Date: {} has confidence: {}\".format(\n",
        "                transaction_date.value, transaction_date.confidence\n",
        "            )\n",
        "        )\n",
        "    if receipt.fields.get(\"Items\"):\n",
        "        print(\"Receipt items:\")\n",
        "        for idx, item in enumerate(receipt.fields.get(\"Items\").value):\n",
        "            print(\"...Item #{}\".format(idx + 1))\n",
        "            item_name = item.value.get(\"Name\")\n",
        "            if item_name:\n",
        "                print(\n",
        "                    \"......Item Name: {} has confidence: {}\".format(\n",
        "                        item_name.value, item_name.confidence\n",
        "                    )\n",
        "                )\n",
        "            item_quantity = item.value.get(\"Quantity\")\n",
        "            if item_quantity:\n",
        "                print(\n",
        "                    \"......Item Quantity: {} has confidence: {}\".format(\n",
        "                        item_quantity.value, item_quantity.confidence\n",
        "                    )\n",
        "                )\n",
        "            item_price = item.value.get(\"Price\")\n",
        "            if item_price:\n",
        "                print(\n",
        "                    \"......Individual Item Price: {} has confidence: {}\".format(\n",
        "                        item_price.value, item_price.confidence\n",
        "                    )\n",
        "                )\n",
        "            item_total_price = item.value.get(\"TotalPrice\")\n",
        "            if item_total_price:\n",
        "                print(\n",
        "                    \"......Total Item Price: {} has confidence: {}\".format(\n",
        "                        item_total_price.value, item_total_price.confidence\n",
        "                    )\n",
        "                )\n",
        "    subtotal = receipt.fields.get(\"Subtotal\")\n",
        "    if subtotal:\n",
        "        print(\n",
        "            \"Subtotal: {} has confidence: {}\".format(\n",
        "                subtotal.value, subtotal.confidence\n",
        "            )\n",
        "        )\n",
        "    tax = receipt.fields.get(\"Tax\")\n",
        "    if tax:\n",
        "        print(\"Tax: {} has confidence: {}\".format(tax.value, tax.confidence))\n",
        "    tip = receipt.fields.get(\"Tip\")\n",
        "    if tip:\n",
        "        print(\"Tip: {} has confidence: {}\".format(tip.value, tip.confidence))\n",
        "    total = receipt.fields.get(\"Total\")\n",
        "    if total:\n",
        "        print(\"Total: {} has confidence: {}\".format(total.value, total.confidence))\n",
        "    print(\"--------------------------------------\")\n"
      ],
      "outputs": [
        {
          "output_type": "stream",
          "name": "stdout",
          "text": "--------Recognizing receipt #1--------\nMerchant Name: Contoso has confidence: 0.948\nTransaction Date: 2019-06-10 has confidence: 0.99\nReceipt items:\n...Item #1\n......Item Quantity: 1.0 has confidence: 0.96\n......Total Item Price: 999.0 has confidence: 0.985\n...Item #2\n......Item Quantity: 1.0 has confidence: 0.959\n......Total Item Price: 99.99 has confidence: 0.984\nSubtotal: 1098.99 has confidence: 0.987\nTotal: 1203.39 has confidence: 0.984\n--------------------------------------\n"
        }
      ],
      "execution_count": 2,
      "metadata": {
        "gather": {
          "logged": 1645733943720
        }
      }
    },
    {
      "cell_type": "markdown",
      "source": [
        "### Invoices"
      ],
      "metadata": {
        "nteract": {
          "transient": {
            "deleting": false
          }
        }
      }
    },
    {
      "cell_type": "code",
      "source": [
        "\n",
        "\n",
        "formUrl = \"https://raw.githubusercontent.com/Azure-Samples/cognitive-services-REST-api-samples/master/curl/form-recognizer/invoice_sample.jpg\"\n",
        "\n",
        "document_analysis_client = DocumentAnalysisClient(\n",
        "    endpoint=endpoint, credential=AzureKeyCredential(key)\n",
        ")\n",
        "    \n",
        "poller = document_analysis_client.begin_analyze_document_from_url(\"prebuilt-invoice\", formUrl)\n",
        "invoices = poller.result()\n",
        "\n",
        "for idx, invoice in enumerate(invoices.documents):\n",
        "    print(\"--------Recognizing invoice #{}--------\".format(idx + 1))\n",
        "    vendor_name = invoice.fields.get(\"VendorName\")\n",
        "    if vendor_name:\n",
        "        print(\n",
        "            \"Vendor Name: {} has confidence: {}\".format(\n",
        "                vendor_name.value, vendor_name.confidence\n",
        "            )\n",
        "        )\n",
        "    vendor_address = invoice.fields.get(\"VendorAddress\")\n",
        "    if vendor_address:\n",
        "        print(\n",
        "            \"Vendor Address: {} has confidence: {}\".format(\n",
        "                vendor_address.value, vendor_address.confidence\n",
        "            )\n",
        "        )\n",
        "    vendor_address_recipient = invoice.fields.get(\"VendorAddressRecipient\")\n",
        "    if vendor_address_recipient:\n",
        "        print(\n",
        "            \"Vendor Address Recipient: {} has confidence: {}\".format(\n",
        "                vendor_address_recipient.value, vendor_address_recipient.confidence\n",
        "            )\n",
        "        )\n",
        "    customer_name = invoice.fields.get(\"CustomerName\")\n",
        "    if customer_name:\n",
        "        print(\n",
        "            \"Customer Name: {} has confidence: {}\".format(\n",
        "                customer_name.value, customer_name.confidence\n",
        "            )\n",
        "        )\n",
        "    customer_id = invoice.fields.get(\"CustomerId\")\n",
        "    if customer_id:\n",
        "        print(\n",
        "            \"Customer Id: {} has confidence: {}\".format(\n",
        "                customer_id.value, customer_id.confidence\n",
        "            )\n",
        "        )\n",
        "    customer_address = invoice.fields.get(\"CustomerAddress\")\n",
        "    if customer_address:\n",
        "        print(\n",
        "            \"Customer Address: {} has confidence: {}\".format(\n",
        "                customer_address.value, customer_address.confidence\n",
        "            )\n",
        "        )\n",
        "    customer_address_recipient = invoice.fields.get(\"CustomerAddressRecipient\")\n",
        "    if customer_address_recipient:\n",
        "        print(\n",
        "            \"Customer Address Recipient: {} has confidence: {}\".format(\n",
        "                customer_address_recipient.value,\n",
        "                customer_address_recipient.confidence,\n",
        "            )\n",
        "        )\n",
        "    invoice_id = invoice.fields.get(\"InvoiceId\")\n",
        "    if invoice_id:\n",
        "        print(\n",
        "            \"Invoice Id: {} has confidence: {}\".format(\n",
        "                invoice_id.value, invoice_id.confidence\n",
        "            )\n",
        "        )\n",
        "    invoice_date = invoice.fields.get(\"InvoiceDate\")\n",
        "    if invoice_date:\n",
        "        print(\n",
        "            \"Invoice Date: {} has confidence: {}\".format(\n",
        "                invoice_date.value, invoice_date.confidence\n",
        "            )\n",
        "        )\n",
        "    invoice_total = invoice.fields.get(\"InvoiceTotal\")\n",
        "    if invoice_total:\n",
        "        print(\n",
        "            \"Invoice Total: {} has confidence: {}\".format(\n",
        "                invoice_total.value, invoice_total.confidence\n",
        "            )\n",
        "        )\n",
        "    due_date = invoice.fields.get(\"DueDate\")\n",
        "    if due_date:\n",
        "        print(\n",
        "            \"Due Date: {} has confidence: {}\".format(\n",
        "                due_date.value, due_date.confidence\n",
        "            )\n",
        "        )\n",
        "    purchase_order = invoice.fields.get(\"PurchaseOrder\")\n",
        "    if purchase_order:\n",
        "        print(\n",
        "            \"Purchase Order: {} has confidence: {}\".format(\n",
        "                purchase_order.value, purchase_order.confidence\n",
        "            )\n",
        "        )\n",
        "    billing_address = invoice.fields.get(\"BillingAddress\")\n",
        "    if billing_address:\n",
        "        print(\n",
        "            \"Billing Address: {} has confidence: {}\".format(\n",
        "                billing_address.value, billing_address.confidence\n",
        "            )\n",
        "        )\n",
        "    billing_address_recipient = invoice.fields.get(\"BillingAddressRecipient\")\n",
        "    if billing_address_recipient:\n",
        "        print(\n",
        "            \"Billing Address Recipient: {} has confidence: {}\".format(\n",
        "                billing_address_recipient.value,\n",
        "                billing_address_recipient.confidence,\n",
        "            )\n",
        "        )\n",
        "    shipping_address = invoice.fields.get(\"ShippingAddress\")\n",
        "    if shipping_address:\n",
        "        print(\n",
        "            \"Shipping Address: {} has confidence: {}\".format(\n",
        "                shipping_address.value, shipping_address.confidence\n",
        "            )\n",
        "        )\n",
        "    shipping_address_recipient = invoice.fields.get(\"ShippingAddressRecipient\")\n",
        "    if shipping_address_recipient:\n",
        "        print(\n",
        "            \"Shipping Address Recipient: {} has confidence: {}\".format(\n",
        "                shipping_address_recipient.value,\n",
        "                shipping_address_recipient.confidence,\n",
        "            )\n",
        "        )\n",
        "    print(\"Invoice items:\")\n",
        "    for idx, item in enumerate(invoice.fields.get(\"Items\").value):\n",
        "        print(\"...Item #{}\".format(idx + 1))\n",
        "        item_description = item.value.get(\"Description\")\n",
        "        if item_description:\n",
        "            print(\n",
        "                \"......Description: {} has confidence: {}\".format(\n",
        "                    item_description.value, item_description.confidence\n",
        "                )\n",
        "            )\n",
        "        item_quantity = item.value.get(\"Quantity\")\n",
        "        if item_quantity:\n",
        "            print(\n",
        "                \"......Quantity: {} has confidence: {}\".format(\n",
        "                    item_quantity.value, item_quantity.confidence\n",
        "                )\n",
        "            )\n",
        "        unit = item.value.get(\"Unit\")\n",
        "        if unit:\n",
        "            print(\n",
        "                \"......Unit: {} has confidence: {}\".format(\n",
        "                    unit.value, unit.confidence\n",
        "                )\n",
        "            )\n",
        "        unit_price = item.value.get(\"UnitPrice\")\n",
        "        if unit_price:\n",
        "            print(\n",
        "                \"......Unit Price: {} has confidence: {}\".format(\n",
        "                    unit_price.value, unit_price.confidence\n",
        "                )\n",
        "            )\n",
        "        product_code = item.value.get(\"ProductCode\")\n",
        "        if product_code:\n",
        "            print(\n",
        "                \"......Product Code: {} has confidence: {}\".format(\n",
        "                    product_code.value, product_code.confidence\n",
        "                )\n",
        "            )\n",
        "        item_date = item.value.get(\"Date\")\n",
        "        if item_date:\n",
        "            print(\n",
        "                \"......Date: {} has confidence: {}\".format(\n",
        "                    item_date.value, item_date.confidence\n",
        "                )\n",
        "            )\n",
        "        tax = item.value.get(\"Tax\")\n",
        "        if tax:\n",
        "            print(\n",
        "                \"......Tax: {} has confidence: {}\".format(tax.value, tax.confidence)\n",
        "            )\n",
        "        amount = item.value.get(\"Amount\")\n",
        "        if amount:\n",
        "            print(\n",
        "                \"......Amount: {} has confidence: {}\".format(\n",
        "                    amount.value, amount.confidence\n",
        "                )\n",
        "            )\n",
        "    subtotal = invoice.fields.get(\"SubTotal\")\n",
        "    if subtotal:\n",
        "        print(\n",
        "            \"Subtotal: {} has confidence: {}\".format(\n",
        "                subtotal.value, subtotal.confidence\n",
        "            )\n",
        "        )\n",
        "    total_tax = invoice.fields.get(\"TotalTax\")\n",
        "    if total_tax:\n",
        "        print(\n",
        "            \"Total Tax: {} has confidence: {}\".format(\n",
        "                total_tax.value, total_tax.confidence\n",
        "            )\n",
        "        )\n",
        "    previous_unpaid_balance = invoice.fields.get(\"PreviousUnpaidBalance\")\n",
        "    if previous_unpaid_balance:\n",
        "        print(\n",
        "            \"Previous Unpaid Balance: {} has confidence: {}\".format(\n",
        "                previous_unpaid_balance.value, previous_unpaid_balance.confidence\n",
        "            )\n",
        "        )\n",
        "    amount_due = invoice.fields.get(\"AmountDue\")\n",
        "    if amount_due:\n",
        "        print(\n",
        "            \"Amount Due: {} has confidence: {}\".format(\n",
        "                amount_due.value, amount_due.confidence\n",
        "            )\n",
        "        )\n",
        "    service_start_date = invoice.fields.get(\"ServiceStartDate\")\n",
        "    if service_start_date:\n",
        "        print(\n",
        "            \"Service Start Date: {} has confidence: {}\".format(\n",
        "                service_start_date.value, service_start_date.confidence\n",
        "            )\n",
        "        )\n",
        "    service_end_date = invoice.fields.get(\"ServiceEndDate\")\n",
        "    if service_end_date:\n",
        "        print(\n",
        "            \"Service End Date: {} has confidence: {}\".format(\n",
        "                service_end_date.value, service_end_date.confidence\n",
        "            )\n",
        "        )\n",
        "    service_address = invoice.fields.get(\"ServiceAddress\")\n",
        "    if service_address:\n",
        "        print(\n",
        "            \"Service Address: {} has confidence: {}\".format(\n",
        "                service_address.value, service_address.confidence\n",
        "            )\n",
        "        )\n",
        "    service_address_recipient = invoice.fields.get(\"ServiceAddressRecipient\")\n",
        "    if service_address_recipient:\n",
        "        print(\n",
        "            \"Service Address Recipient: {} has confidence: {}\".format(\n",
        "                service_address_recipient.value,\n",
        "                service_address_recipient.confidence,\n",
        "            )\n",
        "        )\n",
        "    remittance_address = invoice.fields.get(\"RemittanceAddress\")\n",
        "    if remittance_address:\n",
        "        print(\n",
        "            \"Remittance Address: {} has confidence: {}\".format(\n",
        "                remittance_address.value, remittance_address.confidence\n",
        "            )\n",
        "        )\n",
        "    remittance_address_recipient = invoice.fields.get(\"RemittanceAddressRecipient\")\n",
        "    if remittance_address_recipient:\n",
        "        print(\n",
        "            \"Remittance Address Recipient: {} has confidence: {}\".format(\n",
        "                remittance_address_recipient.value,\n",
        "                remittance_address_recipient.confidence,\n",
        "            )\n",
        "        )\n",
        "    print(\"----------------------------------------\")\n"
      ],
      "outputs": [
        {
          "output_type": "stream",
          "name": "stdout",
          "text": "--------Recognizing invoice #1--------\nVendor Name: CONTOSO LTD. has confidence: 0.913\nVendor Address: 123 456th St New York, NY, 10001 has confidence: 0.895\nVendor Address Recipient: Contoso Headquarters has confidence: 0.907\nCustomer Name: MICROSOFT CORPORATION has confidence: 0.855\nCustomer Id: CID-12345 has confidence: 0.967\nCustomer Address: 123 Other St, Redmond WA, 98052 has confidence: 0.898\nCustomer Address Recipient: Microsoft Corp has confidence: 0.907\nInvoice Id: INV-100 has confidence: 0.97\nInvoice Date: 2019-11-15 has confidence: 0.97\nInvoice Total: CurrencyValue(amount=110.0, symbol=$) has confidence: 0.97\nDue Date: 2019-12-15 has confidence: 0.973\nPurchase Order: PO-3333 has confidence: 0.956\nBilling Address: 123 Bill St, Redmond WA, 98052 has confidence: 0.906\nBilling Address Recipient: Microsoft Finance has confidence: 0.913\nShipping Address: 123 Ship St, Redmond WA, 98052 has confidence: 0.906\nShipping Address Recipient: Microsoft Delivery has confidence: 0.908\nInvoice items:\n...Item #1\n......Description: Consulting service has confidence: 0.955\n......Quantity: 1.0 has confidence: 0.961\n......Unit Price: CurrencyValue(amount=1.0, symbol=None) has confidence: 0.302\n......Amount: CurrencyValue(amount=100.0, symbol=$) has confidence: 0.984\nSubtotal: CurrencyValue(amount=100.0, symbol=$) has confidence: 0.973\nTotal Tax: CurrencyValue(amount=10.0, symbol=$) has confidence: 0.973\nPrevious Unpaid Balance: CurrencyValue(amount=500.0, symbol=$) has confidence: 0.97\nAmount Due: CurrencyValue(amount=610.0, symbol=$) has confidence: 0.678\nService Start Date: 2019-10-14 has confidence: 0.972\nService End Date: 2019-11-14 has confidence: 0.973\nService Address: 123 Service St, Redmond WA, 98052 has confidence: 0.905\nService Address Recipient: Microsoft Services has confidence: 0.907\nRemittance Address: 123 Remit St New York, NY, 10001 has confidence: 0.906\nRemittance Address Recipient: Contoso Billing has confidence: 0.912\n----------------------------------------\n"
        }
      ],
      "execution_count": 3,
      "metadata": {
        "gather": {
          "logged": 1645733950898
        },
        "jupyter": {
          "outputs_hidden": false,
          "source_hidden": false
        },
        "nteract": {
          "transient": {
            "deleting": false
          }
        }
      }
    },
    {
      "cell_type": "markdown",
      "source": [
        "![Form Recognizer](https://stretaildemodev.blob.core.windows.net/notebookimages/BC.jpg)"
      ],
      "metadata": {
        "nteract": {
          "transient": {
            "deleting": false
          }
        }
      }
    },
    {
      "cell_type": "markdown",
      "source": [
        "### Business Card"
      ],
      "metadata": {
        "nteract": {
          "transient": {
            "deleting": false
          }
        }
      }
    },
    {
      "cell_type": "code",
      "source": [
        "\n",
        "\n",
        "formUrl = \"https://raw.githubusercontent.com/Azure-Samples/cognitive-services-REST-api-samples/master/curl/form-recognizer/business-card-english.jpg\"\n",
        "\n",
        "document_analysis_client = DocumentAnalysisClient(\n",
        "    endpoint=endpoint, credential=AzureKeyCredential(key)\n",
        ")\n",
        "\n",
        "poller = document_analysis_client.begin_analyze_document_from_url(\"prebuilt-businessCard\", formUrl)\n",
        "business_cards = poller.result()\n",
        "\n",
        "for idx, business_card in enumerate(business_cards.documents):\n",
        "    print(\"--------Analyzing business card #{}--------\".format(idx + 1))\n",
        "    contact_names = business_card.fields.get(\"ContactNames\")\n",
        "    if contact_names:\n",
        "        for contact_name in contact_names.value:\n",
        "            print(\n",
        "                \"Contact First Name: {} has confidence: {}\".format(\n",
        "                    contact_name.value[\"FirstName\"].value,\n",
        "                    contact_name.value[\n",
        "                        \"FirstName\"\n",
        "                    ].confidence,\n",
        "                )\n",
        "            )\n",
        "            print(\n",
        "                \"Contact Last Name: {} has confidence: {}\".format(\n",
        "                    contact_name.value[\"LastName\"].value,\n",
        "                    contact_name.value[\n",
        "                        \"LastName\"\n",
        "                    ].confidence,\n",
        "                )\n",
        "            )\n",
        "    company_names = business_card.fields.get(\"CompanyNames\")\n",
        "    if company_names:\n",
        "        for company_name in company_names.value:\n",
        "            print(\n",
        "                \"Company Name: {} has confidence: {}\".format(\n",
        "                    company_name.value, company_name.confidence\n",
        "                )\n",
        "            )\n",
        "    departments = business_card.fields.get(\"Departments\")\n",
        "    if departments:\n",
        "        for department in departments.value:\n",
        "            print(\n",
        "                \"Department: {} has confidence: {}\".format(\n",
        "                    department.value, department.confidence\n",
        "                )\n",
        "            )\n",
        "    job_titles = business_card.fields.get(\"JobTitles\")\n",
        "    if job_titles:\n",
        "        for job_title in job_titles.value:\n",
        "            print(\n",
        "                \"Job Title: {} has confidence: {}\".format(\n",
        "                    job_title.value, job_title.confidence\n",
        "                )\n",
        "            )\n",
        "    emails = business_card.fields.get(\"Emails\")\n",
        "    if emails:\n",
        "        for email in emails.value:\n",
        "            print(\n",
        "                \"Email: {} has confidence: {}\".format(email.value, email.confidence)\n",
        "            )\n",
        "    websites = business_card.fields.get(\"Websites\")\n",
        "    if websites:\n",
        "        for website in websites.value:\n",
        "            print(\n",
        "                \"Website: {} has confidence: {}\".format(\n",
        "                    website.value, website.confidence\n",
        "                )\n",
        "            )\n",
        "    addresses = business_card.fields.get(\"Addresses\")\n",
        "    if addresses:\n",
        "        for address in addresses.value:\n",
        "            print(\n",
        "                \"Address: {} has confidence: {}\".format(\n",
        "                    address.value, address.confidence\n",
        "                )\n",
        "            )\n",
        "    mobile_phones = business_card.fields.get(\"MobilePhones\")\n",
        "    if mobile_phones:\n",
        "        for phone in mobile_phones.value:\n",
        "            print(\n",
        "                \"Mobile phone number: {} has confidence: {}\".format(\n",
        "                    phone.content, phone.confidence\n",
        "                )\n",
        "            )\n",
        "    faxes = business_card.fields.get(\"Faxes\")\n",
        "    if faxes:\n",
        "        for fax in faxes.value:\n",
        "            print(\n",
        "                \"Fax number: {} has confidence: {}\".format(\n",
        "                    fax.content, fax.confidence\n",
        "                )\n",
        "            )\n",
        "    work_phones = business_card.fields.get(\"WorkPhones\")\n",
        "    if work_phones:\n",
        "        for work_phone in work_phones.value:\n",
        "            print(\n",
        "                \"Work phone number: {} has confidence: {}\".format(\n",
        "                    work_phone.content, work_phone.confidence\n",
        "                )\n",
        "            )\n",
        "    other_phones = business_card.fields.get(\"OtherPhones\")\n",
        "    if other_phones:\n",
        "        for other_phone in other_phones.value:\n",
        "            print(\n",
        "                \"Other phone number: {} has confidence: {}\".format(\n",
        "                    other_phone.value, other_phone.confidence\n",
        "                )\n",
        "            )\n",
        "    print(\"----------------------------------------\")\n"
      ],
      "outputs": [
        {
          "output_type": "stream",
          "name": "stdout",
          "text": "--------Analyzing business card #1--------\nContact First Name: Avery has confidence: 0.979\nContact Last Name: Smith has confidence: 0.984\nCompany Name: Contoso has confidence: 0.95\nDepartment: Cloud & Al Department has confidence: 0.858\nJob Title: Senior Researcher has confidence: 0.979\nEmail: avery.smith@contoso.com has confidence: 0.968\nWebsite: https://www.contoso.com/ has confidence: 0.977\nAddress: 2 Kingdom Street Paddington, London, W2 6BD has confidence: 0.958\nMobile phone number: +44 (0) 7911 123456 has confidence: 0.984\nFax number: +44 (0) 20 6789 2345 has confidence: 0.986\nWork phone number: +44 (0) 20 9876 5432 has confidence: 0.971\n----------------------------------------\n"
        }
      ],
      "execution_count": 4,
      "metadata": {
        "gather": {
          "logged": 1645733957059
        },
        "jupyter": {
          "outputs_hidden": false,
          "source_hidden": false
        },
        "nteract": {
          "transient": {
            "deleting": false
          }
        }
      }
    },
    {
      "cell_type": "markdown",
      "source": [
        "### Identify Documents"
      ],
      "metadata": {
        "nteract": {
          "transient": {
            "deleting": false
          }
        }
      }
    },
    {
      "cell_type": "code",
      "source": [
        "\n",
        "\n",
        "formUrl = \"https://raw.githubusercontent.com/Azure-Samples/cognitive-services-REST-api-samples/master/curl/form-recognizer/DriverLicense.png\"\n",
        "\n",
        "document_analysis_client = DocumentAnalysisClient(\n",
        "        endpoint=endpoint, credential=AzureKeyCredential(key)\n",
        "    )\n",
        "    \n",
        "poller = document_analysis_client.begin_analyze_document_from_url(\"prebuilt-idDocument\", formUrl)\n",
        "id_documents = poller.result()\n",
        "\n",
        "for idx, id_document in enumerate(id_documents.documents):\n",
        "    print(\"--------Recognizing ID document #{}--------\".format(idx + 1))\n",
        "    first_name = id_document.fields.get(\"FirstName\")\n",
        "    if first_name:\n",
        "        print(\n",
        "            \"First Name: {} has confidence: {}\".format(\n",
        "                first_name.value, first_name.confidence\n",
        "            )\n",
        "        )\n",
        "    last_name = id_document.fields.get(\"LastName\")\n",
        "    if last_name:\n",
        "        print(\n",
        "            \"Last Name: {} has confidence: {}\".format(\n",
        "                last_name.value, last_name.confidence\n",
        "            )\n",
        "        )\n",
        "    document_number = id_document.fields.get(\"DocumentNumber\")\n",
        "    if document_number:\n",
        "        print(\n",
        "            \"Document Number: {} has confidence: {}\".format(\n",
        "                document_number.value, document_number.confidence\n",
        "            )\n",
        "        )\n",
        "    dob = id_document.fields.get(\"DateOfBirth\")\n",
        "    if dob:\n",
        "        print(\n",
        "            \"Date of Birth: {} has confidence: {}\".format(dob.value, dob.confidence)\n",
        "        )\n",
        "    doe = id_document.fields.get(\"DateOfExpiration\")\n",
        "    if doe:\n",
        "        print(\n",
        "            \"Date of Expiration: {} has confidence: {}\".format(\n",
        "                doe.value, doe.confidence\n",
        "            )\n",
        "        )\n",
        "    sex = id_document.fields.get(\"Sex\")\n",
        "    if sex:\n",
        "        print(\"Sex: {} has confidence: {}\".format(sex.value, sex.confidence))\n",
        "    address = id_document.fields.get(\"Address\")\n",
        "    if address:\n",
        "        print(\n",
        "            \"Address: {} has confidence: {}\".format(\n",
        "                address.value, address.confidence\n",
        "            )\n",
        "        )\n",
        "    country_region = id_document.fields.get(\"CountryRegion\")\n",
        "    if country_region:\n",
        "        print(\n",
        "            \"Country/Region: {} has confidence: {}\".format(\n",
        "                country_region.value, country_region.confidence\n",
        "            )\n",
        "        )\n",
        "    region = id_document.fields.get(\"Region\")\n",
        "    if region:\n",
        "        print(\n",
        "            \"Region: {} has confidence: {}\".format(region.value, region.confidence)\n",
        "        )\n"
      ],
      "outputs": [
        {
          "output_type": "stream",
          "name": "stdout",
          "text": "--------Recognizing ID document #1--------\nFirst Name: LIAM R. has confidence: 0.882\nLast Name: TALBOT has confidence: 0.892\nDocument Number: WDLABCD456DG has confidence: 0.832\nDate of Birth: 1958-01-06 has confidence: 0.851\nDate of Expiration: 2020-08-12 has confidence: 0.85\nSex: M has confidence: 0.85\nAddress: 123 STREET ADDRESS YOUR CITY WA 99999-1234 has confidence: 0.851\nCountry/Region: USA has confidence: 0.87\nRegion: Washington has confidence: 0.867\n"
        }
      ],
      "execution_count": 5,
      "metadata": {
        "gather": {
          "logged": 1645733963276
        },
        "jupyter": {
          "outputs_hidden": false,
          "source_hidden": false
        },
        "nteract": {
          "transient": {
            "deleting": false
          }
        }
      }
    }
  ],
  "metadata": {
    "kernel_info": {
      "name": "python3-azureml"
    },
    "kernelspec": {
      "display_name": "Python 3.6 - AzureML",
      "language": "python",
      "name": "python3-azureml"
    },
    "language_info": {
      "codemirror_mode": {
        "name": "ipython",
        "version": 3
      },
      "file_extension": ".py",
      "mimetype": "text/x-python",
      "name": "python",
      "nbconvert_exporter": "python",
      "pygments_lexer": "ipython3",
      "version": "3.6.9"
    },
    "microsoft": {
      "host": {
        "AzureML": {
          "notebookHasBeenCompleted": true
        }
      }
    },
    "nteract": {
      "version": "nteract-front-end@1.0.0"
    }
  },
  "nbformat": 4,
  "nbformat_minor": 2
}