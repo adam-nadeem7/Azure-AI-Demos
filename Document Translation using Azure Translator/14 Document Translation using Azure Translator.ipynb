{
  "cells": [
    {
      "cell_type": "markdown",
      "source": [
        "# Document Translation"
      ],
      "metadata": {
        "nteract": {
          "transient": {
            "deleting": false
          }
        }
      }
    },
    {
      "cell_type": "markdown",
      "source": [
        "Using requests library to translate documents stored in Azure blob storage with the use of Azure Translator service"
      ],
      "metadata": {
        "nteract": {
          "transient": {
            "deleting": false
          }
        }
      }
    },
    {
      "cell_type": "code",
      "source": [
        "import requests\n",
        "import GlobalVariables as gv\n",
        "\n",
        "endpoint = gv.TRANSLATION_ENDPOINT\n",
        "key =  gv.TRANSLATION_KEY\n",
        "path = '/batches'\n",
        "constructed_url = endpoint + path\n",
        "\n",
        "payload= {\n",
        "    \"inputs\": [\n",
        "        {\n",
        "            # Path to source document in blob storage\n",
        "            \"source\": {\n",
        "                \"sourceUrl\": gv.TRANSLATION_SOURCE\n",
        "            },\n",
        "            # Path to taarget translated document in blob storage \n",
        "            \"targets\": [\n",
        "                {\n",
        "                    \"targetUrl\": gv.TRANSLATION_TARGET,\n",
        "                    \"language\": \"es\"\n",
        "                }\n",
        "            ]\n",
        "        }\n",
        "    ]\n",
        "}\n",
        "\n",
        "headers = {\n",
        "  'Ocp-Apim-Subscription-Key': key,\n",
        "  'Content-Type': 'application/json'\n",
        "}\n",
        "\n",
        "response = requests.post(constructed_url, headers=headers, json=payload)\n",
        "\n",
        "print(f'response status code: {response.status_code}\\nresponse status: {response.reason}\\nresponse headers: {response.headers}')"
      ],
      "outputs": [
        {
          "output_type": "stream",
          "name": "stdout",
          "text": "response status code: 202\nresponse status: Accepted\nresponse headers: {'Content-Length': '0', 'Set-Cookie': 'ARRAffinity=33fbf50c6ad4c582ac8004aca68642f10adb04fe054ff8458eeabba45ade526c;Path=/;HttpOnly;Secure;Domain=mtbatch.nam.microsofttranslator.com, ARRAffinitySameSite=33fbf50c6ad4c582ac8004aca68642f10adb04fe054ff8458eeabba45ade526c;Path=/;HttpOnly;SameSite=None;Secure;Domain=mtbatch.nam.microsofttranslator.com', 'X-RequestId': '135ee55c-5b54-4563-ae6d-480b3ac2fa8f', 'Operation-Location': 'https://aidemodev-translator.cognitiveservices.azure.com/translator/text/batch/v1.0/batches/51693788-c972-48e5-9128-7b5dd88d613a', 'X-Powered-By': 'ASP.NET', 'apim-request-id': '135ee55c-5b54-4563-ae6d-480b3ac2fa8f', 'Strict-Transport-Security': 'max-age=31536000; includeSubDomains; preload', 'x-content-type-options': 'nosniff', 'Date': 'Fri, 08 Jul 2022 22:14:25 GMT'}\n"
        }
      ],
      "execution_count": 11,
      "metadata": {
        "gather": {
          "logged": 1657316724001
        }
      }
    }
  ],
  "metadata": {
    "kernel_info": {
      "name": "python38-azureml"
    },
    "kernelspec": {
      "name": "python38-azureml",
      "language": "python",
      "display_name": "Python 3.8 - AzureML"
    },
    "language_info": {
      "name": "python",
      "version": "3.8.5",
      "mimetype": "text/x-python",
      "codemirror_mode": {
        "name": "ipython",
        "version": 3
      },
      "pygments_lexer": "ipython3",
      "nbconvert_exporter": "python",
      "file_extension": ".py"
    },
    "microsoft": {
      "host": {
        "AzureML": {
          "notebookHasBeenCompleted": true
        }
      }
    },
    "nteract": {
      "version": "nteract-front-end@1.0.0"
    }
  },
  "nbformat": 4,
  "nbformat_minor": 2
}