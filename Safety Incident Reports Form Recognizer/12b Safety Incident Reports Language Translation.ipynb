{
  "cells": [
    {
      "cell_type": "markdown",
      "source": [
        "****Important – Do not use in production, for demonstration purposes only – please review the legal notices before continuing****"
      ],
      "metadata": {
        "nteract": {
          "transient": {
            "deleting": false
          }
        }
      }
    },
    {
      "cell_type": "markdown",
      "source": [
        "# Azure Translator\n",
        "\n",
        "Azure translator translates text from one language to another using the Translator REST API.\n",
        "\n",
        "\n",
        "### Overview\n",
        "*Safety Incident Reports Dataset*: The safety incident reports JSON files in languages like spanish and portuguese are translated to english using the azure translator.\n",
        "\n",
        "### Notebook Organization \n",
        "+ Fetch the injury report JSON files from a folder in spanish and portugese.\n",
        "\n",
        "+ Translate the JSON files to english by sending a post request to the azure translator service.\n",
        "\n",
        "+ Store the translated JSON files to a folder.\n"
      ],
      "metadata": {}
    },
    {
      "cell_type": "markdown",
      "source": [
        "## Importing Relevant Libraries"
      ],
      "metadata": {}
    },
    {
      "cell_type": "code",
      "source": [
        "import pandas as pd\n",
        "import requests\n",
        "import json\n",
        "import os\n",
        "from os import listdir\n",
        "from os.path import isfile, join\n",
        "import GlobalVariables as gv"
      ],
      "outputs": [],
      "execution_count": 1,
      "metadata": {}
    },
    {
      "cell_type": "markdown",
      "source": [
        "## Create Local Folders\n",
        "\n",
        "- *input-json-files* is the folder from where the input JSON files are provided to be translated into english.\n",
        "- *translated_json* consists of all the translated json files."
      ],
      "metadata": {}
    },
    {
      "cell_type": "code",
      "source": [
        "local_path = os.path.join(os.getcwd(), \"input-json-files//\")\n",
        "# *translated_json* will contain all the translated json files\n",
        "if (not os.path.isdir(os.getcwd()+\"/translated_json\")):\n",
        "    os.makedirs(os.getcwd()+\"/translated_json\")\n",
        "output_path = os.path.join(os.getcwd(), \"translated_json//\")"
      ],
      "outputs": [],
      "execution_count": 2,
      "metadata": {}
    },
    {
      "cell_type": "markdown",
      "source": [
        "## Translator Resource"
      ],
      "metadata": {}
    },
    {
      "cell_type": "code",
      "source": [
        "# Translator resource\n",
        "# Endpoint parameters for querying the translator to return the translated JSON\n",
        "url = gv.SAFETY_INCIDENT_TRANSLATION_ENDPOINT\n",
        "headers = {'Ocp-Apim-Subscription-Key': gv.SAFETY_INCIDENT_TRANSLATION_KEY,\"Content-Type\":\"application/json; charset=UTF-8\"}\n",
        "# Provide english as the language\n",
        "lang = \"en\""
      ],
      "outputs": [],
      "execution_count": 3,
      "metadata": {}
    },
    {
      "cell_type": "code",
      "source": [
        "# Total files in the input folder\n",
        "files = [f for f in listdir(os.getcwd()+\"/input-json-files\") if isfile(join(os.getcwd()+\"/input-json-files\", f))]\n",
        "len(files)\n",
        "# Loop through all the JSON files and translate them one by one\n",
        "for file in files:\n",
        "    with open(local_path+file) as f:\n",
        "        # Reading the data from the JSON file\n",
        "        data = f.readlines()\n",
        "        data = [json.loads(line) for line in data]\n",
        "        pd_data = {k.replace('_', ' ') : v for k, v in data[0].items()}\n",
        "        esp_data = json.dumps(pd_data, ensure_ascii=False).encode('utf8')\n",
        "        print(\"\\nOriginal JSON\\n\")\n",
        "        print(esp_data.decode())\n",
        "        esp_decod = esp_data.decode('utf-8')\n",
        "    # Sending a post request to the translator\n",
        "    resp = requests.post(url+lang, json=[{'Text':esp_decod}], headers = headers)\n",
        "    resp_text = json.loads(resp.text) \n",
        "    en_val=resp_text[0]['translations'][0]['text']\n",
        "    try:\n",
        "        en_dict = json.loads(en_val)\n",
        "\n",
        "    except:\n",
        "        en_str = f\"{{{en_val}}}\"\n",
        "        en_dict = json.loads(en_str)\n",
        "    print(\"\\nTranslated JSON\\n\")\n",
        "    print(en_dict)\n",
        "    # Save the translated text to a json file\n",
        "    with open(output_path+file[:-5]+\"-translated\"+\".json\", 'w') as outfile:\n",
        "        json.dump(en_dict, outfile)"
      ],
      "outputs": [
        {
          "output_type": "stream",
          "name": "stdout",
          "text": "\nOriginal JSON\n\n{\"Data do evento\": \"20/8/2019\", \"Localização\": \"Kyoto\", \"Empregador\": \"Wide World Importers\", \"Amputação\": \"1\", \"Parte do corpo\": \"unhas\", \"Narrativa Final\": \"Um empregado estava carregando uma peça em uma imprensa quando atuava, resultando na amputação dos dois dedos do meio esquerdo.\", \"CaseId\": \"202081080\", \"Fonte\": \"prensas\", \"Evento\": \"Preso em equipamentos ou máquinas em execução durante a operação regular\", \"Natureza\": \"amputações\", \"Hospitalização\": \"1\"}\n\nTranslated JSON\n\n{'Event Date': '8/20/2019', 'Location': 'Kyoto', 'Employer': 'Wide World Importers', 'Amputation': '1', 'Body Part': 'Nails', 'Final Narrative': 'An employee was carrying a piece in a press while acting, resulting in the amputation of the two fingers of the left middle.', 'CaseId': '202081080', 'Source': 'presses', 'Event': 'Stuck in equipment or machines running during regular operation', 'Nature': 'amputations', 'Hospitalization': '1'}\n\nOriginal JSON\n\n{\"Fecha del evento\": \"1/1/2015\", \"Hospitalizacion\": \"1\", \"Amputación\": \"0\", \"Evento\": \"Otros caen a un nivel inferior a menos de 6 pies\", \"Fuente\": \"tractor\", \"Naturaleza\": \"lesiones traumáticas\", \"Ubicación\": \"Stuttgart\", \"Narrativa final\": \"Un conductor de camión cayó aproximadamente 4 pies mientras bajaba la escalera de un camión cisterna. El empleado se mantuvo durante la noche esperando los resultados de la prueba.\", \"Parte del cuerpo\": \"no clasificable\", \"ID\": \"202045000\", \"Empleador\": \"Wide World Importers\"}\n\nTranslated JSON\n\n{'Date of event': '1/1/2015', 'Hospitalization': '1', 'Amputation': '0', 'Event': 'Others fall to a level below less than 6 feet', 'Source': 'tractor', 'Nature': 'traumatic injuries', 'Location': 'Stuttgart', 'Final narrative': 'A truck driver fell approximately 4 feet while lowering the ladder truck. The employee remained overnight waiting for the test results.', 'Body Part': 'Uns classifiable', 'ID': '202045000', 'Employer': 'Wide World Importers'}\n"
        }
      ],
      "execution_count": 4,
      "metadata": {}
    }
  ],
  "metadata": {
    "kernel_info": {
      "name": "python3"
    },
    "kernelspec": {
      "name": "python3",
      "language": "python",
      "display_name": "Python 3 (ipykernel)"
    },
    "language_info": {
      "name": "python",
      "version": "3.8.5",
      "mimetype": "text/x-python",
      "codemirror_mode": {
        "name": "ipython",
        "version": 3
      },
      "pygments_lexer": "ipython3",
      "nbconvert_exporter": "python",
      "file_extension": ".py"
    },
    "nteract": {
      "version": "nteract-front-end@1.0.0"
    }
  },
  "nbformat": 4,
  "nbformat_minor": 4
}